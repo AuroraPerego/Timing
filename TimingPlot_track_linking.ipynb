{
 "cells": [
  {
   "cell_type": "code",
   "execution_count": 1,
   "id": "89b7cea1",
   "metadata": {},
   "outputs": [],
   "source": [
    "import awkward as ak\n",
    "import numpy as np\n",
    "import uproot as uproot\n",
    "import matplotlib.pyplot as plt\n",
    "import mplhep as hep\n",
    "import vector as vec\n",
    "\n",
    "from utils import *\n",
    "from utilsPCA import *\n",
    "from plotting import *\n",
    "from efficiency import *\n",
    "\n",
    "import matplotlib as mpl\n",
    "\n",
    "mpl.rc('xtick', labelsize=16) \n",
    "mpl.rc('ytick', labelsize=16) \n",
    "mpl.rc('axes', labelsize=16, titlesize=20)\n",
    "\n",
    "#plt.style.use(hep.style.CMS)\n",
    "%matplotlib inline"
   ]
  },
  {
   "cell_type": "code",
   "execution_count": 2,
   "id": "46f352b5",
   "metadata": {},
   "outputs": [],
   "source": [
    "C = 29.9792458 #cm/ns"
   ]
  },
  {
   "cell_type": "code",
   "execution_count": 3,
   "id": "a6f0f272",
   "metadata": {},
   "outputs": [],
   "source": [
    "#filename = 'root_files/histo_SinglePi_3LC.root'\n",
    "filename = 'root_files/histo_singlePion_25863bf.root'\n",
    "file = uproot.open(filename)"
   ]
  },
  {
   "cell_type": "code",
   "execution_count": 4,
   "id": "c7bd9f60",
   "metadata": {},
   "outputs": [
    {
     "data": {
      "text/plain": [
       "['ticlDumper;1',\n",
       " 'ticlDumper/tracksters;1',\n",
       " 'ticlDumper/clusters;1',\n",
       " 'ticlDumper/graph;1',\n",
       " 'ticlDumper/candidates;1',\n",
       " 'ticlDumper/trackstersMerged;1',\n",
       " 'ticlDumper/associations;1',\n",
       " 'ticlDumper/simtrackstersSC;1',\n",
       " 'ticlDumper/simtrackstersCP;1',\n",
       " 'ticlDumper/tracks;1',\n",
       " 'ticlDumper/simTICLCandidate;1']"
      ]
     },
     "execution_count": 4,
     "metadata": {},
     "output_type": "execute_result"
    }
   ],
   "source": [
    "file.keys()"
   ]
  },
  {
   "cell_type": "code",
   "execution_count": 5,
   "id": "e0733d3c",
   "metadata": {},
   "outputs": [],
   "source": [
    "simtrackstersSC = file[\"ticlDumper/simtrackstersSC\"]\n",
    "simtrackstersCP = file[\"ticlDumper/simtrackstersCP\"]\n",
    "tracksters  = file[\"ticlDumper/tracksters\"]\n",
    "trackstersMerged = file[\"ticlDumper/trackstersMerged\"]\n",
    "associations = file[\"ticlDumper/associations\"]\n",
    "tracks = file[\"ticlDumper/tracks\"]\n",
    "simTICLCandidate = file[\"ticlDumper/simTICLCandidate\"]\n",
    "TICLCandidate = file[\"ticlDumper/candidates\"]\n",
    "clusters = file[\"ticlDumper/clusters\"]"
   ]
  },
  {
   "cell_type": "code",
   "execution_count": 6,
   "id": "7668f19f",
   "metadata": {},
   "outputs": [
    {
     "data": {
      "text/plain": [
       "['track_ev',\n",
       " 'track_id',\n",
       " 'track_pt',\n",
       " 'track_charge',\n",
       " 'track_time',\n",
       " 'track_time_quality',\n",
       " 'track_time_err',\n",
       " 'track_nhits']"
      ]
     },
     "execution_count": 6,
     "metadata": {},
     "output_type": "execute_result"
    }
   ],
   "source": [
    "tracks.keys()"
   ]
  },
  {
   "cell_type": "code",
   "execution_count": 7,
   "id": "5b78dae2",
   "metadata": {},
   "outputs": [],
   "source": [
    "track_pt = tracks[\"track_pt\"].array()"
   ]
  },
  {
   "cell_type": "code",
   "execution_count": 8,
   "id": "cdf56d93",
   "metadata": {},
   "outputs": [],
   "source": [
    "track_id = tracks[\"track_id\"].array()\n",
    "track_boundaryX = simtrackstersSC[\"track_boundaryX\"].array()\n",
    "track_boundaryY = simtrackstersSC[\"track_boundaryY\"].array()\n",
    "track_boundaryZ = simtrackstersSC[\"track_boundaryZ\"].array()"
   ]
  },
  {
   "cell_type": "code",
   "execution_count": 9,
   "id": "41202282",
   "metadata": {},
   "outputs": [],
   "source": [
    "cluster_number_of_hits = clusters[\"cluster_number_of_hits\"].array()\n",
    "cluster_layer_id = clusters[\"cluster_layer_id\"].array()\n",
    "cluster_type = clusters[\"cluster_type\"].array()"
   ]
  },
  {
   "cell_type": "code",
   "execution_count": 10,
   "id": "0ebe0fe1",
   "metadata": {},
   "outputs": [],
   "source": [
    "tracksters_in_candidate = TICLCandidate[\"tracksters_in_candidate\"].array()\n",
    "track_in_candidate      = TICLCandidate[\"track_in_candidate\"].array()"
   ]
  },
  {
   "cell_type": "code",
   "execution_count": 26,
   "id": "fc561ce4",
   "metadata": {},
   "outputs": [],
   "source": [
    "recoToSim_en    = associations[\"Mergetstracksters_recoToSim_SC_sharedE\"].array()\n",
    "recoToSim_score = associations[\"Mergetstracksters_recoToSim_SC_score\"].array()\n",
    "recoToSim_index = associations[\"Mergetstracksters_recoToSim_SC\"].array()\n",
    "\n",
    "simToReco_en    = associations[\"Mergetstracksters_simToReco_SC_sharedE\"].array()\n",
    "simToReco_score = associations[\"Mergetstracksters_simToReco_SC_score\"].array()\n",
    "simToReco_index = associations[\"Mergetstracksters_simToReco_SC\"].array()"
   ]
  },
  {
   "cell_type": "code",
   "execution_count": 12,
   "id": "bc7b2a4f",
   "metadata": {},
   "outputs": [],
   "source": [
    "tracksters_vx        = tracksters[\"vertices_x\"].array()\n",
    "tracksters_vy        = tracksters[\"vertices_y\"].array()\n",
    "tracksters_vz        = tracksters[\"vertices_z\"].array()\n",
    "tracksters_ve        = tracksters[\"vertices_energy\"].array()\n",
    "tracksters_vi        = tracksters[\"vertices_indexes\"].array()\n",
    "tracksters_vt        = tracksters[\"vertices_time\"].array()\n",
    "tracksters_vtErr     = tracksters[\"vertices_timeErr\"].array()\n",
    "tracksters_vm        = tracksters[\"vertices_multiplicity\"].array()\n",
    "tracksters_bx        = tracksters[\"barycenter_x\"].array()\n",
    "tracksters_by        = tracksters[\"barycenter_y\"].array()\n",
    "tracksters_bz        = tracksters[\"barycenter_z\"].array()\n",
    "tracksters_be        = tracksters[\"raw_energy\"].array()\n",
    "tracksters_CALO_time = tracksters[\"time\"].array()\n",
    "tracksters_CALO_err  = tracksters[\"timeError\"].array()\n",
    "tracksters_EVx       = tracksters[\"eVector0_x\"].array()\n",
    "tracksters_EVy       = tracksters[\"eVector0_y\"].array()\n",
    "tracksters_EVz       = tracksters[\"eVector0_z\"].array()"
   ]
  },
  {
   "cell_type": "code",
   "execution_count": 13,
   "id": "881a2f34",
   "metadata": {},
   "outputs": [],
   "source": [
    "trackstersMerged_vx          = trackstersMerged[\"vertices_x\"].array()\n",
    "trackstersMerged_vy          = trackstersMerged[\"vertices_y\"].array()\n",
    "trackstersMerged_vz          = trackstersMerged[\"vertices_z\"].array()\n",
    "trackstersMerged_ve          = trackstersMerged[\"vertices_energy\"].array()\n",
    "trackstersMerged_vi          = trackstersMerged[\"vertices_indexes\"].array()\n",
    "trackstersMerged_vt          = trackstersMerged[\"vertices_time\"].array()\n",
    "trackstersMerged_vtErr       = trackstersMerged[\"vertices_timeErr\"].array()\n",
    "trackstersMerged_vm          = trackstersMerged[\"vertices_multiplicity\"].array()\n",
    "trackstersMerged_bx          = trackstersMerged[\"barycenter_x\"].array()\n",
    "trackstersMerged_by          = trackstersMerged[\"barycenter_y\"].array()\n",
    "trackstersMerged_bz          = trackstersMerged[\"barycenter_z\"].array()\n",
    "trackstersMerged_be          = trackstersMerged[\"raw_energy\"].array()\n",
    "trackstersMerged_CALO_time   = trackstersMerged[\"time\"].array()\n",
    "trackstersMerged_CALO_err    = trackstersMerged[\"timeError\"].array()\n",
    "trackstersMerged_EVx         = trackstersMerged[\"eVector0_x\"].array()\n",
    "trackstersMerged_EVy         = trackstersMerged[\"eVector0_y\"].array()\n",
    "trackstersMerged_EVz         = trackstersMerged[\"eVector0_z\"].array()\n",
    "# trackstersMerged_MTD_time    = trackstersMerged[\"tMtd\"].array()\n",
    "# trackstersMerged_MTD_err     = trackstersMerged[\"tMtdError\"].array()\n",
    "# trackstersMerged_MTD_speed   = trackstersMerged[\"speedMtd\"].array()\n",
    "# trackstersMerged_MTD_posX    = trackstersMerged[\"tMtdPos/tMtdPos.theVector.theX\"].array()\n",
    "# trackstersMerged_MTD_posY    = trackstersMerged[\"tMtdPos/tMtdPos.theVector.theY\"].array()\n",
    "# trackstersMerged_MTD_posZ    = trackstersMerged[\"tMtdPos/tMtdPos.theVector.theZ\"].array()"
   ]
  },
  {
   "cell_type": "code",
   "execution_count": 14,
   "id": "4b25794c",
   "metadata": {},
   "outputs": [],
   "source": [
    "SC_boundx        = simtrackstersSC[\"boundaryX\"].array()\n",
    "SC_boundy        = simtrackstersSC[\"boundaryY\"].array()\n",
    "SC_boundz        = simtrackstersSC[\"boundaryZ\"].array()\n",
    "SC_vx            = simtrackstersSC[\"vertices_x\"].array()\n",
    "SC_vy            = simtrackstersSC[\"vertices_y\"].array()\n",
    "SC_vz            = simtrackstersSC[\"vertices_z\"].array()\n",
    "SC_ve            = simtrackstersSC[\"vertices_energy\"].array()\n",
    "SC_vi            = simtrackstersSC[\"vertices_indexes\"].array()\n",
    "SC_vt            = simtrackstersSC[\"vertices_time\"].array()\n",
    "SC_vtErr         = simtrackstersSC[\"vertices_timeErr\"].array()\n",
    "SC_vm            = simtrackstersSC[\"vertices_multiplicity\"].array()\n",
    "SC_bx            = simtrackstersSC[\"barycenter_x\"].array()\n",
    "SC_by            = simtrackstersSC[\"barycenter_y\"].array()\n",
    "SC_bz            = simtrackstersSC[\"barycenter_z\"].array()\n",
    "SC_be            = simtrackstersSC[\"raw_energy\"].array()\n",
    "SC_CALO_time     = simtrackstersSC[\"time\"].array()\n",
    "SC_CALO_err      = simtrackstersSC[\"timeError\"].array()\n",
    "# SC_MTD_time      = simtrackstersSC[\"tMtd\"].array()\n",
    "# SC_MTD_err       = simtrackstersSC[\"tMtdError\"].array()\n",
    "# SC_MTD_simTime   = simtrackstersSC[\"tMtdSim\"].array()\n",
    "# SC_MTD_speed     = simtrackstersSC[\"speedMtd\"].array()\n",
    "# SC_MTD_simPosX   = simtrackstersSC[\"tMtdPos/tMtdPos.theVector.theX\"].array()\n",
    "# SC_MTD_simPosY   = simtrackstersSC[\"tMtdPos/tMtdPos.theVector.theY\"].array()\n",
    "# SC_MTD_simPosZ   = simtrackstersSC[\"tMtdPos/tMtdPos.theVector.theZ\"].array()\n",
    "SC_trackIdx      = simtrackstersSC[\"trackIdx\"].array()"
   ]
  },
  {
   "cell_type": "code",
   "execution_count": 40,
   "id": "c2a19b28",
   "metadata": {},
   "outputs": [],
   "source": [
    "CP_boundx        = simtrackstersCP[\"boundaryX\"].array()\n",
    "CP_boundy        = simtrackstersCP[\"boundaryY\"].array()\n",
    "CP_boundz        = simtrackstersCP[\"boundaryZ\"].array()\n",
    "CP_vx            = simtrackstersCP[\"vertices_x\"].array()\n",
    "CP_vy            = simtrackstersCP[\"vertices_y\"].array()\n",
    "CP_vz            = simtrackstersCP[\"vertices_z\"].array()\n",
    "CP_ve            = simtrackstersCP[\"vertices_energy\"].array()\n",
    "CP_vi            = simtrackstersCP[\"vertices_indexes\"].array()\n",
    "CP_vt            = simtrackstersCP[\"vertices_time\"].array()\n",
    "CP_vtErr         = simtrackstersCP[\"vertices_timeErr\"].array()\n",
    "CP_vm            = simtrackstersCP[\"vertices_multiplicity\"].array()\n",
    "CP_bx            = simtrackstersCP[\"barycenter_x\"].array()\n",
    "CP_by            = simtrackstersCP[\"barycenter_y\"].array()\n",
    "CP_bz            = simtrackstersCP[\"barycenter_z\"].array()\n",
    "CP_be            = simtrackstersCP[\"raw_energy\"].array()\n",
    "CP_CALO_time     = simtrackstersCP[\"time\"].array()\n",
    "CP_CALO_err      = simtrackstersCP[\"timeError\"].array()\n",
    "# CP_MTD_time      = simtrackstersCP[\"tMtd\"].array()\n",
    "# CP_MTD_err       = simtrackstersCP[\"tMtdError\"].array()\n",
    "# CP_MTD_simTime   = simtrackstersCP[\"tMtdSim\"].array()\n",
    "# CP_MTD_speed     = simtrackstersCP[\"speedMtd\"].array()\n",
    "# CP_MTD_simPosX   = simtrackstersCP[\"tMtdPos/tMtdPos.theVector.theX\"].array()\n",
    "# CP_MTD_simPosY   = simtrackstersCP[\"tMtdPos/tMtdPos.theVector.theY\"].array()\n",
    "# CP_MTD_simPosZ   = simtrackstersCP[\"tMtdPos/tMtdPos.theVector.theZ\"].array()\n",
    "CP_trackIdx      = simtrackstersCP[\"trackIdx\"].array()"
   ]
  },
  {
   "cell_type": "code",
   "execution_count": 15,
   "id": "97142db9",
   "metadata": {},
   "outputs": [
    {
     "name": "stdout",
     "output_type": "stream",
     "text": [
      "There are 1000 events in the file\n"
     ]
    }
   ],
   "source": [
    "print(f'There are {len(SC_vx)} events in the file')"
   ]
  },
  {
   "cell_type": "code",
   "execution_count": null,
   "id": "1182dc76",
   "metadata": {},
   "outputs": [],
   "source": [
    "#events without mtd\n",
    "no_mtd = 0\n",
    "for i, mtd_times in enumerate(trackstersMerged_MTD_time):\n",
    "    #print(mtd_times)\n",
    "    t = mtd_times[mtd_times>0]\n",
    "    if len(t) == 0:\n",
    "        no_mtd += 1\n",
    "print(no_mtd)"
   ]
  },
  {
   "cell_type": "markdown",
   "id": "1175eca1",
   "metadata": {},
   "source": [
    "## visualization "
   ]
  },
  {
   "cell_type": "code",
   "execution_count": 17,
   "id": "823511ba",
   "metadata": {},
   "outputs": [],
   "source": [
    "color = [\"red\", \"midnightblue\", \"yellow\", \"forestgreen\", \"dodgerblue\", \"limegreen\", \"orange\", \"grey\", \"purple\", \"lightblue\", \"magenta\", \"cyan\", \"sienna\", \"lawngreen\"]*10"
   ]
  },
  {
   "cell_type": "code",
   "execution_count": 23,
   "id": "7b5003af",
   "metadata": {},
   "outputs": [],
   "source": [
    "# point is a list [x,y,z]\n",
    "\n",
    "def prop_to_bar(point, z_bar):\n",
    "    # Define a line by its direction vector and a point on it\n",
    "    line_dir = point # direction vector of the line\n",
    "    line_pt = [0, 0, 0] # a point on the line\n",
    "\n",
    "    # Define a plane by its normal vector and a point on it\n",
    "    plane_norm = [0,0,1] # normal vector of the plane\n",
    "    plane_pt = [0,0,z_bar] # a point on the plane\n",
    "\n",
    "    # Compute the dot product of the line direction and the plane normal\n",
    "    dot_prod = sum([a*b for a,b in zip(line_dir, plane_norm)])\n",
    "\n",
    "    # Check if the dot product is zero, which means the line is parallel to the plane\n",
    "    if dot_prod == 0:\n",
    "        print(\"The line is parallel to the plane. No intersection point.\")\n",
    "        return [0,0,0]\n",
    "    else:\n",
    "        # Compute the parameter t that gives the intersection point\n",
    "        t = sum([(a-b)*c for a,b,c in zip(plane_pt, line_pt, plane_norm)]) / dot_prod\n",
    "\n",
    "        # Compute the intersection point by plugging t into the line equation\n",
    "        inter_pt = [a + b*t for a,b in zip(line_pt, line_dir)]\n",
    "\n",
    "        return inter_pt"
   ]
  },
  {
   "cell_type": "code",
   "execution_count": 58,
   "id": "c7940d26",
   "metadata": {},
   "outputs": [
    {
     "data": {
      "application/vnd.jupyter.widget-view+json": {
       "model_id": "eb08e13372d744e288fbef590e6fe590",
       "version_major": 2,
       "version_minor": 0
      },
      "text/plain": [
       "Canvas(toolbar=Toolbar(toolitems=[('Home', 'Reset original view', 'home', 'home'), ('Back', 'Back to previous …"
      ]
     },
     "metadata": {},
     "output_type": "display_data"
    },
    {
     "data": {
      "application/vnd.jupyter.widget-view+json": {
       "model_id": "c73a252d73ec4141b360d10ff9b7e1e8",
       "version_major": 2,
       "version_minor": 0
      },
      "text/plain": [
       "Canvas(toolbar=Toolbar(toolitems=[('Home', 'Reset original view', 'home', 'home'), ('Back', 'Back to previous …"
      ]
     },
     "metadata": {},
     "output_type": "display_data"
    }
   ],
   "source": [
    "%matplotlib widget\n",
    "eid = 16\n",
    "tid = 1\n",
    "fig = plt.figure(figsize=(12, 12))\n",
    "ax1 = fig.add_subplot(111, projection='3d')\n",
    "#ax1.view_init(10, -45)\n",
    "\n",
    "ax1.set_xlabel(\"x (cm)\")\n",
    "ax1.set_zlabel(\"y (cm)\")\n",
    "ax1.set_ylabel(\"z (cm)\")\n",
    "\n",
    "ax1.set_xlim(-10, ak.max(SC_vx[eid][tid])) #ak.min(SC_vx[eid][tid])\n",
    "ax1.set_zlim(ak.min(SC_vy[eid][tid]), ak.max(SC_vy[eid][tid]))\n",
    "ax1.set_ylim(ak.min(SC_vz[eid][tid]), ak.max(SC_vz[eid][tid]))\n",
    "\n",
    "x_points = []\n",
    "y_points = []\n",
    "\n",
    "tx1, ty1, tz1, te1, tt1, tx2, ty2, tz2, te2, tt2 = multiplicity(SC_vx[eid], SC_vy[eid], SC_vz[eid], SC_ve[eid], SC_vt[eid], SC_vi[eid], SC_vm[eid])\n",
    "\n",
    "for i, [x, y, z, e, t] in enumerate(zip(tx2, ty2, tz2, te2, tt2)): #SC_vx[eid][tid], SC_vy[eid][tid], SC_vz[eid][tid], SC_ve[eid][tid], SC_vt[eid][tid])): #tx2, ty2, tz2, te2):\n",
    "    if (t!=-99):\n",
    "        ax1.scatter(x, z, y, s=5*e, c=\"dodgerblue\", alpha=0.7)\n",
    "        point_on_bar = prop_to_bar([x,y,z], SC_bz[eid][tid])\n",
    "        ax1.scatter(point_on_bar[0], point_on_bar[2], point_on_bar[1], c=\"red\")\n",
    "        ax1.plot([point_on_bar[0], x], [point_on_bar[2], z], [point_on_bar[1], y], c=\"#3300a3\")\n",
    "        x_points.append(point_on_bar[0])\n",
    "        y_points.append(point_on_bar[1])\n",
    "        \n",
    "a=(-10,ak.min(SC_vy[eid][tid]), SC_bz[eid][tid]) #ak.min(SC_vx[eid][tid])\n",
    "b=(ak.max(SC_vx[eid][tid]),ak.max(SC_vy[eid][tid]), SC_bz[eid][tid])\n",
    "plot_cube(a, b, ax1)\n",
    "\n",
    "ax1.scatter(SC_bx[eid][tid], SC_bz[eid][tid], SC_by[eid][tid], c=\"black\", marker=\"*\", s=20)\n",
    "ax1.set_title(f\"SimTrackster from SC\")\n",
    "plt.show()\n",
    "\n",
    "plt.figure(dpi=100)\n",
    "plt.scatter(x_points, y_points, c=\"red\")\n",
    "plt.scatter(SC_bx[eid][tid], SC_by[eid][tid], c=\"black\", marker=\"*\")\n",
    "plt.title(\"View on the layer of the barycenter\")\n",
    "plt.xlabel(\"x (cm)\")\n",
    "plt.ylabel(\"y (cm)\")\n",
    "plt.xlim(SC_bx[eid][tid]-10, SC_bx[eid][tid]+10)\n",
    "plt.ylim(SC_by[eid][tid]-10, SC_by[eid][tid]+10)\n",
    "plt.grid()\n",
    "plt.show()"
   ]
  },
  {
   "cell_type": "code",
   "execution_count": 53,
   "id": "8abae50c",
   "metadata": {},
   "outputs": [
    {
     "data": {
      "application/vnd.jupyter.widget-view+json": {
       "model_id": "1208553f296c4c4d999865092067d488",
       "version_major": 2,
       "version_minor": 0
      },
      "text/plain": [
       "Canvas(toolbar=Toolbar(toolitems=[('Home', 'Reset original view', 'home', 'home'), ('Back', 'Back to previous …"
      ]
     },
     "metadata": {},
     "output_type": "display_data"
    }
   ],
   "source": [
    "eid = 0\n",
    "\n",
    "fig = plt.figure(figsize=(12, 12))\n",
    "ax1 = fig.add_subplot(111, projection='3d')\n",
    "#ax1.view_init(10, -45)\n",
    "\n",
    "ax1.set_xlabel(\"x (cm)\")\n",
    "ax1.set_zlabel(\"y (cm)\")\n",
    "ax1.set_ylabel(\"z (cm)\")\n",
    "\n",
    "ax1.set_xlim(ak.min(SC_vx[eid]), ak.max(SC_vx[eid]))\n",
    "ax1.set_zlim(ak.min(SC_vy[eid]), ak.max(SC_vy[eid]))\n",
    "ax1.set_ylim(ak.min(SC_vz[eid]), ak.max(SC_vz[eid]))\n",
    "\n",
    "for i, [x, y, z, e] in enumerate(zip(SC_vx[eid], SC_vy[eid], SC_vz[eid], SC_ve[eid])): #tx2, ty2, tz2, te2):\n",
    "    ax1.scatter(x, z, y, s=8*e, c=color[i])\n",
    "\n",
    "ax1.set_title(f\"SimTrackster from SC\")\n",
    "plt.show()"
   ]
  },
  {
   "cell_type": "code",
   "execution_count": 349,
   "id": "bed425bb",
   "metadata": {},
   "outputs": [
    {
     "data": {
      "application/vnd.jupyter.widget-view+json": {
       "model_id": "85baf9229b38426382024b25879f34ed",
       "version_major": 2,
       "version_minor": 0
      },
      "text/plain": [
       "Canvas(toolbar=Toolbar(toolitems=[('Home', 'Reset original view', 'home', 'home'), ('Back', 'Back to previous …"
      ]
     },
     "metadata": {},
     "output_type": "display_data"
    }
   ],
   "source": [
    "fig = plt.figure(figsize=(12, 12))\n",
    "ax1 = fig.add_subplot(111, projection='3d')\n",
    "#ax1.view_init(10, -45)\n",
    "\n",
    "ax1.set_xlabel(\"x (cm)\")\n",
    "ax1.set_zlabel(\"y (cm)\")\n",
    "ax1.set_ylabel(\"z (cm)\")\n",
    "\n",
    "ax1.set_xlim(ak.min(trackstersMerged_vx[eid]), ak.max(trackstersMerged_vx[eid]))\n",
    "ax1.set_zlim(ak.min(trackstersMerged_vy[eid]), ak.max(trackstersMerged_vy[eid]))\n",
    "ax1.set_ylim(ak.min(trackstersMerged_vz[eid]), ak.max(trackstersMerged_vz[eid]))\n",
    "\n",
    "# ax1.set_xlim(ak.min(tracksters_vx[eid]), ak.max(tracksters_vx[eid]))\n",
    "# ax1.set_zlim(ak.min(tracksters_vy[eid]), ak.max(tracksters_vy[eid]))\n",
    "# ax1.set_ylim(ak.min(tracksters_vz[eid]), ak.max(tracksters_vz[eid]))\n",
    "\n",
    "for i, [x, y, z, e] in enumerate(zip(tracksters_vx[eid], tracksters_vy[eid], tracksters_vz[eid], tracksters_ve[eid])): #tx2, ty2, tz2, te2):\n",
    "    ax1.scatter(x, z, y, s=8*e, c=color[i])\n",
    "\n",
    "ax1.set_title(f\"Reco tracksters ({len(tracksters_vx[eid])} tracksters)\")\n",
    "plt.show()"
   ]
  },
  {
   "cell_type": "code",
   "execution_count": 350,
   "id": "4dc83c74",
   "metadata": {},
   "outputs": [
    {
     "data": {
      "application/vnd.jupyter.widget-view+json": {
       "model_id": "030a4f4b0779494c8621ac7da629ea3f",
       "version_major": 2,
       "version_minor": 0
      },
      "text/plain": [
       "Canvas(toolbar=Toolbar(toolitems=[('Home', 'Reset original view', 'home', 'home'), ('Back', 'Back to previous …"
      ]
     },
     "metadata": {},
     "output_type": "display_data"
    }
   ],
   "source": [
    "fig = plt.figure(figsize=(12, 12))\n",
    "ax1 = fig.add_subplot(111, projection='3d')\n",
    "#ax1.view_init(10, -45)\n",
    "\n",
    "ax1.set_xlabel(\"x (cm)\")\n",
    "ax1.set_zlabel(\"y (cm)\")\n",
    "ax1.set_ylabel(\"z (cm)\")\n",
    "\n",
    "ax1.set_xlim(ak.min(trackstersMerged_vx[eid]), ak.max(trackstersMerged_vx[eid]))\n",
    "ax1.set_zlim(ak.min(trackstersMerged_vy[eid]), ak.max(trackstersMerged_vy[eid]))\n",
    "ax1.set_ylim(ak.min(trackstersMerged_vz[eid]), ak.max(trackstersMerged_vz[eid]))\n",
    "\n",
    "for i, [x, y, z, e] in enumerate(zip(trackstersMerged_vx[eid], trackstersMerged_vy[eid], trackstersMerged_vz[eid], trackstersMerged_ve[eid])): #tx2, ty2, tz2, te2):\n",
    "    ax1.scatter(x, z, y, s=8*e, c=color[i])\n",
    "\n",
    "ax1.set_title(f\"Reco trackstersMerged ({len(trackstersMerged_vx[eid])} tracksters)\")\n",
    "plt.show()"
   ]
  },
  {
   "cell_type": "code",
   "execution_count": 351,
   "id": "cc7e6389",
   "metadata": {},
   "outputs": [],
   "source": [
    "SEGM=10"
   ]
  },
  {
   "cell_type": "code",
   "execution_count": 352,
   "id": "872612f5",
   "metadata": {},
   "outputs": [
    {
     "data": {
      "application/vnd.jupyter.widget-view+json": {
       "model_id": "bb1d8f87569246289d892f47293076f3",
       "version_major": 2,
       "version_minor": 0
      },
      "text/plain": [
       "Canvas(toolbar=Toolbar(toolitems=[('Home', 'Reset original view', 'home', 'home'), ('Back', 'Back to previous …"
      ]
     },
     "metadata": {},
     "output_type": "display_data"
    }
   ],
   "source": [
    "#%matplotlib widget\n",
    "#eid=10\n",
    "\n",
    "C = 29.9792458 #ns/cm\n",
    "\n",
    "fig = plt.figure(figsize=(12, 12))\n",
    "ax1 = fig.add_subplot(111, projection='3d')\n",
    "\n",
    "ax1.set_xlabel(\"x (cm)\")\n",
    "ax1.set_ylabel(\"z (cm)\")\n",
    "ax1.set_zlabel(\"y (cm)\")\n",
    "\n",
    "vx = tracksters_vx[eid]\n",
    "vy = tracksters_vy[eid]\n",
    "vz = tracksters_vz[eid]\n",
    "ve = tracksters_ve[eid]\n",
    "vt = tracksters_vt[eid]\n",
    "bx = tracksters_bx[eid]\n",
    "by = tracksters_by[eid]\n",
    "bz = tracksters_bz[eid]\n",
    "bt = tracksters_CALO_time[eid]\n",
    "EVx = tracksters_EVx[eid]\n",
    "EVy = tracksters_EVy[eid]   \n",
    "EVz = tracksters_EVz[eid]\n",
    "\n",
    "i=0\n",
    "for x, y, z, e, t, xb, yb, zb, tb, evx, evy, evz in zip(vx, vy, vz, ve, vt, bx, by, bz, bt, EVx, EVy, EVz): #tx2, ty2, tz2, te2):\n",
    "    for xx, yy, zz, ee, tt in zip(x[t>-99], y[t>-99], z[t>-99], e[t>-99], t[t>-99]):\n",
    "        ax1.scatter(xx, zz, yy, s=8*ee, color=color[i]) #cm.rainbow(i*100)\n",
    "        ax1.text(xx, zz, yy, '%.3f ns' % (tt) , size=12)\n",
    "    if tb > -99:\n",
    "        ax1.scatter(xb, zb, yb, s=20, c='red', marker=\"*\")\n",
    "        ax1.plot([xb-SEGM*evx, xb+SEGM*evx], [zb-SEGM*evz, zb+SEGM*evz], [yb-SEGM*evy, yb+SEGM*evy], c='red', linestyle='dashed') \n",
    "        ax1.text(xb, zb, yb, 'B: %.3f ns' % (tb), size = 12, horizontalalignment='right', verticalalignment='top', color='red')\n",
    "    i+=1\n",
    "\n",
    "ax1.set_title(f\"tracksters with time\")\n",
    "plt.show()"
   ]
  },
  {
   "cell_type": "code",
   "execution_count": 355,
   "id": "2a3ec52c",
   "metadata": {},
   "outputs": [
    {
     "data": {
      "application/vnd.jupyter.widget-view+json": {
       "model_id": "0747a869099843168a7c82785653b279",
       "version_major": 2,
       "version_minor": 0
      },
      "text/plain": [
       "Canvas(toolbar=Toolbar(toolitems=[('Home', 'Reset original view', 'home', 'home'), ('Back', 'Back to previous …"
      ]
     },
     "metadata": {},
     "output_type": "display_data"
    }
   ],
   "source": [
    "#%matplotlib widget\n",
    "#eid=10\n",
    "\n",
    "C = 29.9792458 #ns/cm\n",
    "\n",
    "fig = plt.figure(figsize=(12, 12))\n",
    "ax1 = fig.add_subplot(111, projection='3d')\n",
    "\n",
    "ax1.set_xlabel(\"x (cm)\")\n",
    "ax1.set_ylabel(\"z (cm)\")\n",
    "ax1.set_zlabel(\"y (cm)\")\n",
    "\n",
    "vx = trackstersMerged_vx[eid]\n",
    "vy = trackstersMerged_vy[eid]\n",
    "vz = trackstersMerged_vz[eid]\n",
    "ve = trackstersMerged_ve[eid]\n",
    "vt = trackstersMerged_vt[eid]\n",
    "bx = trackstersMerged_bx[eid]\n",
    "by = trackstersMerged_by[eid]\n",
    "bz = trackstersMerged_bz[eid]\n",
    "bt = trackstersMerged_CALO_time[eid]\n",
    "EVx = trackstersMerged_EVx[eid]\n",
    "EVy = trackstersMerged_EVy[eid]   \n",
    "EVz = trackstersMerged_EVz[eid]   \n",
    "MTD_time = trackstersMerged_MTD_time[eid]  \n",
    "MTD_err = trackstersMerged_MTD_err[eid]\n",
    "MTD_speed = trackstersMerged_MTD_speed[eid]  \n",
    "MTD_posX = trackstersMerged_MTD_posX[eid]\n",
    "MTD_posY = trackstersMerged_MTD_posY[eid]\n",
    "MTD_posZ = trackstersMerged_MTD_posZ[eid]\n",
    "\n",
    "i=0\n",
    "for x, y, z, e, t, xb, yb, zb, tb, evx, evy, evz in zip(vx, vy, vz, ve, vt, bx, by, bz, bt, EVx, EVy, EVz): #tx2, ty2, tz2, te2):\n",
    "    for xx, yy, zz, ee, tt in zip(x[t>-99], y[t>-99], z[t>-99], e[t>-99], t[t>-99]):\n",
    "        ax1.scatter(xx, zz, yy, s=8*ee, color=color[i]) #cm.rainbow(i*100)\n",
    "#         ax1.text(xx, zz, yy, '%.3f ns' % (tt) , size=12)\n",
    "    if tb > -99:\n",
    "        ax1.scatter(xb, zb, yb, s=20, c='red', marker=\"*\")\n",
    "        ax1.plot([xb-SEGM*evx, xb+SEGM*evx], [zb-SEGM*evz, zb+SEGM*evz], [yb-SEGM*evy, yb+SEGM*evy], c='black', linestyle='dashed', alpha=0.5) \n",
    "        ax1.text(xb, zb, yb, 'B: %.3f ns' % (tb), size = 12, horizontalalignment='right', verticalalignment='top', color='red')\n",
    "    i+=1\n",
    "\n",
    "        \n",
    "# draw ETL\n",
    "# draw ETL\n",
    "sign = vz[0][0] / abs(vz[0][0])\n",
    "a = (min(ak.min(vx), ak.min(MTD_posX[MTD_time>0])), min(ak.min(vy), ak.min(MTD_posY[MTD_time>0])), sign*299)  # p1\n",
    "b = (max(ak.max(vx), ak.max(MTD_posX[MTD_time>0])), max(ak.max(vy), ak.max(MTD_posY[MTD_time>0])), sign*303)  # p2\n",
    "\n",
    "plot_cube(a, b, ax1)\n",
    "\n",
    "for t, x, y, z in zip(MTD_time, MTD_posX, MTD_posY, MTD_posZ):\n",
    "    if t>0:\n",
    "        ax1.scatter(x, z, y, s=20, c='midnightblue', marker=\"s\")\n",
    "        ax1.text(x, z, y, '%.3f ns' % (t), size = 12, horizontalalignment='right', verticalalignment='top', color='midnightblue')\n",
    "        \n",
    "ax1.set_title(f\"trackstersMerged with time\")\n",
    "plt.show()"
   ]
  },
  {
   "cell_type": "code",
   "execution_count": 354,
   "id": "551ee053",
   "metadata": {},
   "outputs": [
    {
     "name": "stdout",
     "output_type": "stream",
     "text": [
      "[-99.0, -99.0, -99.0]\n",
      "[-99.0, -99.0, -99.0, -99.0]\n"
     ]
    }
   ],
   "source": [
    "#loop over tkMerged\n",
    "for tkMerged in range(len(bx)):\n",
    "    if MTD_time[tkMerged] > 0:\n",
    "        tk_ids = tracksters_in_candidate[eid][tkMerged]\n",
    "        print([tracksters_CALO_time[eid][i] for i in tk_ids])\n",
    "        # print(trackstersMerged_CALO_time[eid][tkMerged])"
   ]
  },
  {
   "cell_type": "code",
   "execution_count": 358,
   "id": "70a54dc1",
   "metadata": {},
   "outputs": [
    {
     "data": {
      "application/vnd.jupyter.widget-view+json": {
       "model_id": "cd7ae855f19643a2b35893d84915a0df",
       "version_major": 2,
       "version_minor": 0
      },
      "text/plain": [
       "Canvas(toolbar=Toolbar(toolitems=[('Home', 'Reset original view', 'home', 'home'), ('Back', 'Back to previous …"
      ]
     },
     "metadata": {},
     "output_type": "display_data"
    }
   ],
   "source": [
    "#%matplotlib widget\n",
    "#eid=10\n",
    "\n",
    "C = 29.9792458 #ns/cm\n",
    "\n",
    "fig = plt.figure(figsize=(12, 12))\n",
    "ax1 = fig.add_subplot(111, projection='3d')\n",
    "\n",
    "ax1.set_xlabel(\"x (cm)\")\n",
    "ax1.set_ylabel(\"z (cm)\")\n",
    "ax1.set_zlabel(\"y (cm)\")\n",
    "\n",
    "vx = tracksters_vx[eid]\n",
    "vy = tracksters_vy[eid]\n",
    "vz = tracksters_vz[eid]\n",
    "ve = tracksters_ve[eid]\n",
    "vt = tracksters_vt[eid]\n",
    "bx = tracksters_bx[eid]\n",
    "by = tracksters_by[eid]\n",
    "bz = tracksters_bz[eid]\n",
    "bt = tracksters_CALO_time[eid]\n",
    "EVx = tracksters_EVx[eid]\n",
    "EVy = tracksters_EVy[eid]   \n",
    "EVz = tracksters_EVz[eid]\n",
    "\n",
    "i=0\n",
    "for tkMerged in range(len(trackstersMerged_bx[eid])):\n",
    "    if trackstersMerged_MTD_time[eid][tkMerged] > 0:\n",
    "        tk_ids = tracksters_in_candidate[eid][tkMerged]\n",
    "\n",
    "        for j, [x, y, z, e, t, xb, yb, zb, tb, evx, evy, evz] in enumerate(zip(vx, vy, vz, ve, vt, bx, by, bz, bt, EVx, EVy, EVz)): #tx2, ty2, tz2, te2):\n",
    "#             print(j, tk_ids)\n",
    "            if j in tk_ids:\n",
    "                for xx, yy, zz, ee, tt in zip(x, y, z, e, t):\n",
    "                    #print(xx, zz, yy, tt)\n",
    "                    ax1.scatter(xx, zz, yy, s=8*ee, color=color[i*3]) #cm.rainbow(i*100)\n",
    "                    #ax1.text(xx, zz, yy, '%.3f ns' % (tt) , size=12)\n",
    "                if tb > -99:\n",
    "                    ax1.scatter(xb, zb, yb, s=20, c='red', marker=\"*\")\n",
    "                    ax1.plot([xb-SEGM*evx, xb+SEGM*evx], [zb-SEGM*evz, zb+SEGM*evz], [yb-SEGM*evy, yb+SEGM*evy], c='red', linestyle='dashed') \n",
    "                    ax1.text(xb, zb, yb, 'B: %.3f ns' % (tb), size = 12, horizontalalignment='right', verticalalignment='top', color='red')\n",
    "        i+=1\n",
    "\n",
    "ax1.set_title(f\"tracksters linked to track\")\n",
    "plt.show()"
   ]
  },
  {
   "cell_type": "markdown",
   "id": "0b1a833b",
   "metadata": {},
   "source": [
    "## track association"
   ]
  },
  {
   "cell_type": "code",
   "execution_count": 16,
   "id": "b7bdfa74",
   "metadata": {},
   "outputs": [],
   "source": [
    "def find_track_in_candidate(j, TICLtracks):\n",
    "    for i, trk in enumerate(TICLtracks):\n",
    "        try:\n",
    "            j = np.where(trk==j)[0][0]\n",
    "            return i\n",
    "        except: \n",
    "            continue\n",
    "    return -1 #should not get here"
   ]
  },
  {
   "cell_type": "code",
   "execution_count": 30,
   "id": "784eadfd",
   "metadata": {},
   "outputs": [
    {
     "name": "stdout",
     "output_type": "stream",
     "text": [
      "27 1241.150146484375\n",
      "27 1179.6627197265625\n",
      "39 1027.099609375\n",
      "137 1176.7462158203125\n",
      "143 1037.820068359375\n",
      "151 1121.041015625\n",
      "151 1106.1270751953125\n",
      "176 1096.6982421875\n",
      "207 1212.512451171875\n",
      "211 1328.923095703125\n",
      "211 1290.39208984375\n",
      "275 1044.1982421875\n",
      "275 1055.863525390625\n",
      "299 1048.3775634765625\n",
      "299 1015.8849487304688\n",
      "576 1145.7005615234375\n",
      "576 1123.95947265625\n",
      "602 1097.5919189453125\n",
      "622 1096.819091796875\n",
      "624 1002.308349609375\n",
      "649 1119.790283203125\n",
      "690 1236.3385009765625\n",
      "690 1070.474853515625\n",
      "712 1006.1862182617188\n",
      "739 1066.064697265625\n",
      "882 1118.860107421875\n",
      "935 1000.7897338867188\n",
      "935 1086.624755859375\n"
     ]
    }
   ],
   "source": [
    "# efficiency using reco to sim WRONG: USE SIM TO RECO\n",
    "# loop on STs' tracks\n",
    "# take the candidate associated to the track (skip if candidate empty)\n",
    "# check (using energy associator) the ST associated to the tracksters in the candidate\n",
    "all_energy = []\n",
    "empty_but_reco_is_there = []\n",
    "empty = []\n",
    "reco_but_not_sim = [] \n",
    "wrong_energy = [] \n",
    "ok_energy = []\n",
    "\n",
    "ok=0\n",
    "den=0\n",
    "for ev in range(1000): \n",
    "#     print(\"----\")\n",
    "#     print(\"cand \", tracksters_in_candidate[ev])\n",
    "#     print(\"tracks \", track_in_candidate[ev])\n",
    "#     print(\"score \", recoToSim_score[ev])\n",
    "#     print(\"score idx \", recoToSim_index[ev])\n",
    "    for s, tkIdx in enumerate(SC_trackIdx[ev]):\n",
    "        if tkIdx == -1:\n",
    "            continue # no reco track associated to simTrackster\n",
    "        try:\n",
    "#            print(track_id[ev], tkIdx)\n",
    "            id_in_trkColl = np.where(track_id[ev] == tkIdx)[0][0]\n",
    "        except:\n",
    "            # tsos was not valid\n",
    "            continue\n",
    "        if track_pt[ev][id_in_trkColl] < 2: # GeV\n",
    "            continue\n",
    "        all_energy.append(SC_be[ev][s])  \n",
    "        den+=1\n",
    "        cand_track = find_track_in_candidate(tkIdx, track_in_candidate[ev])\n",
    "        cand = tracksters_in_candidate[ev][cand_track]\n",
    "        if len(cand) == 0:\n",
    "            # vedere se c'è un reco associato al sim simtoreco < 0.35\n",
    "            s2r_score = simToReco_score[ev][s]\n",
    "            if min(s2r_score) < 0.35:\n",
    "                empty_but_reco_is_there.append(SC_be[ev][s])\n",
    "                if SC_be[ev][s] > 1000:\n",
    "                    print(ev, SC_be[ev][s])\n",
    "            else:\n",
    "                empty.append(SC_be[ev][s])  \n",
    "            continue # empty candidate -> only track in candidate\n",
    "\n",
    "        #for r, tks in enumerate(cand):\n",
    "        ass = recoToSim_score[ev][cand_track]\n",
    "        s_min = np.argmin(ass)\n",
    "        if recoToSim_score[ev][cand_track][s_min]>0.35:\n",
    "#             print(\"reco not associated to sim\")\n",
    "            reco_but_not_sim.append(SC_be[ev][s])\n",
    "            continue\n",
    "        s_assoc = recoToSim_index[ev][cand_track][s_min]\n",
    "        if s==s_assoc:\n",
    "            ok += 1\n",
    "            ok_energy.append(SC_be[ev][s])\n",
    "        else:\n",
    "            wrong_energy.append(SC_be[ev][s])"
   ]
  },
  {
   "cell_type": "code",
   "execution_count": 28,
   "id": "85cf0b1a",
   "metadata": {},
   "outputs": [
    {
     "name": "stdout",
     "output_type": "stream",
     "text": [
      "0.7014613778705637\n"
     ]
    }
   ],
   "source": [
    "eff = ok/den\n",
    "print(eff)\n",
    "# it's so high bc there is no cut on the association"
   ]
  },
  {
   "cell_type": "code",
   "execution_count": 29,
   "id": "eedbb1ab",
   "metadata": {},
   "outputs": [
    {
     "data": {
      "image/png": "[encoded data removed]",
      "text/plain": [
       "<Figure size 864x576 with 1 Axes>"
      ]
     },
     "metadata": {
      "needs_background": "light"
     },
     "output_type": "display_data"
    }
   ],
   "source": [
    "plt.figure(figsize=(12,8))\n",
    "#plt.hist(all_energy, label=\"all\", color=\"red\", alpha=0.5, bins=30, range=(min(min(all_energy), min(wrong_energy)), max(max(all_energy), max(wrong_energy))), stacked=False)\n",
    "# plt.hist( label=\"not matched\", color=\"orange\", bins=30, range=(min(min(all_energy), min(wrong_energy)), max(max(all_energy), max(wrong_energy))), stacked=True)\n",
    "# plt.hist(wrong_energy, label=\"wrong match\", color=\"blue\", histtype=\"step\", bins=30, range=(min(min(all_energy), min(wrong_energy)), max(max(all_energy), max(wrong_energy))), stacked=True)\n",
    "\n",
    "plt.hist([empty_but_reco_is_there, empty, reco_but_not_sim, wrong_energy, ok_energy],\n",
    "         label=[\"empty candidate but reco assoc to sim\", \"empty candidate\", \"recoTrackster not matched with simTrackster\", \"wrong match with the track\", \"correct match with the track\"], \n",
    "         color=[\"red\",\"midnightblue\", \"yellow\", \"limegreen\",\"dodgerblue\"], \n",
    "         bins=30, \n",
    "         range=(min(all_energy), max(all_energy)), \n",
    "         stacked=True)\n",
    "\n",
    "plt.grid()\n",
    "plt.legend()\n",
    "plt.title('SimTracksters from SC with recoTrack (pT> 2 Gev) energy')\n",
    "plt.xlabel('E (GeV)', size=18)\n",
    "plt.ylabel('Counts / bin', size=18)\n",
    "plt.show()"
   ]
  },
  {
   "cell_type": "code",
   "execution_count": null,
   "id": "e01139f0",
   "metadata": {
    "scrolled": true
   },
   "outputs": [],
   "source": [
    "for ev in range(100):\n",
    "    try:\n",
    "        if ak.all(np.sort(track_in_candidate[track_in_candidate<4294967295][ev])!=np.sort(track_id[ev])) or ak.all(np.sort(SC_trackIdx[ev])!=np.sort(track_id[ev])):\n",
    "            print(track_in_candidate[track_in_candidate<4294967295][ev])\n",
    "            print(track_id[ev])\n",
    "            print(SC_trackIdx[ev])\n",
    "            print(\"-------\")\n",
    "    except:\n",
    "        print(track_in_candidate[track_in_candidate<4294967295][ev])\n",
    "        print(track_id[ev])\n",
    "        print(SC_trackIdx[ev])\n",
    "        print(\"-------\")    "
   ]
  },
  {
   "cell_type": "code",
   "execution_count": 17,
   "id": "9f9c35d6",
   "metadata": {},
   "outputs": [
    {
     "name": "stdout",
     "output_type": "stream",
     "text": [
      "0.9835641071749686\n"
     ]
    }
   ],
   "source": [
    "# loop on tracks associated to candidates\n",
    "# check if candidate is empty\n",
    "ok=0\n",
    "not_ok=0\n",
    "for ev in range(1000): \n",
    "#     print(track_in_candidate[ev])\n",
    "#     print(tracksters_in_candidate[ev])\n",
    "    for s, tkIdx in enumerate(track_in_candidate[ev]):\n",
    "#         print(tkIdx)\n",
    "        if tkIdx == 4294967295:\n",
    "            continue # no reco track associated to simTrackster\n",
    "            \n",
    "        cand = tracksters_in_candidate[ev][s]\n",
    "\n",
    "        if len(cand) == 0:\n",
    "            not_ok += 1\n",
    "#             print(\"not ok\")\n",
    "        else:\n",
    "            ok += 1\n",
    "#             print(\"ok\")\n",
    "\n",
    "print(ok / (ok + not_ok))"
   ]
  },
  {
   "cell_type": "code",
   "execution_count": 318,
   "id": "789e5e64",
   "metadata": {},
   "outputs": [],
   "source": [
    "# check that the only LC with one hit are in the scintillator\n",
    "# OK if it does not print anything\n",
    "\n",
    "ok = 0\n",
    "for ev in range(1000): \n",
    "    for s, tkIdx in enumerate(SC_trackIdx[ev]):\n",
    "        indices = SC_vi[ev][s]\n",
    "        if len(indices)>0:\n",
    "            mask = np.where(cluster_number_of_hits[ev][indices]==1)[0]\n",
    "            positions = ([pos for pos in cluster_type[ev][indices][mask] if pos!=8])\n",
    "            if len(positions)>0:\n",
    "                print(positions)\n",
    "#             print(cluster_number_of_hits[ev][indices][mask])\n",
    "#             print(cluster_layer_id[ev][indices][mask])\n",
    "#             print(\"---\")"
   ]
  },
  {
   "cell_type": "code",
   "execution_count": 18,
   "id": "76db9d67",
   "metadata": {},
   "outputs": [],
   "source": [
    "# efficiency using sim to reco\n",
    "# loop on STs' tracks and match to reco tkMerge using the score (0.35)\n",
    "# check if at least one of the associated tkMerge is associated to the same track\n",
    "\n",
    "ok=0\n",
    "den=0\n",
    "for ev in range(1000): \n",
    "    for s, tkIdx in enumerate(SC_trackIdx[ev]):\n",
    "        if tkIdx == -1:\n",
    "            continue # no reco track associated to simTrackster\n",
    "        try:\n",
    "#            print(track_id[ev], tkIdx)\n",
    "            id_in_trkColl = np.where(track_id[ev] == tkIdx)[0][0]\n",
    "        except:\n",
    "            continue\n",
    "        #print(tkIdx, track_pt[ev], track_id[ev])\n",
    "        if track_pt[ev][id_in_trkColl] < 2: # GeV\n",
    "            continue\n",
    "        s2r_score = simToReco_score[ev][s]\n",
    "        matched = False\n",
    "        for i, score in enumerate(s2r_score):\n",
    "            if score > 0.35:\n",
    "                continue\n",
    "            idx = simToReco_index[ev][s][i]\n",
    "            track = track_in_candidate[ev][idx]\n",
    "#             if len(tracksters_in_candidate[ev][idx])==0:\n",
    "#                 continue\n",
    "            if tkIdx==track:\n",
    "                matched = True\n",
    "                break\n",
    "        den+=1\n",
    "        if matched:\n",
    "            ok += 1"
   ]
  },
  {
   "cell_type": "code",
   "execution_count": 19,
   "id": "63e1ffe8",
   "metadata": {},
   "outputs": [
    {
     "name": "stdout",
     "output_type": "stream",
     "text": [
      "0.3376826722338205\n"
     ]
    }
   ],
   "source": [
    "eff = ok/den\n",
    "print(eff)"
   ]
  },
  {
   "cell_type": "code",
   "execution_count": 20,
   "id": "d6af231c",
   "metadata": {},
   "outputs": [],
   "source": [
    "# efficiency using sim to reco\n",
    "# loop on STs' tracks and match to reco tkMerge using the lowest score\n",
    "# check if at least one of the associated tkMerge is associated to the same track\n",
    "\n",
    "ok=0\n",
    "den=0\n",
    "for ev in range(1000): \n",
    "    for s, tkIdx in enumerate(SC_trackIdx[ev]):\n",
    "        if tkIdx == -1:\n",
    "            continue # no reco track associated to simTrackster\n",
    "        min_score = np.argmin(simToReco_score[ev][s])\n",
    "        idx = simToReco_index[ev][s][min_score]\n",
    "        if len(tracksters_in_candidate[ev][idx])==0:\n",
    "            continue\n",
    "        track = track_in_candidate[ev][idx]\n",
    "        if tkIdx==track:\n",
    "            ok += 1\n",
    "        den+=1"
   ]
  },
  {
   "cell_type": "code",
   "execution_count": 21,
   "id": "825f19dd",
   "metadata": {},
   "outputs": [
    {
     "name": "stdout",
     "output_type": "stream",
     "text": [
      "0.3638132295719844\n"
     ]
    }
   ],
   "source": [
    "eff = ok/den\n",
    "print(eff)"
   ]
  },
  {
   "cell_type": "code",
   "execution_count": 22,
   "id": "dc4d31ea",
   "metadata": {},
   "outputs": [],
   "source": [
    "# efficiency using sim to reco \n",
    "# loop on STs' tracks and match to reco tkMerge using the energy (0.3 cut)\n",
    "# check if at least one of the associated tkMerge is associated to the same track\n",
    "\n",
    "ok=0\n",
    "den=0\n",
    "for ev in range(1000): \n",
    "    for s, tkIdx in enumerate(SC_trackIdx[ev]):\n",
    "        if tkIdx == -1 or SC_be[ev][s]==0:\n",
    "            continue # no reco track associated to simTrackster\n",
    "        try:\n",
    "#            print(track_id[ev], tkIdx)\n",
    "            id_in_trkColl = np.where(track_id[ev] == tkIdx)[0][0]\n",
    "        except:\n",
    "            continue\n",
    "        #print(tkIdx, track_pt[ev], track_id[ev])\n",
    "        if track_pt[ev][id_in_trkColl] < 2: # GeV\n",
    "            continue\n",
    "        s2r_en = simToReco_en[ev][s]\n",
    "        matched = False\n",
    "        for i, score in enumerate(s2r_en):\n",
    "            score = score / SC_be[ev][s]\n",
    "            if score < 0.2:\n",
    "                continue\n",
    "            idx = simToReco_index[ev][s][i]\n",
    "            track = track_in_candidate[ev][idx]\n",
    "            if len(tracksters_in_candidate[ev][idx])==0:\n",
    "                continue\n",
    "            if tkIdx==track:\n",
    "                matched = True\n",
    "                break\n",
    "        den+=1\n",
    "        if matched:\n",
    "            ok += 1"
   ]
  },
  {
   "cell_type": "code",
   "execution_count": 23,
   "id": "dd28e642",
   "metadata": {},
   "outputs": [
    {
     "name": "stdout",
     "output_type": "stream",
     "text": [
      "0.3935281837160752\n"
     ]
    }
   ],
   "source": [
    "eff = ok/den\n",
    "print(eff)"
   ]
  },
  {
   "cell_type": "code",
   "execution_count": null,
   "id": "75a21b0c",
   "metadata": {},
   "outputs": [],
   "source": [
    "# tracksters energy\n",
    "\n",
    "all_energy=[]\n",
    "wrong_energy=[]\n",
    "not_matched_energy=[]\n",
    "ok_energy=[]\n",
    "recoTs_no_trk_energy = []\n",
    "for ev in range(1000): \n",
    "    for s, tkIdx in enumerate(SC_trackIdx[ev]):\n",
    "        if tkIdx == -1:\n",
    "            continue # no reco track associated to simTrackster\n",
    "        try:\n",
    "            id_in_trkColl = np.where(track_id[ev] == tkIdx)[0][0]\n",
    "        except:\n",
    "            continue\n",
    "        if track_pt[ev][id_in_trkColl] < 2: # GeV\n",
    "            continue\n",
    "        print(f'Considering {tkIdx}')\n",
    "        s2r_score = simToReco_score[ev][s]\n",
    "        matched = False\n",
    "        all_energy.append(SC_be[ev][s])\n",
    "        if min(s2r_score)>0.35:\n",
    "            not_matched_energy.append(SC_be[ev][s])\n",
    "            break\n",
    "        print(f'with scores {s2r_score}')\n",
    "        tracks = []\n",
    "        for i, score in enumerate(s2r_score):\n",
    "            if score > 0.35:\n",
    "                continue\n",
    "            idx = simToReco_index[ev][s][i]\n",
    "            track = track_in_candidate[ev][idx]\n",
    "#             print(f'score: {score}, track: {track}')\n",
    "            tracks.append(track)\n",
    "            if tkIdx==track:\n",
    "                matched = True\n",
    "                break\n",
    "        if not matched:\n",
    "            if all(t == -1 for t in tracks):\n",
    "#                 print(\"no match\")\n",
    "                recoTs_no_trk_energy.append(SC_be[ev][s])\n",
    "            else:\n",
    "                print(\"wrong match\")\n",
    "                wrong_energy.append(SC_be[ev][s])\n",
    "        else:\n",
    "#             print(\"correct match\")\n",
    "            ok_energy.append(SC_be[ev][s])\n",
    "            "
   ]
  },
  {
   "cell_type": "code",
   "execution_count": 25,
   "id": "3a191f16",
   "metadata": {},
   "outputs": [
    {
     "data": {
      "image/png": "[encoded data removed]",
      "text/plain": [
       "<Figure size 864x576 with 1 Axes>"
      ]
     },
     "metadata": {
      "needs_background": "light"
     },
     "output_type": "display_data"
    }
   ],
   "source": [
    "plt.figure(figsize=(12,8))\n",
    "#plt.hist(all_energy, label=\"all\", color=\"red\", alpha=0.5, bins=30, range=(min(min(all_energy), min(wrong_energy)), max(max(all_energy), max(wrong_energy))), stacked=False)\n",
    "# plt.hist( label=\"not matched\", color=\"orange\", bins=30, range=(min(min(all_energy), min(wrong_energy)), max(max(all_energy), max(wrong_energy))), stacked=True)\n",
    "# plt.hist(wrong_energy, label=\"wrong match\", color=\"blue\", histtype=\"step\", bins=30, range=(min(min(all_energy), min(wrong_energy)), max(max(all_energy), max(wrong_energy))), stacked=True)\n",
    "\n",
    "plt.hist([not_matched_energy, wrong_energy, recoTs_no_trk_energy, ok_energy],\n",
    "         label=[\"simTrackster not matched with recoTrackster\", \"wrong match with the track\", \"recoTrackster without track\", \"correct match with the track\"], \n",
    "         color=[\"red\",\"yellow\", \"limegreen\",\"blue\"], \n",
    "         bins=30, \n",
    "         range=(min(all_energy), max(all_energy)), \n",
    "         stacked=True)\n",
    "\n",
    "plt.grid()\n",
    "plt.legend()\n",
    "plt.title('SimTracksters from SC with recoTrack (pT> 2 Gev) energy')\n",
    "plt.xlabel('E (GeV)', size=18)\n",
    "plt.ylabel('Counts / bin', size=18)\n",
    "plt.show()"
   ]
  },
  {
   "cell_type": "code",
   "execution_count": null,
   "id": "9a02c2f3",
   "metadata": {},
   "outputs": [],
   "source": [
    "for ev in range(1000): \n",
    "    print(\"-----\")\n",
    "    print(\"number of tracks \", len(SC_trackIdx[ev]))\n",
    "    for s, tkIdx in enumerate(SC_trackIdx[ev]):\n",
    "        if tkIdx == -1:\n",
    "            continue # no reco track associated to simTrackster\n",
    "        print(track_boundaryX[ev][s], track_boundaryY[ev][s], track_boundaryZ[ev][s])"
   ]
  },
  {
   "cell_type": "markdown",
   "id": "a2dd1a6d",
   "metadata": {},
   "source": [
    "## plots"
   ]
  },
  {
   "cell_type": "code",
   "execution_count": 41,
   "id": "d1295cfd",
   "metadata": {},
   "outputs": [
    {
     "data": {
      "image/png": "[encoded data removed]",
      "text/plain": [
       "<Figure size 600x400 with 1 Axes>"
      ]
     },
     "metadata": {
      "needs_background": "light"
     },
     "output_type": "display_data"
    }
   ],
   "source": [
    "plt.figure(dpi=100)\n",
    "rmin = min(ak.min(tracksters_CALO_time[tracksters_CALO_time>-99]), ak.min(trackstersMerged_CALO_time[trackstersMerged_CALO_time>-99]))\n",
    "rmax = max(ak.max(tracksters_CALO_time[tracksters_CALO_time>-99]), ak.max(trackstersMerged_CALO_time[trackstersMerged_CALO_time>-99]))\n",
    "plt.hist(ak.flatten(tracksters_CALO_time[tracksters_CALO_time>-99]), bins=40, alpha=.5, label=\"reco tracksters\", range=(rmin,rmax))\n",
    "plt.hist(ak.flatten(trackstersMerged_CALO_time[trackstersMerged_CALO_time>-99]), bins=40, color=\"red\", histtype=\"step\", label=\"trackstersMerged\", range=(rmin,rmax))\n",
    "plt.hist(ak.flatten(SC_CALO_time[SC_CALO_time>-99]), bins=40, color=\"forestgreen\", histtype=\"step\", label=\"simTracksters from SC\", range=(rmin,rmax), hatch=\"//\")\n",
    "plt.hist(ak.flatten(CP_CALO_time[CP_CALO_time>-99]), bins=40, color=\"orange\", histtype=\"step\", label=\"simTracksters from CP\", range=(rmin,rmax), hatch=\"XX\")\n",
    "plt.grid()\n",
    "plt.legend()\n",
    "plt.title('Tracksters time')\n",
    "plt.xlabel('t (ns)', size=18)\n",
    "plt.ylabel('Counts / bin', size=18)\n",
    "plt.show()"
   ]
  },
  {
   "cell_type": "code",
   "execution_count": 223,
   "id": "38fc4abe",
   "metadata": {},
   "outputs": [
    {
     "data": {
      "application/vnd.jupyter.widget-view+json": {
       "model_id": "cd97c173651d4aa794363cf980422dc5",
       "version_major": 2,
       "version_minor": 0
      },
      "text/plain": [
       "Canvas(toolbar=Toolbar(toolitems=[('Home', 'Reset original view', 'home', 'home'), ('Back', 'Back to previous …"
      ]
     },
     "metadata": {},
     "output_type": "display_data"
    }
   ],
   "source": [
    "massimo = max(ak.count(track_id, axis=1))\n",
    "nphist(ak.count(track_id, axis=1), bins=massimo+1, title=\"number of tracks\", xlabel=\"# tracks\")"
   ]
  },
  {
   "cell_type": "code",
   "execution_count": 102,
   "id": "9af91ddc",
   "metadata": {},
   "outputs": [],
   "source": [
    "# #TODO\n",
    "# -keep/remove link tk-trk based on time compatibility\n",
    "# -create new link tk-trk based on mtd"
   ]
  },
  {
   "cell_type": "code",
   "execution_count": null,
   "id": "2015eb98",
   "metadata": {},
   "outputs": [],
   "source": []
  }
 ],
 "metadata": {
  "@webio": {
   "lastCommId": null,
   "lastKernelId": null
  },
  "kernelspec": {
   "display_name": "Python 3",
   "language": "python",
   "name": "python3"
  },
  "language_info": {
   "codemirror_mode": {
    "name": "ipython",
    "version": 3
   },
   "file_extension": ".py",
   "mimetype": "text/x-python",
   "name": "python",
   "nbconvert_exporter": "python",
   "pygments_lexer": "ipython3",
   "version": "3.9.12"
  }
 },
 "nbformat": 4,
 "nbformat_minor": 5
}
