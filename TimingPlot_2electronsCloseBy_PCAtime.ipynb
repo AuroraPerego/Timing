{
 "cells": [
  {
   "cell_type": "code",
   "execution_count": 1,
   "id": "89b7cea1",
   "metadata": {},
   "outputs": [],
   "source": [
    "import awkward as ak\n",
    "import numpy as np\n",
    "import uproot as uproot\n",
    "import matplotlib.pyplot as plt\n",
    "import mplhep as hep\n",
    "import vector as vec\n",
    "\n",
    "from utils import *\n",
    "from plotting import *\n",
    "\n",
    "import matplotlib\n",
    "\n",
    "matplotlib.rc('xtick', labelsize=16) \n",
    "matplotlib.rc('ytick', labelsize=16) \n",
    "matplotlib.rc('axes', labelsize=16, titlesize=20)\n",
    "\n",
    "#plt.style.use(hep.style.CMS)\n",
    "%matplotlib inline"
   ]
  },
  {
   "cell_type": "code",
   "execution_count": 2,
   "id": "46f352b5",
   "metadata": {},
   "outputs": [],
   "source": [
    "C = 29.9792458 #cm/ns"
   ]
  },
  {
   "cell_type": "code",
   "execution_count": 3,
   "id": "7b32a64f",
   "metadata": {},
   "outputs": [],
   "source": [
    "#filename = 'root_files/histo_2Electrons_20893_mtdclusters.root'\n",
    "#filename = 'root_files/histo_2Electrons_20893_etl_500ps.root'\n",
    "#filename = 'root_files/histo_2Electrons_20893_etl_500ps_noOff.root'\n",
    "# filename = 'root_files/histo_2Electrons_20893_etl_500ps_noOff_100GeV.root'\n",
    "filename = 'root_files/histo_2Electrons_20893_boundary.root'\n",
    "#filename = 'root_files/histo_2Photons_1stLayerHGCal.root'\n",
    "file = uproot.open(filename)"
   ]
  },
  {
   "cell_type": "code",
   "execution_count": 4,
   "id": "0c023ff2",
   "metadata": {},
   "outputs": [],
   "source": [
    "simtrackstersSC = file[\"ticlNtuplizer/simtrackstersSC\"]\n",
    "simtrackstersCP = file[\"ticlNtuplizer/simtrackstersCP\"]\n",
    "ETLclusters = file[\"ticlNtuplizer/ETL\"]\n",
    "clusters = file[\"ticlNtuplizer/clusters\"]"
   ]
  },
  {
   "cell_type": "code",
   "execution_count": 5,
   "id": "96bf2e48",
   "metadata": {},
   "outputs": [
    {
     "data": {
      "text/plain": [
       "['mtd_clusters_time', 'mtd_clusters_timeErr']"
      ]
     },
     "execution_count": 5,
     "metadata": {},
     "output_type": "execute_result"
    }
   ],
   "source": [
    "ETLclusters.keys()"
   ]
  },
  {
   "cell_type": "code",
   "execution_count": 6,
   "id": "8adc8d19",
   "metadata": {},
   "outputs": [],
   "source": [
    "CP_boundx = simtrackstersCP[\"boundaryX\"].array()\n",
    "CP_boundy = simtrackstersCP[\"boundaryY\"].array()\n",
    "CP_boundz = simtrackstersCP[\"boundaryZ\"].array()\n",
    "\n",
    "SC_boundx = simtrackstersSC[\"boundaryX\"].array()\n",
    "SC_boundy = simtrackstersSC[\"boundaryY\"].array()\n",
    "SC_boundz = simtrackstersSC[\"boundaryZ\"].array()"
   ]
  },
  {
   "cell_type": "code",
   "execution_count": 7,
   "id": "80de1b68",
   "metadata": {},
   "outputs": [],
   "source": [
    "ETL_time    = ETLclusters[\"mtd_clusters_time\"].array()\n",
    "ETL_timeErr = ETLclusters[\"mtd_clusters_timeErr\"].array()\n",
    "\n",
    "# ETL_vx = ETLclusters[\"mtd_clusters_x\"].array()\n",
    "# ETL_vy = ETLclusters[\"mtd_clusters_y\"].array()\n",
    "# ETL_vz = ETLclusters[\"mtd_clusters_z\"].array()\n",
    "\n",
    "# ETL_t0 = ETLclusters[\"track_t0\"].array()\n",
    "# ETL_tmtd = ETLclusters[\"track_tmtd\"].array()\n",
    "# ETL_beta = ETLclusters[\"track_mtdbeta\"].array()"
   ]
  },
  {
   "cell_type": "code",
   "execution_count": 8,
   "id": "b1e3cd60",
   "metadata": {
    "scrolled": true
   },
   "outputs": [],
   "source": [
    "CP_vm = simtrackstersCP[\"vertices_multiplicity\"].array()\n",
    "SC_vm = simtrackstersSC[\"vertices_multiplicity\"].array()"
   ]
  },
  {
   "cell_type": "code",
   "execution_count": 9,
   "id": "04f327d9",
   "metadata": {},
   "outputs": [],
   "source": [
    "SC_vx = simtrackstersSC[\"vertices_x\"].array()\n",
    "SC_vy = simtrackstersSC[\"vertices_y\"].array()\n",
    "SC_vz = simtrackstersSC[\"vertices_z\"].array()\n",
    "SC_ve = simtrackstersSC[\"vertices_energy\"].array()\n",
    "SC_vi = simtrackstersSC[\"vertices_indexes\"].array()\n",
    "SC_vt = simtrackstersSC[\"vertices_time\"].array()\n",
    "\n",
    "SC_bx = simtrackstersSC[\"barycenter_x\"].array()\n",
    "SC_by = simtrackstersSC[\"barycenter_y\"].array()\n",
    "SC_bz = simtrackstersSC[\"barycenter_z\"].array()\n",
    "SC_be = simtrackstersSC[\"raw_energy\"].array()\n",
    "\n",
    "CP_vx = simtrackstersCP[\"vertices_x\"].array()\n",
    "CP_vy = simtrackstersCP[\"vertices_y\"].array()\n",
    "CP_vz = simtrackstersCP[\"vertices_z\"].array()\n",
    "CP_ve = simtrackstersCP[\"vertices_energy\"].array()\n",
    "CP_vi = simtrackstersCP[\"vertices_indexes\"].array()\n",
    "CP_vt = simtrackstersSC[\"vertices_time\"].array()\n",
    "\n",
    "CP_bx = simtrackstersCP[\"barycenter_x\"].array()\n",
    "CP_by = simtrackstersCP[\"barycenter_y\"].array()\n",
    "CP_bz = simtrackstersCP[\"barycenter_z\"].array()\n",
    "CP_be = simtrackstersCP[\"raw_energy\"].array()"
   ]
  },
  {
   "cell_type": "code",
   "execution_count": 10,
   "id": "ddd49fe2",
   "metadata": {},
   "outputs": [],
   "source": [
    "SC_CALO_time = simtrackstersSC[\"time\"].array()\n",
    "SC_CALO_err = simtrackstersSC[\"timeError\"].array()\n",
    "SC_boundary_time = simtrackstersSC[\"BoundaryTime\"].array()\n",
    "SC_boundary_err = simtrackstersSC[\"BoundaryTimeError\"].array()\n",
    "SC_MTD_time = simtrackstersSC[\"MTDtime\"].array()\n",
    "SC_MTD_err = simtrackstersSC[\"MTDtimeError\"].array()\n",
    "\n",
    "CP_CALO_time = simtrackstersSC[\"time\"].array()\n",
    "CP_CALO_err = simtrackstersSC[\"timeError\"].array()\n",
    "CP_boundary_time = simtrackstersSC[\"BoundaryTime\"].array()\n",
    "CP_boundary_err = simtrackstersSC[\"BoundaryTimeError\"].array()\n",
    "CP_MTD_time = simtrackstersSC[\"MTDtime\"].array()\n",
    "CP_MTD_err = simtrackstersSC[\"MTDtimeError\"].array()"
   ]
  },
  {
   "cell_type": "code",
   "execution_count": 11,
   "id": "1f0755cb",
   "metadata": {},
   "outputs": [
    {
     "name": "stdout",
     "output_type": "stream",
     "text": [
      "There are 300 events in the file\n"
     ]
    }
   ],
   "source": [
    "print(f'There are {len(SC_CALO_time)} events in the file')"
   ]
  },
  {
   "cell_type": "markdown",
   "id": "eb3c2da2",
   "metadata": {},
   "source": [
    "## Plot the times"
   ]
  },
  {
   "cell_type": "code",
   "execution_count": 13,
   "id": "cbcb7a83",
   "metadata": {},
   "outputs": [
    {
     "data": {
      "image/png": "[encoded data removed]",
      "text/plain": [
       "<Figure size 1296x288 with 3 Axes>"
      ]
     },
     "metadata": {
      "needs_background": "light"
     },
     "output_type": "display_data"
    }
   ],
   "source": [
    "fig, axs = plt.subplots(ncols=3, nrows=1, figsize=(18,4))\n",
    "fig.suptitle('SimTracksters from CaloParticle', size=18, y=1.05)\n",
    "\n",
    "subplot(axs[2], CP_CALO_time, title='HGCAL_time')\n",
    "axs[0].set_title('HGCAL_time')\n",
    "subplot(axs[1], ETL_time, title='MTD_time')\n",
    "subplot(axs[0], CP_boundary_time, title='boundary_time')\n",
    "\n",
    "for ax in axs.flat:\n",
    "    ax.set_xlabel('time (ns)', fontsize = 16.0)    \n",
    "    ax.set_ylabel('Counts', fontsize = 16.0)"
   ]
  },
  {
   "cell_type": "code",
   "execution_count": 41,
   "id": "8b862311",
   "metadata": {},
   "outputs": [
    {
     "data": {
      "image/png": "[encoded data removed]",
      "text/plain": [
       "<Figure size 600x400 with 1 Axes>"
      ]
     },
     "metadata": {
      "needs_background": "light"
     },
     "output_type": "display_data"
    }
   ],
   "source": [
    "plt.figure(dpi=100)\n",
    "plt.hist(ak.flatten(ak.flatten(CP_vz)), bins=30)\n",
    "plt.grid()\n",
    "#plt.xlim(320,350)\n",
    "plt.title('LCs z coord')\n",
    "plt.xlabel('z (cm)', size=18)\n",
    "plt.ylabel('Count', size=18)\n",
    "plt.show()"
   ]
  },
  {
   "cell_type": "markdown",
   "id": "a936a944",
   "metadata": {},
   "source": [
    "## Visual representation"
   ]
  },
  {
   "cell_type": "code",
   "execution_count": 41,
   "id": "37f4e71d",
   "metadata": {},
   "outputs": [
    {
     "data": {
      "application/vnd.jupyter.widget-view+json": {
       "model_id": "844971047e2e4fb2b5992be26c74849e",
       "version_major": 2,
       "version_minor": 0
      },
      "text/plain": [
       "Canvas(toolbar=Toolbar(toolitems=[('Home', 'Reset original view', 'home', 'home'), ('Back', 'Back to previous …"
      ]
     },
     "metadata": {},
     "output_type": "display_data"
    }
   ],
   "source": [
    "eid = 0\n",
    "\n",
    "fig = plt.figure(figsize=(12, 12))\n",
    "ax1 = fig.add_subplot(111, projection='3d')\n",
    "#ax1.view_init(10, -45)\n",
    "\n",
    "ax1.set_xlabel(\"x (cm)\")\n",
    "ax1.set_zlabel(\"y (cm)\")\n",
    "ax1.set_ylabel(\"z (cm)\")\n",
    "\n",
    "ax1.set_xlim(ak.min(CP_vx[eid]), ak.max(CP_vx[eid]))\n",
    "ax1.set_zlim(ak.min(CP_vy[eid]), ak.max(CP_vy[eid]))\n",
    "ax1.set_ylim(ak.min(CP_vz[eid]), ak.max(CP_vz[eid]))\n",
    "\n",
    "tx1, ty1, tz1, te1, tt1, tx2, ty2, tz2, te2, tt2 = multiplicity(CP_vx[eid], CP_vy[eid], CP_vz[eid], CP_ve[eid], CP_vt[eid], CP_vi[eid], CP_vm[eid])\n",
    "for x, y, z, e in zip(tx1, ty1, tz1, te1):\n",
    "    ax1.scatter(x, z, y, s=8*e, c='dodgerblue')\n",
    "\n",
    "for x, y, z, e in zip(tx2, ty2, tz2, te2):\n",
    "    ax1.scatter(x, z, y, s=8*e, c='red')\n",
    "\n",
    "ax1.set_title(f\"SimTrackster layer-clusters ({len(tx1)} LCs for the blue one and {len(tx2)} LCs for the red one)\")\n",
    "plt.show()"
   ]
  },
  {
   "cell_type": "code",
   "execution_count": 133,
   "id": "febff711",
   "metadata": {
    "scrolled": false
   },
   "outputs": [
    {
     "data": {
      "application/vnd.jupyter.widget-view+json": {
       "model_id": "5a413563c6a0433ea396c20548df9493",
       "version_major": 2,
       "version_minor": 0
      },
      "text/plain": [
       "Canvas(toolbar=Toolbar(toolitems=[('Home', 'Reset original view', 'home', 'home'), ('Back', 'Back to previous …"
      ]
     },
     "metadata": {},
     "output_type": "display_data"
    }
   ],
   "source": [
    "%matplotlib widget\n",
    "eid=0\n",
    "\n",
    "C = 29.9792458 #ns/cm\n",
    "\n",
    "fig = plt.figure(figsize=(12, 12))\n",
    "ax1 = fig.add_subplot(111, projection='3d')\n",
    "\n",
    "ax1.set_xlabel(\"x (cm)\")\n",
    "ax1.set_ylabel(\"y (cm)\")\n",
    "ax1.set_zlabel(\"z (cm)\")\n",
    "\n",
    "ax1.set_xlim(ak.min(CP_vx[eid]), ak.max(CP_vx[eid]))\n",
    "ax1.set_ylim(ak.min(CP_vy[eid]), ak.max(CP_vy[eid]))\n",
    "ax1.set_zlim(ak.min(CP_vz[eid]), ak.max(CP_vz[eid]))\n",
    "\n",
    "tx1, ty1, tz1, te1, tt1, tx2, ty2, tz2, te2, tt2 = multiplicity(CP_vx[eid], CP_vy[eid], CP_vz[eid], CP_ve[eid], CP_vt[eid], CP_vi[eid], CP_vm[eid])\n",
    "blue = 0\n",
    "for x, y, z, e, t in zip(tx1, ty1, tz1, te1, tt1):\n",
    "    if(t>-99):\n",
    "        ax1.scatter(x, y, z, s=20*e, c='dodgerblue', alpha=0.5)\n",
    "        ax1.text(x, y, z, '%.3f ns' % (t) , size=12) #+ (x**2+y**2+z**2)**0.5/C)\n",
    "        blue += 1\n",
    "\n",
    "red = 0\n",
    "for x, y, z, e, t in zip(tx2, ty2, tz2, te2, tt2):\n",
    "    if(t>-99):\n",
    "        ax1.scatter(x, y, z, s=20*e, c='r', alpha=0.5)\n",
    "        ax1.text(x, y, z, '%.3f ns' % (t), size=12) #+ (x**2+y**2+z**2)**0.5/C\n",
    "        red += 1\n",
    "\n",
    "ax1.set_title(f\"SimTrackster layer-clusters with time\\n({blue} LCs for the blue one and {red} LCs for the red one)\")\n",
    "plt.show()"
   ]
  },
  {
   "cell_type": "markdown",
   "id": "89a2926d",
   "metadata": {},
   "source": [
    "## animation"
   ]
  },
  {
   "cell_type": "code",
   "execution_count": null,
   "id": "23f54ec5",
   "metadata": {},
   "outputs": [],
   "source": [
    "eid = 0\n",
    "\n",
    "import pandas as pd\n",
    "\n",
    "df1 = pd.DataFrame({\"time\": np.array(tt1) + (np.array(tx1)**2+np.array(ty1)**2+np.array(tz1)**2)**0.5/C,\n",
    "                   \"x\" :    np.array(tx1), \n",
    "                   \"y\" :    np.array(ty1), \n",
    "                   \"z\" :    np.array(tz1), \n",
    "                   \"e\" :    np.array(te1),\n",
    "                   \"c\" :    ['dodgerblue']*len(np.array(tt1))})\n",
    "df1 =  df1[df1['time']>-80]\n",
    "\n",
    "df2 = pd.DataFrame({\"time\": np.array(tt2) + (np.array(tx2)**2+np.array(ty2)**2+np.array(tz2)**2)**0.5/C,\n",
    "                   \"x\" :    np.array(tx2), \n",
    "                   \"y\" :    np.array(ty2), \n",
    "                   \"z\" :    np.array(tz2), \n",
    "                   \"e\" :    np.array(te2),\n",
    "                   \"c\" :    ['red']*len(np.array(tt2))})\n",
    "df2 =  df2[df2['time']>-80]\n",
    "\n",
    "frames = [df1, df2]\n",
    "df = pd.concat(frames)\n",
    "#df\n",
    "\n",
    "deltaT = 0.05 # 30ps\n",
    "valid_times = df[df['time']>-80]['time']\n",
    "tmin = min(valid_times)\n",
    "tmax = max(valid_times)\n",
    "print('t_min = {:.3f}, t_max = {:.3f}'.format(tmin, tmax))\n",
    "\n",
    "nframes = len(df['time'])*2\n",
    "times = np.linspace(tmin, tmax, nframes)\n",
    "\n",
    "%matplotlib widget\n",
    "plt.style.use('default')\n",
    "\n",
    "import numpy as np\n",
    "from matplotlib import pyplot as plt\n",
    "from mpl_toolkits.mplot3d import Axes3D\n",
    "from matplotlib.animation import FuncAnimation, PillowWriter\n",
    "\n",
    "def update_graph(num):\n",
    "    #condition = np.where((CP_vt[eid][tr_id]<=times[n]+deltaT) & (CP_vt[eid][tr_id]>=times[n]-deltaT))\n",
    "    data=df[(df['time']<=times[num]+deltaT) & (df['time']>=times[num]-deltaT)]\n",
    "    graph._offsets3d = (data.x, data.y, data.z)\n",
    "    graph.set_sizes(5*np.array(data.e))\n",
    "    graph.set_edgecolor(np.array(data.c))\n",
    "    graph.set_facecolor(np.array(data.c))\n",
    "    title.set_text('Two closeby electrons, time={:.3f} ns'.format(times[num]))\n",
    "\n",
    "fig = plt.figure(dpi=200)\n",
    "ax = fig.add_subplot(111, projection='3d')\n",
    "title = ax.set_title('Two closeby electrons')\n",
    "xlab = ax.set_xlabel('x(cm)')\n",
    "ax.set_ylabel('y(cm)')\n",
    "ax.set_zlabel('z(cm)')\n",
    "\n",
    "# ax.set_xlim(ak.min(CP_vx[eid])-10, ak.max(CP_vx[eid])+10)\n",
    "# ax.set_ylim(ak.min(CP_vy[eid])-10, ak.max(CP_vy[eid])+10)\n",
    "# ax.set_zlim(ak.min(CP_vz[eid])-10, ak.max(CP_vz[eid])+10)\n",
    "\n",
    "data=df[(df['time']<=times[0]+deltaT) & (df['time']>=times[0]-deltaT)]\n",
    "graph = ax.scatter(data.x, data.y, data.z, s=5*data.e, c=data.c)\n",
    "#print(data.x, data.y, data.z)\n",
    "\n",
    "ani = matplotlib.animation.FuncAnimation(fig, update_graph, nframes, \n",
    "                               interval=1000, blit=False)\n",
    "\n",
    "from matplotlib.animation import PillowWriter\n",
    "#ani.save(\"closeByElectronsCorrected2.gif\", writer=PillowWriter(fps=2))\n",
    "plt.show()"
   ]
  },
  {
   "cell_type": "markdown",
   "id": "899e43f0",
   "metadata": {},
   "source": [
    "## Calculate time along skeleton"
   ]
  },
  {
   "cell_type": "code",
   "execution_count": 13,
   "id": "3f946ea7",
   "metadata": {
    "scrolled": false
   },
   "outputs": [
    {
     "data": {
      "application/vnd.jupyter.widget-view+json": {
       "model_id": "3802e2c494af4fa18aca7166d39c52ca",
       "version_major": 2,
       "version_minor": 0
      },
      "text/plain": [
       "Canvas(toolbar=Toolbar(toolitems=[('Home', 'Reset original view', 'home', 'home'), ('Back', 'Back to previous …"
      ]
     },
     "metadata": {},
     "output_type": "display_data"
    },
    {
     "name": "stdout",
     "output_type": "stream",
     "text": [
      "times of the nearest LCs: 11.504 ns, 12.355 ns\n",
      "speed of particle along PCA segments: 11.486 cm/ns, 231.587 cm/ns\n",
      "speed of particle: 31.753 cm/ns\n",
      "times at the speed of light: 12.073 ns, 12.975 ns\n"
     ]
    },
    {
     "data": {
      "application/vnd.jupyter.widget-view+json": {
       "model_id": "6af240a4892146aab7c2489ecdde7ac4",
       "version_major": 2,
       "version_minor": 0
      },
      "text/plain": [
       "Canvas(toolbar=Toolbar(toolitems=[('Home', 'Reset original view', 'home', 'home'), ('Back', 'Back to previous …"
      ]
     },
     "metadata": {},
     "output_type": "display_data"
    },
    {
     "name": "stdout",
     "output_type": "stream",
     "text": [
      "times of the nearest LCs: 11.882 ns, 12.865 ns\n",
      "speed of particle along PCA segments: 94.206 cm/ns, 18.822 cm/ns\n",
      "speed of particle: 27.570 cm/ns\n",
      "times at the speed of light: 11.637 ns, 12.541 ns\n"
     ]
    }
   ],
   "source": [
    "%matplotlib widget\n",
    "eid   = 0\n",
    "tr_id = 0\n",
    "# create internal edges per each trackster\n",
    "all_event_edges, all_event_nodes, covered_node_idxs, all_event_times = [], [], [], []\n",
    "for tr_id in range(len(CP_bx[eid])):    \n",
    "    #plt.style.use('default')\n",
    "    internal_trackster_edges, internal_trackster_nodes, covered_node_idx, times = create_tr_skeletons_single_pca(CP_vx, CP_vy, CP_vz, CP_ve, CP_vt, CP_vi, CP_vm,\n",
    "                                                                                                          CP_bx, CP_by, CP_bz, CP_be, CP_CALO_time, ev=eid,\n",
    "                                                                                                          tr_id=tr_id, bubble_size=100, \n",
    "                                                                                                          secondary_edges = False)\n",
    "    #print(internal_trackster_edges)\n",
    "    all_event_edges.append(internal_trackster_edges)\n",
    "    all_event_nodes.append(internal_trackster_nodes)\n",
    "    covered_node_idxs.append(covered_node_idx)\n",
    "    all_event_times.append(times)"
   ]
  },
  {
   "cell_type": "code",
   "execution_count": 117,
   "id": "c2c80eb0",
   "metadata": {},
   "outputs": [
    {
     "data": {
      "image/png": "[encoded data removed]",
      "text/plain": [
       "<Figure size 600x400 with 1 Axes>"
      ]
     },
     "metadata": {
      "needs_background": "light"
     },
     "output_type": "display_data"
    }
   ],
   "source": [
    "hist(np.array(all_event_lenght)/np.array(all_event_lenght2), xlabel='r', title = 'r = (PCA w/ time) / (PCA no time)')"
   ]
  },
  {
   "cell_type": "markdown",
   "id": "4e630df6",
   "metadata": {},
   "source": [
    "## check compatibility with G4"
   ]
  },
  {
   "cell_type": "code",
   "execution_count": 159,
   "id": "9fcf0b76",
   "metadata": {},
   "outputs": [],
   "source": [
    "deltaT = []\n",
    "for eid in range(300):\n",
    "    tx1, ty1, tz1, te1, tt1, tx2, ty2, tz2, te2, tt2 = multiplicity(CP_vx[eid], CP_vy[eid], CP_vz[eid], CP_ve[eid], CP_vt[eid], CP_vi[eid], CP_vm[eid])\n",
    "\n",
    "    ind = nsmall(tz1,1)\n",
    "    i=2\n",
    "    while (tt1[ind] < -80):\n",
    "        ind = nsmall(tz1, i)\n",
    "        i+=1\n",
    "    first_LC = np.array([tx1[ind], ty1[ind], tz1[ind]])\n",
    "    boundary = np.array([CP_boundx[eid][0], CP_boundy[eid][0], CP_boundz[eid][0]])\n",
    "    distance = np.linalg.norm(first_LC - boundary)\n",
    "    bt = CP_boundary_time[eid][0]\n",
    "    deltaT.append(bt + distance/(np.linalg.norm(boundary)/bt) - tt1[ind])\n",
    "\n",
    "    ind = np.argmin(tz2)\n",
    "    i=2\n",
    "    while (tt2[ind] < -80):\n",
    "        ind = nsmall(tz2, i)\n",
    "        i+=1\n",
    "    first_LC = np.array([tx2[ind], ty2[ind], tz2[ind]])\n",
    "    boundary = np.array([CP_boundx[eid][1], CP_boundy[eid][1], CP_boundz[eid][1]])\n",
    "    distance = np.linalg.norm(first_LC - boundary)\n",
    "    bt = CP_boundary_time[eid][1] -0.5\n",
    "    deltaT.append(bt + distance/(np.linalg.norm(boundary)/bt) - (tt2[ind]-0.5))"
   ]
  },
  {
   "cell_type": "code",
   "execution_count": 160,
   "id": "510338f1",
   "metadata": {},
   "outputs": [
    {
     "data": {
      "application/vnd.jupyter.widget-view+json": {
       "model_id": "ff657e8004bc4e1d9b13eb8af3e5dd34",
       "version_major": 2,
       "version_minor": 0
      },
      "text/plain": [
       "Canvas(toolbar=Toolbar(toolitems=[('Home', 'Reset original view', 'home', 'home'), ('Back', 'Back to previous …"
      ]
     },
     "metadata": {},
     "output_type": "display_data"
    }
   ],
   "source": [
    "deltaT  = np.array(deltaT)\n",
    "nphist(deltaT, title='difference between\\n1st LC time and G4 time')"
   ]
  },
  {
   "cell_type": "markdown",
   "id": "baeb3be4",
   "metadata": {},
   "source": [
    "## compute residuals wrt truth"
   ]
  },
  {
   "cell_type": "code",
   "execution_count": 152,
   "id": "37b08098",
   "metadata": {},
   "outputs": [],
   "source": [
    "def time_dist_res(all_event_nodes, bounds):\n",
    "    # propagate to boundary\n",
    "    all_dist  = []\n",
    "    all_time  = []\n",
    "    all_speed = []\n",
    "    \n",
    "    for i, (nodes, bound) in enumerate(zip(all_event_nodes, bounds)):\n",
    "        nodi = np.array(sorted(nodes,key=lambda x: x[2]))\n",
    "        T = (bound[2] - nodi[0][2])/(nodi[-1][2] - nodi[0][2])\n",
    "\n",
    "        projection = nodi[0][:3] + T*(nodi[-1][:3] - nodi[0][:3])\n",
    "        res_dist = np.linalg.norm(projection - bound[:3])\n",
    "\n",
    "        d2bound = np.linalg.norm(bound[:3])\n",
    "        v2bound = d2bound / (bound[3] - 0.5*i)\n",
    "        dbound2pca = np.linalg.norm(nodi[0][:3] - projection)#bound[:3]) \n",
    "        # from the boundary to the beginning of the PCA, \n",
    "        # better from the projection bc we don't have the boundary in the real case, no difference between the two basically\n",
    "        tbound2pca = dbound2pca / v2bound\n",
    "        res_time = nodi[0][3] - tbound2pca - bound[3] \n",
    "        \n",
    "        all_dist.append(res_dist)\n",
    "        all_time.append(res_time)  \n",
    "        all_speed.append(v2bound)\n",
    "        \n",
    "    return all_dist, all_time, all_speed"
   ]
  },
  {
   "cell_type": "code",
   "execution_count": 153,
   "id": "1e4b8d5e",
   "metadata": {},
   "outputs": [],
   "source": [
    "residual_distance = []\n",
    "residual_time     = []\n",
    "residual_speed    = []\n",
    "for eid in range(300):\n",
    "    nodes = []\n",
    "    for tr_id in range(len(CP_bx[eid])):    \n",
    "        nodes.append(nodes_pca(CP_vx, CP_vy, CP_vz, CP_ve, CP_vt, CP_vi, CP_vm,\n",
    "                                                           CP_bx, CP_by, CP_bz, CP_be, CP_CALO_time, ev=eid,\n",
    "                                                           tr_id=tr_id))\n",
    "    \n",
    "    b = np.array([CP_boundx[eid], CP_boundy[eid], CP_boundz[eid], CP_boundary_time[eid]]).T\n",
    "    d, t, s = time_dist_res(nodes, b)\n",
    "    residual_distance.append(d)\n",
    "    residual_time.append(t)\n",
    "    residual_speed.append(s)"
   ]
  },
  {
   "cell_type": "code",
   "execution_count": 154,
   "id": "f833c244",
   "metadata": {},
   "outputs": [
    {
     "data": {
      "application/vnd.jupyter.widget-view+json": {
       "model_id": "42e854acd5b94c95b273d32a888982c9",
       "version_major": 2,
       "version_minor": 0
      },
      "text/plain": [
       "Canvas(toolbar=Toolbar(toolitems=[('Home', 'Reset original view', 'home', 'home'), ('Back', 'Back to previous …"
      ]
     },
     "metadata": {},
     "output_type": "display_data"
    },
    {
     "data": {
      "application/vnd.jupyter.widget-view+json": {
       "model_id": "6d800b7e96f544ac98ec1c5515205534",
       "version_major": 2,
       "version_minor": 0
      },
      "text/plain": [
       "Canvas(toolbar=Toolbar(toolitems=[('Home', 'Reset original view', 'home', 'home'), ('Back', 'Back to previous …"
      ]
     },
     "metadata": {},
     "output_type": "display_data"
    },
    {
     "data": {
      "application/vnd.jupyter.widget-view+json": {
       "model_id": "d94863c9c8cd43a69d32d8a173341887",
       "version_major": 2,
       "version_minor": 0
      },
      "text/plain": [
       "Canvas(toolbar=Toolbar(toolitems=[('Home', 'Reset original view', 'home', 'home'), ('Back', 'Back to previous …"
      ]
     },
     "metadata": {},
     "output_type": "display_data"
    }
   ],
   "source": [
    "nphist(residual_distance, title = 'residual distances', xlabel='cm')\n",
    "nphist(residual_time, title = 'residual times')\n",
    "nphist(np.array(residual_speed)/C, title = 'residual speed', xlabel = 'v/c')"
   ]
  },
  {
   "cell_type": "markdown",
   "id": "cb2fb69e",
   "metadata": {},
   "source": [
    "## propagate time to boundary"
   ]
  },
  {
   "cell_type": "code",
   "execution_count": 14,
   "id": "7c9a6d4e",
   "metadata": {},
   "outputs": [
    {
     "data": {
      "application/vnd.jupyter.widget-view+json": {
       "model_id": "53a8f24122264afb9ad6e8ba0968eb17",
       "version_major": 2,
       "version_minor": 0
      },
      "text/plain": [
       "Canvas(toolbar=Toolbar(toolitems=[('Home', 'Reset original view', 'home', 'home'), ('Back', 'Back to previous …"
      ]
     },
     "metadata": {},
     "output_type": "display_data"
    }
   ],
   "source": [
    "%matplotlib widget\n",
    "eid = 11\n",
    "\n",
    "fig = plt.figure(figsize=(10,10))\n",
    "ax = fig.add_subplot(111, projection='3d')\n",
    "ax.set_title(f\"Reconstruction of two CloseBy electrons\")\n",
    "ax.set(xlabel=\"x (cm)\", ylabel=\"z (cm)\", zlabel=\"y (cm)\")\n",
    "\n",
    "minX = ak.min((CP_vx[eid], CP_boundx[eid]))\n",
    "maxX = ak.max((CP_vx[eid], CP_boundx[eid]))\n",
    "ax.set_xlim(minX, maxX)\n",
    "\n",
    "# ax.set_xlim(ak.min((CP_vx[eid], CP_boundx[eid])), ak.max((CP_vx[eid], CP_boundx[eid])))\n",
    "# ax.set_zlim(ak.min((CP_vy[eid], CP_boundy[eid])), ak.max((CP_vy[eid], CP_boundy[eid])))\n",
    "# ax.set_ylim(ak.min((Z_boundary-10, ak.min(CP_vz[eid]))), ak.max((Z_boundary+10, ak.max(CP_vz[eid]))))\n",
    "\n",
    "# plot the boundary\n",
    "xx, yy = np.meshgrid(np.linspace(ak.min((CP_vx[eid], CP_boundx[eid])), ak.max((CP_vx[eid], CP_boundx[eid])), 10), \n",
    "                     np.linspace(ak.min((CP_vy[eid], CP_boundy[eid])), ak.max((CP_vy[eid], CP_boundy[eid])), 10))\n",
    "ax.plot_surface(xx, np.ones((10,10))*CP_boundz[eid][0], yy, color='forestgreen', alpha=0.5)\n",
    "\n",
    "# sort the nodes wrt to time\n",
    "all_event_nodes = []\n",
    "for tr_id in range(len(CP_bx[eid])):    \n",
    "    all_event_nodes.append(nodes_pca(CP_vx, CP_vy, CP_vz, CP_ve, CP_vt, CP_vi, CP_vm,\n",
    "                                                       CP_bx, CP_by, CP_bz, CP_be, CP_CALO_time, ev=eid,\n",
    "                                                       tr_id=tr_id))\n",
    "\n",
    "# plot the PCA\n",
    "for nodes in all_event_nodes:\n",
    "    nodes = np.array(sorted(nodes,key=lambda x: x[2]))\n",
    "    for i, n in enumerate(nodes):\n",
    "        ax.scatter(n[0], n[2], n[1], s=10, c='red')\n",
    "        ax.text(n[0], n[2], n[1], '%.3f ns' % (n[3]), size = 12)\n",
    "        if i+1 != len(nodes):\n",
    "            ax.plot([n[0], nodes[i+1][0]], [n[2], nodes[i+1][2]], [n[1], nodes[i+1][1]], c='red')\n",
    "\n",
    "# propagate time from PCA to boundary\n",
    "bounds = np.array([CP_boundx[eid], CP_boundy[eid], CP_boundz[eid], CP_boundary_time[eid]]).T\n",
    "for i, (nodes, bound) in enumerate(zip(all_event_nodes, bounds)):\n",
    "    nodi = np.array(sorted(nodes, key=lambda x: x[2]))\n",
    "    T = (bound[2] - nodi[0][2])/(nodi[-1][2] - nodi[0][2])\n",
    "\n",
    "    projection = nodi[0][:3] + T*(nodi[-1][:3] - nodi[0][:3])\n",
    "    ax.scatter(projection[0], projection[2], projection[1], s=15, c='blue')\n",
    "    ax.plot([projection[0], nodi[0][0]], [projection[2], nodi[0][2]], [projection[1], nodi[0][1]], c='dodgerblue', linestyle='dashed')\n",
    "\n",
    "#     d2bound = np.linalg.norm(bound[:3])\n",
    "#     v2bound = d2bound / bound[3]\n",
    "#     dbound2pca = np.linalg.norm(nodi[0][:3] - bound[:3]) # from the boundary to the beginning of the PCA\n",
    "#     tbound2pca = dbound2pca / v2bound\n",
    "#     time2proj = nodi[0][3] - tbound2pca\n",
    "# #     res_time = nodi[0][3] - tbound2pca - bound[3] \n",
    "    \n",
    "    d2pca = np.linalg.norm(nodi[0][:3])\n",
    "    v2pca = d2pca / (nodi[0][3]- 0.5*i)\n",
    "    dproj2pca = np.linalg.norm(nodi[0][:3] - projection) # from the projection to the beginning of the PCA\n",
    "    tproj2pca = dproj2pca / v2pca\n",
    "    time2proj = nodi[0][3] - tproj2pca \n",
    "    ax.text(projection[0], projection[2], projection[1], 'Prop: %.3f ns\\n' % (time2proj), size = 10)\n",
    "    \n",
    "# truth\n",
    "for i in range(len(CP_boundx[eid])):\n",
    "    ax.scatter(CP_boundx[eid][i], CP_boundz[eid][i], CP_boundy[eid][i], marker='X', s=15, c='green')\n",
    "    ax.text(CP_boundx[eid][i], CP_boundz[eid][i], CP_boundy[eid][i], '\\nTruth: %.3f ns' % (CP_boundary_time[eid][i]), size = 10)\n",
    "    \n",
    "# draw ETL\n",
    "a = (ak.min((CP_vx[eid], CP_boundx[eid])), ak.min((CP_vy[eid], CP_boundy[eid])), 299)  # p1\n",
    "b = (ak.max((CP_vx[eid], CP_boundx[eid])), ak.max((CP_vy[eid], CP_boundy[eid])), 302)  # p2\n",
    "plot_cube(a, b, ax)\n",
    "\n",
    "#set_axes_equal(ax)\n",
    "plt.show()"
   ]
  },
  {
   "cell_type": "code",
   "execution_count": null,
   "id": "0045df03",
   "metadata": {},
   "outputs": [],
   "source": []
  }
 ],
 "metadata": {
  "kernelspec": {
   "display_name": "Python 3",
   "language": "python",
   "name": "python3"
  },
  "language_info": {
   "codemirror_mode": {
    "name": "ipython",
    "version": 3
   },
   "file_extension": ".py",
   "mimetype": "text/x-python",
   "name": "python",
   "nbconvert_exporter": "python",
   "pygments_lexer": "ipython3",
   "version": "3.9.12"
  }
 },
 "nbformat": 4,
 "nbformat_minor": 5
}
