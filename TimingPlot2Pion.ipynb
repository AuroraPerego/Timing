{
 "cells": [
  {
   "cell_type": "code",
   "execution_count": 2,
   "id": "89b7cea1",
   "metadata": {},
   "outputs": [],
   "source": [
    "import awkward as ak\n",
    "import numpy as np\n",
    "import uproot as uproot\n",
    "import matplotlib.pyplot as plt\n",
    "import mplhep as hep\n",
    "\n",
    "from utils import *\n",
    "from plotting import *\n",
    "\n",
    "import matplotlib as mpl\n",
    "mpl.rc('xtick', labelsize=16) \n",
    "mpl.rc('ytick', labelsize=16) \n",
    "plt.rc('font', size=16)\n",
    "\n",
    "#plt.style.use(hep.style.CMS)\n",
    "%matplotlib inline"
   ]
  },
  {
   "cell_type": "code",
   "execution_count": 3,
   "id": "bb2af573",
   "metadata": {},
   "outputs": [],
   "source": [
    "C = 29.9792458 #cm/ns"
   ]
  },
  {
   "cell_type": "code",
   "execution_count": 4,
   "id": "7b32a64f",
   "metadata": {},
   "outputs": [],
   "source": [
    "#filename = 'root_files/histo_2Pions_vertex_100_etl.root'\n",
    "#filename = 'root_files/histo_2PionsVertex_betamtd.root'\n",
    "filename = 'root_files/histo_2Pions_20891_tMtd.root'\n",
    "\n",
    "file = uproot.open(filename)"
   ]
  },
  {
   "cell_type": "code",
   "execution_count": 5,
   "id": "3091053e",
   "metadata": {
    "scrolled": false
   },
   "outputs": [
    {
     "data": {
      "text/plain": [
       "['ticlNtuplizer;1',\n",
       " 'ticlNtuplizer/tracksters;1',\n",
       " 'ticlNtuplizer/clusters;1',\n",
       " 'ticlNtuplizer/graph;1',\n",
       " 'ticlNtuplizer/candidates;1',\n",
       " 'ticlNtuplizer/trackstersMerged;1',\n",
       " 'ticlNtuplizer/associations;1',\n",
       " 'ticlNtuplizer/simtrackstersSC;1',\n",
       " 'ticlNtuplizer/simtrackstersCP;1',\n",
       " 'ticlNtuplizer/fineSimTracksters;1',\n",
       " 'ticlNtuplizer/tracks;1',\n",
       " 'ticlNtuplizer/simTICLCandidate;1',\n",
       " 'ticlNtuplizer/ETL;1']"
      ]
     },
     "execution_count": 5,
     "metadata": {},
     "output_type": "execute_result"
    }
   ],
   "source": [
    "file.keys()"
   ]
  },
  {
   "cell_type": "code",
   "execution_count": 6,
   "id": "0c023ff2",
   "metadata": {},
   "outputs": [],
   "source": [
    "simtrackstersSC = file[\"ticlNtuplizer/simtrackstersSC\"]\n",
    "simtrackstersCP = file[\"ticlNtuplizer/simtrackstersCP\"]\n",
    "tracksters = file[\"ticlNtuplizer/tracksters\"]\n",
    "tracks = file[\"ticlNtuplizer/tracks\"]\n",
    "ETLclusters = file[\"ticlNtuplizer/ETL\"]\n",
    "simTICLCandidate = file[\"ticlNtuplizer/simTICLCandidate\"]"
   ]
  },
  {
   "cell_type": "code",
   "execution_count": 7,
   "id": "0dffa20d",
   "metadata": {
    "scrolled": false
   },
   "outputs": [
    {
     "data": {
      "text/plain": [
       "['track_ev',\n",
       " 'track_id',\n",
       " 'track_hgcal_x',\n",
       " 'track_hgcal_y',\n",
       " 'track_hgcal_z',\n",
       " 'track_hgcal_eta',\n",
       " 'track_hgcal_phi',\n",
       " 'track_hgcal_px',\n",
       " 'track_hgcal_py',\n",
       " 'track_hgcal_pz',\n",
       " 'track_pt',\n",
       " 'track_charge',\n",
       " 'track_time',\n",
       " 'track_time_quality',\n",
       " 'track_time_err',\n",
       " 'track_nhits']"
      ]
     },
     "execution_count": 7,
     "metadata": {},
     "output_type": "execute_result"
    }
   ],
   "source": [
    "tracks.keys()"
   ]
  },
  {
   "cell_type": "code",
   "execution_count": 8,
   "id": "04f327d9",
   "metadata": {},
   "outputs": [],
   "source": [
    "SC_vx = simtrackstersSC[\"vertices_x\"].array()\n",
    "SC_vy = simtrackstersSC[\"vertices_y\"].array()\n",
    "SC_vz = simtrackstersSC[\"vertices_z\"].array()\n",
    "SC_ve = simtrackstersSC[\"vertices_energy\"].array()\n",
    "SC_vi = simtrackstersSC[\"vertices_indexes\"].array()\n",
    "SC_vt = simtrackstersSC[\"vertices_time\"].array()\n",
    "SC_vtErr = simtrackstersSC[\"vertices_timeErr\"].array()\n",
    "SC_vm = simtrackstersSC[\"vertices_multiplicity\"].array()\n",
    "\n",
    "SC_bx = simtrackstersSC[\"barycenter_x\"].array()\n",
    "SC_by = simtrackstersSC[\"barycenter_y\"].array()\n",
    "SC_bz = simtrackstersSC[\"barycenter_z\"].array()\n",
    "SC_be = simtrackstersSC[\"raw_energy\"].array()\n",
    "\n",
    "CP_vx = simtrackstersCP[\"vertices_x\"].array()\n",
    "CP_vy = simtrackstersCP[\"vertices_y\"].array()\n",
    "CP_vz = simtrackstersCP[\"vertices_z\"].array()\n",
    "CP_ve = simtrackstersCP[\"vertices_energy\"].array()\n",
    "CP_vi = simtrackstersCP[\"vertices_indexes\"].array()\n",
    "CP_vt = simtrackstersCP[\"vertices_time\"].array()\n",
    "CP_vtErr = simtrackstersCP[\"vertices_timeErr\"].array()\n",
    "CP_vm = simtrackstersCP[\"vertices_multiplicity\"].array()\n",
    "\n",
    "CP_bx = simtrackstersCP[\"barycenter_x\"].array()\n",
    "CP_by = simtrackstersCP[\"barycenter_y\"].array()\n",
    "CP_bz = simtrackstersCP[\"barycenter_z\"].array()\n",
    "CP_be = simtrackstersCP[\"raw_energy\"].array()"
   ]
  },
  {
   "cell_type": "code",
   "execution_count": 9,
   "id": "ddd49fe2",
   "metadata": {},
   "outputs": [],
   "source": [
    "SC_CALO_time = simtrackstersSC[\"time\"].array()\n",
    "SC_CALO_err = simtrackstersSC[\"timeError\"].array()\n",
    "SC_boundary_time = simtrackstersSC[\"BoundaryTime\"].array()\n",
    "SC_boundary_err = simtrackstersSC[\"BoundaryTimeError\"].array()\n",
    "SC_MTD_time = simtrackstersSC[\"MTDtime\"].array()\n",
    "SC_MTD_err = simtrackstersSC[\"MTDtimeError\"].array()\n",
    "SC_tMTD = simtrackstersSC[\"tMTDtime\"].array()\n",
    "SC_tMTD_err = simtrackstersSC[\"tMTDtimeError\"].array()\n",
    "SC_trIdx = simtrackstersSC[\"trackIdx\"].array()\n",
    "\n",
    "CP_CALO_time = simtrackstersCP[\"time\"].array()\n",
    "CP_CALO_err = simtrackstersCP[\"timeError\"].array()\n",
    "CP_boundary_time = simtrackstersCP[\"BoundaryTime\"].array()\n",
    "CP_boundary_err = simtrackstersCP[\"BoundaryTimeError\"].array()\n",
    "CP_MTD_time = simtrackstersCP[\"MTDtime\"].array()\n",
    "CP_MTD_err = simtrackstersCP[\"MTDtimeError\"].array()\n",
    "CP_tMTD = simtrackstersCP[\"tMTD\"].array()\n",
    "CP_tMTD_err = simtrackstersCP[\"tMTDError\"].array()\n",
    "CP_trIdx = simtrackstersCP[\"trackIdx\"].array()\n",
    "\n",
    "trIdx = tracks[\"track_id\"].array()"
   ]
  },
  {
   "cell_type": "code",
   "execution_count": 10,
   "id": "c4a13ef2",
   "metadata": {},
   "outputs": [],
   "source": [
    "ETL_time    = ETLclusters[\"mtd_clusters_time\"].array()\n",
    "ETL_timeErr = ETLclusters[\"mtd_clusters_timeErr\"].array()\n",
    "ETL_vx = ETLclusters[\"mtd_clusters_x\"].array()\n",
    "ETL_vy = ETLclusters[\"mtd_clusters_y\"].array()\n",
    "ETL_vz = ETLclusters[\"mtd_clusters_z\"].array()\n",
    "\n",
    "ETL_t0   = ETLclusters[\"track_t0\"].array()\n",
    "ETL_tmtd = ETLclusters[\"track_tmtd\"].array()\n",
    "ETL_beta = ETLclusters[\"track_mtdbeta\"].array()"
   ]
  },
  {
   "cell_type": "code",
   "execution_count": 11,
   "id": "d23b26fa",
   "metadata": {},
   "outputs": [
    {
     "name": "stdout",
     "output_type": "stream",
     "text": [
      "[2, 2, 2, 2, 2, 2, 2, 2, 2, 2, 2, 2, 2, 2, 2, 2, 2, 2, 2, 2, 2, 3, 2, 2, 2, 2, 2, 2, 2, 2, 2, 2, 2, 2, 2, 2, 2, 2, 3, 2, 2, 2, 2, 2, 2, 2, 2, 2, 2, 2]\n"
     ]
    }
   ],
   "source": [
    "print([len(ETL_tmtd[i]) for i in range(50)])"
   ]
  },
  {
   "cell_type": "code",
   "execution_count": 12,
   "id": "063a1e2b",
   "metadata": {},
   "outputs": [],
   "source": [
    "CP_boundx = simtrackstersCP[\"boundaryX\"].array()\n",
    "CP_boundy = simtrackstersCP[\"boundaryY\"].array()\n",
    "CP_boundz = simtrackstersCP[\"boundaryZ\"].array()\n",
    "\n",
    "SC_boundx = simtrackstersSC[\"boundaryX\"].array()\n",
    "SC_boundy = simtrackstersSC[\"boundaryY\"].array()\n",
    "SC_boundz = simtrackstersSC[\"boundaryZ\"].array()"
   ]
  },
  {
   "cell_type": "code",
   "execution_count": 13,
   "id": "1f0755cb",
   "metadata": {},
   "outputs": [
    {
     "name": "stdout",
     "output_type": "stream",
     "text": [
      "There are 300 events in the file\n"
     ]
    }
   ],
   "source": [
    "print(f'There are {len(SC_CALO_time)} events in the file')"
   ]
  },
  {
   "cell_type": "markdown",
   "id": "f42afefb",
   "metadata": {},
   "source": [
    "## Plot the times"
   ]
  },
  {
   "cell_type": "code",
   "execution_count": 14,
   "id": "63e6a67a",
   "metadata": {},
   "outputs": [],
   "source": [
    "def plot(X, bins=30, title='title', xlabel='time', ylabel='Counts'):\n",
    "    plt.figure()\n",
    "    plt.hist(ak.flatten(X)[np.where(ak.flatten(X)>-99)], bins=bins, color='dodgerblue')\n",
    "    plt.title(title)\n",
    "    plt.xlabel(xlabel)\n",
    "    plt.ylabel(ylabel)\n",
    "    plt.grid()\n",
    "    plt.show()"
   ]
  },
  {
   "cell_type": "code",
   "execution_count": 15,
   "id": "56126a0c",
   "metadata": {},
   "outputs": [
    {
     "data": {
      "image/png": "[encoded data removed]",
      "text/plain": [
       "<Figure size 600x400 with 1 Axes>"
      ]
     },
     "metadata": {
      "needs_background": "light"
     },
     "output_type": "display_data"
    },
    {
     "data": {
      "text/plain": [
       "5579"
      ]
     },
     "execution_count": 15,
     "metadata": {},
     "output_type": "execute_result"
    }
   ],
   "source": [
    "hist(SC_tMTD[SC_tMTD>0])\n",
    "len(ak.flatten(SC_tMTD))"
   ]
  },
  {
   "cell_type": "code",
   "execution_count": 16,
   "id": "e8f5df7c",
   "metadata": {},
   "outputs": [
    {
     "data": {
      "image/png": "[encoded data removed]",
      "text/plain": [
       "<Figure size 600x400 with 1 Axes>"
      ]
     },
     "metadata": {
      "needs_background": "light"
     },
     "output_type": "display_data"
    }
   ],
   "source": [
    "hist(ETL_time[ETL_time>1], title='time in MTD')"
   ]
  },
  {
   "cell_type": "code",
   "execution_count": 17,
   "id": "0b899cbb",
   "metadata": {},
   "outputs": [],
   "source": [
    "def subplot(axs, X, bins=30, title='title', xlabel='time', ylabel='Counts'):\n",
    "    axs.hist(ak.flatten(X)[np.where(ak.flatten(X)>-99)], bins=bins, color='dodgerblue')\n",
    "    axs.set_title(title)\n",
    "    axs.grid()"
   ]
  },
  {
   "cell_type": "code",
   "execution_count": 18,
   "id": "b74a5781",
   "metadata": {
    "scrolled": true
   },
   "outputs": [],
   "source": [
    "#ak.count(SC_CALO_time)\n",
    "#ak.sum(SC_CALO_time>-98)//100\n",
    "#len(ak.flatten(SC_MTD_time))"
   ]
  },
  {
   "cell_type": "code",
   "execution_count": 19,
   "id": "e7aef5b6",
   "metadata": {},
   "outputs": [
    {
     "data": {
      "image/png": "[encoded data removed]",
      "text/plain": [
       "<Figure size 600x400 with 1 Axes>"
      ]
     },
     "metadata": {
      "needs_background": "light"
     },
     "output_type": "display_data"
    }
   ],
   "source": [
    "plt.figure(dpi=100)\n",
    "plt.hist(ak.flatten(ETL_tmtd)[ak.flatten(ETL_tmtd) > 1], bins=30, label='tMtd', alpha=.7)\n",
    "plt.hist(ak.flatten(ETL_time)[ak.flatten(ETL_time) < 15], bins=60, label='tClusters', color='r', histtype='step')\n",
    "plt.grid()\n",
    "plt.legend()\n",
    "plt.title('LCs times raw and weighted w/ energy')\n",
    "plt.xlabel('time (ns)', size=18)\n",
    "plt.ylabel('Count', size=18)\n",
    "plt.show()"
   ]
  },
  {
   "cell_type": "code",
   "execution_count": 20,
   "id": "cbcb7a83",
   "metadata": {},
   "outputs": [
    {
     "data": {
      "image/png": "[encoded data removed]",
      "text/plain": [
       "<Figure size 1440x288 with 3 Axes>"
      ]
     },
     "metadata": {
      "needs_background": "light"
     },
     "output_type": "display_data"
    },
    {
     "data": {
      "image/png": "[encoded data removed]",
      "text/plain": [
       "<Figure size 1440x288 with 3 Axes>"
      ]
     },
     "metadata": {
      "needs_background": "light"
     },
     "output_type": "display_data"
    }
   ],
   "source": [
    "fig, axs = plt.subplots(ncols=3, nrows=1, figsize=(20,4))\n",
    "fig.suptitle('SimTracksters from SimClusters', size=18, y=1.05)\n",
    "\n",
    "subplot(axs[0], SC_CALO_time[SC_CALO_time>-80], title='HGCAL_time')\n",
    "axs[0].set_title('HGCAL_time')\n",
    "subplot(axs[1], SC_MTD_time, title='MTD_time')\n",
    "subplot(axs[2], SC_boundary_time, title='boundary_time')\n",
    "\n",
    "for ax in axs.flat:\n",
    "    ax.set_xlabel('time (ns)', fontsize = 16.0)    \n",
    "    ax.set_ylabel('Counts', fontsize = 16.0)\n",
    "#-------\n",
    "fig, axs = plt.subplots(ncols=3, nrows=1, figsize=(20,4))\n",
    "fig.suptitle('SimTracksters from CaloParticle\\n ', size=18, y=1.05)\n",
    "\n",
    "subplot(axs[0], CP_CALO_time[CP_CALO_time>-80], title='HGCAL_time')\n",
    "axs[0].set_title('HGCAL_time')\n",
    "subplot(axs[1], CP_MTD_time, title='MTD_time')\n",
    "subplot(axs[2], CP_boundary_time, title='boundary_time')\n",
    "\n",
    "for ax in axs.flat:\n",
    "    ax.set_xlabel('time (ns)', fontsize = 16.0)    \n",
    "    ax.set_ylabel('Counts', fontsize = 16.0)"
   ]
  },
  {
   "cell_type": "markdown",
   "id": "10f062bf",
   "metadata": {},
   "source": [
    "## Visual representation"
   ]
  },
  {
   "cell_type": "code",
   "execution_count": 13,
   "id": "37f4e71d",
   "metadata": {},
   "outputs": [
    {
     "data": {
      "application/vnd.jupyter.widget-view+json": {
       "model_id": "a5ac82afcccf4eb4b3939274e12362d5",
       "version_major": 2,
       "version_minor": 0
      },
      "text/plain": [
       "Canvas(toolbar=Toolbar(toolitems=[('Home', 'Reset original view', 'home', 'home'), ('Back', 'Back to previous …"
      ]
     },
     "metadata": {},
     "output_type": "display_data"
    }
   ],
   "source": [
    "%matplotlib widget\n",
    "eid = 299\n",
    "\n",
    "fig = plt.figure(figsize=(10, 10))\n",
    "ax1 = fig.add_subplot(111, projection='3d')\n",
    "\n",
    "ax1.set_xlabel(\"x (cm)\")\n",
    "ax1.set_ylabel(\"z (cm)\")\n",
    "ax1.set_zlabel(\"y (cm)\")\n",
    "\n",
    "ax1.set_xlim(ak.min(CP_vx[eid]), ak.max(CP_vx[eid]))\n",
    "ax1.set_zlim(ak.min(CP_vy[eid]), ak.max(CP_vy[eid]))\n",
    "ax1.set_ylim(ak.min(CP_vz[eid]), ak.max(CP_vz[eid]))\n",
    "\n",
    "X = [0,0]\n",
    "Y = [0,0]\n",
    "Z = [ak.min(CP_vz[eid]), ak.max(CP_vz[eid])]\n",
    "ax1.plot(X, Z, Y)#, linewidth=5.)\n",
    "\n",
    "for x, y, z, e in zip(CP_vx[eid], CP_vy[eid], CP_vz[eid], CP_ve[eid]):\n",
    "    ax1.scatter(x, z, y, s=8*e)\n",
    "\n",
    "ax1.set_title(f\"SimTrackster layer-clusters ({len(CP_vx[eid])} Trackster)\")\n",
    "plt.show()"
   ]
  },
  {
   "cell_type": "code",
   "execution_count": 50,
   "id": "febff711",
   "metadata": {},
   "outputs": [
    {
     "data": {
      "application/vnd.jupyter.widget-view+json": {
       "model_id": "c11c263d6c904fc494887fcdfbc4f594",
       "version_major": 2,
       "version_minor": 0
      },
      "text/plain": [
       "Canvas(toolbar=Toolbar(toolitems=[('Home', 'Reset original view', 'home', 'home'), ('Back', 'Back to previous …"
      ]
     },
     "metadata": {},
     "output_type": "display_data"
    }
   ],
   "source": [
    "%matplotlib widget\n",
    "eid = 21\n",
    "tr_id = 0\n",
    "\n",
    "C = 29.9792458 #ns/cm\n",
    "\n",
    "fig = plt.figure(figsize=(10, 10))\n",
    "ax1 = fig.add_subplot(111, projection='3d')\n",
    "\n",
    "ax1.set_xlabel(\"x (cm)\")\n",
    "ax1.set_ylabel(\"z (cm)\")\n",
    "ax1.set_zlabel(\"y (cm)\")\n",
    "\n",
    "ax1.set_xlim(ak.min(SC_vx[eid][tr_id]), ak.max(SC_vx[eid][tr_id]))\n",
    "ax1.set_zlim(ak.min(SC_vy[eid][tr_id]), ak.max(SC_vy[eid][tr_id]))\n",
    "ax1.set_ylim(ak.min(SC_vz[eid][tr_id]), ak.max(SC_vz[eid][tr_id]))\n",
    "\n",
    "x = SC_vx[SC_vt>-99.][eid][tr_id]\n",
    "y = SC_vy[SC_vt>-99.][eid][tr_id]\n",
    "z = SC_vz[SC_vt>-99.][eid][tr_id]\n",
    "e = SC_ve[SC_vt>-99.][eid][tr_id]\n",
    "t = SC_vt[SC_vt>-99.][eid][tr_id]\n",
    "\n",
    "img = ax1.scatter(x, z, y, s=40*e, alpha=0.5, c=t, cmap=mpl.cm.get_cmap('gist_rainbow'))\n",
    "\n",
    "tempi = np.linspace(min(t), max(t), 4)\n",
    "\n",
    "fig.colorbar(img, location='left', ticks=tempi, format='%0.2f',fraction=0.03, pad=0.04)\n",
    "\n",
    "ax1.set_title(f\"SimTrackster layer-clusters ({len(SC_vx[eid][tr_id])} LCs)\")\n",
    "plt.show()"
   ]
  },
  {
   "cell_type": "markdown",
   "id": "d3f8a5a0",
   "metadata": {},
   "source": [
    "### Animation"
   ]
  },
  {
   "cell_type": "code",
   "execution_count": 16,
   "id": "cdad677a",
   "metadata": {},
   "outputs": [
    {
     "name": "stdout",
     "output_type": "stream",
     "text": [
      "t_min = -0.025, t_max = 0.009\n"
     ]
    }
   ],
   "source": [
    "eid = 0\n",
    "tr_id = 1\n",
    "\n",
    "deltaT = 0.03 # 30ps\n",
    "valid_times = CP_vt[eid][tr_id][np.where(CP_vt[eid][tr_id]>-99)]\n",
    "tmin = min(valid_times)\n",
    "tmax = max(valid_times)\n",
    "print('t_min = {:.3f}, t_max = {:.3f}'.format(tmin, tmax))\n",
    "\n",
    "import pandas as pd\n",
    "\n",
    "df = pd.DataFrame({\"time\": np.array(CP_vt[eid][tr_id]),\n",
    "                   \"x\" : np.array(CP_vx[eid][tr_id]), \n",
    "                   \"y\" : np.array(CP_vy[eid][tr_id]), \n",
    "                   \"z\" : np.array(CP_vz[eid][tr_id]), \n",
    "                   \"e\" : np.array(CP_ve[eid][tr_id])})\n",
    "df =  df[df['time']>-98]\n",
    "\n",
    "nframes = len(df['time'])\n",
    "times = np.linspace(tmin, tmax, nframes)"
   ]
  },
  {
   "cell_type": "code",
   "execution_count": 17,
   "id": "83682264",
   "metadata": {},
   "outputs": [
    {
     "data": {
      "application/vnd.jupyter.widget-view+json": {
       "model_id": "4021e82604ba45cda22d3086c6948b11",
       "version_major": 2,
       "version_minor": 0
      },
      "text/plain": [
       "Canvas(toolbar=Toolbar(toolitems=[('Home', 'Reset original view', 'home', 'home'), ('Back', 'Back to previous …"
      ]
     },
     "metadata": {},
     "output_type": "display_data"
    }
   ],
   "source": [
    "%matplotlib widget\n",
    "plt.style.use('default')\n",
    "\n",
    "import numpy as np\n",
    "from matplotlib import pyplot as plt\n",
    "from mpl_toolkits.mplot3d import Axes3D\n",
    "from matplotlib.animation import FuncAnimation, PillowWriter\n",
    "\n",
    "def update_graph(num):\n",
    "    #condition = np.where((CP_vt[eid][tr_id]<=times[n]+deltaT) & (CP_vt[eid][tr_id]>=times[n]-deltaT))\n",
    "    data=df[(df['time']<=times[num]+deltaT) & (df['time']>=times[num]-deltaT)]\n",
    "    graph._offsets3d = (data.y, data.x, data.z)\n",
    "    graph.set_sizes(5*np.array(data.e))\n",
    "    title.set_text('Single pion, time={:.3f} ns'.format(times[num]))\n",
    "\n",
    "fig = plt.figure()#dpi=200)\n",
    "ax = fig.add_subplot(111, projection='3d')\n",
    "title = ax.set_title('Single pion')\n",
    "xlab = ax.set_xlabel('y(cm)')\n",
    "ax.set_ylabel('x(cm)')\n",
    "ax.set_zlabel('z(cm)')\n",
    "\n",
    "#ax.set_ylim(ak.min(CP_vx[eid])-10, ak.max(CP_vx[eid])+10)\n",
    "#ax.set_xlim(ak.min(CP_vy[eid])-10, ak.max(CP_vy[eid])+10)\n",
    "#ax.set_zlim(ak.min(CP_vz[eid])-10, ak.max(CP_vz[eid])+10)\n",
    "\n",
    "data=df[(df['time']<=times[0]+deltaT) & (df['time']>=times[0]-deltaT)]\n",
    "graph = ax.scatter(data.y, data.x, data.z, s=5*data.e)\n",
    "#print(data.x, data.y, data.z)\n",
    "\n",
    "ani = matplotlib.animation.FuncAnimation(fig, update_graph, nframes, \n",
    "                               interval=1000, blit=False)\n",
    "\n",
    "from matplotlib.animation import PillowWriter\n",
    "#ani.save(\"singlePion.gif\", writer=PillowWriter(fps=1))\n",
    "plt.show()"
   ]
  },
  {
   "cell_type": "markdown",
   "id": "3f1e72ca",
   "metadata": {},
   "source": [
    "## skeleton"
   ]
  },
  {
   "cell_type": "code",
   "execution_count": 21,
   "id": "f1d13a9f",
   "metadata": {},
   "outputs": [],
   "source": [
    "from wpca import WPCA, EMPCA"
   ]
  },
  {
   "cell_type": "code",
   "execution_count": 22,
   "id": "ee114139",
   "metadata": {},
   "outputs": [],
   "source": [
    "def create_tr_skeletons_single_pca(vx, vy, vz, ve, vt, vi, bx, by, bz, be, bt, ev, tr_id, DST_THR=2.5, bubble_size=10, \n",
    "                                   NEIGHBOUR_THR=30, ENERGY_RATIO_THR=0.01, MIN_EDGE_LEN=1, PCA_NEIGHBOUR_THR=1, \n",
    "                                  secondary_edges = False):\n",
    "    # Project the points on pca\n",
    "    edges, nodes = set(), set()\n",
    "    covered_nodes = set()\n",
    "    covered_node_idx = []\n",
    "    \n",
    "    fig = plt.figure(figsize=(10,10))\n",
    "    ax = fig.add_subplot(111, projection='3d')\n",
    "    ax.set_title(f\"Reconstruction of a pion in a high-pileup environment\\nLayer Clusters\")\n",
    "    ax.set(xlabel=\"x (cm)\", ylabel=\"y (cm)\", zlabel=\"z (cm)\")\n",
    "    \n",
    "    vxt = vx[ev][tr_id]\n",
    "    vyt = vy[ev][tr_id]\n",
    "    vzt = vz[ev][tr_id]\n",
    "    vet = ve[ev][tr_id]\n",
    "    vtt = vt[ev][tr_id]\n",
    "    #vit = vi[ev][tr_id]\n",
    "\n",
    "    bxt = bx[ev][tr_id]\n",
    "    byt = by[ev][tr_id]\n",
    "    bzt = bz[ev][tr_id]\n",
    "    bet = be[ev][tr_id]\n",
    "    btt = bt[ev][tr_id]\n",
    "  \n",
    "    #ax.scatter(vxt, vyt, vzt, s=vet*bubble_size, alpha=0.2, c=\"m\", zorder=-5)  \n",
    "\n",
    "    # Get distances between the LCs\n",
    "    dist_matrix = distance_matrix(vxt, vyt, vzt)\n",
    "    # Calculate PCA\n",
    "    pca = WPCA(n_components=3)    \n",
    "    positions = np.array((vxt, vyt, vzt)).T\n",
    "\n",
    "    vet_array = np.array(vet).reshape(-1,1)\n",
    "    vet_array = np.tile(vet_array,(1, 3))\n",
    "\n",
    "    pca.fit(positions, weights = vet_array)\n",
    "    component = pca.components_[0]\n",
    "    \n",
    "    # Barycenter\n",
    "    b_coord = np.array([bxt, byt, bzt])\n",
    "    edges.add((tuple(b_coord), tuple(b_coord)))\n",
    "    nodes.add(tuple(b_coord))\n",
    "    ax.scatter(bxt, byt, bzt, s=10, c=\"red\", label=f\"{len(vet)} LC: {sum(vet):.2f} GeV\")\n",
    "\n",
    "    segment_end = np.array([bxt+component[0],\n",
    "                            byt+component[1],\n",
    "                            bzt+component[2]])\n",
    "\n",
    "    data = [[x,y,z,e,i,j] for x,y,z,e,i,j in zip(vxt, vyt, vzt, vet, vtt, range(len(vxt)))]\n",
    "    # sorted by energy\n",
    "    data = sorted(data, key=lambda a: -a[3])\n",
    "\n",
    "    # project each LC to the principal component\n",
    "    min_p, max_p = b_coord, b_coord\n",
    "    max_en = max(vet)\n",
    "    num_lc_above_th = len(np.array(vxt)[np.array(vet) > 2*ENERGY_RATIO_THR*max_en])\n",
    "    \n",
    "    small_trackster = False\n",
    "    if max_en < 1 or num_lc_above_th < 5:\n",
    "        # If maximum energy of the LCs is lower than 2 GeV or number of layer clusters with at least a ENERGY_RATIO_THR of the maximum energy is less than 5\n",
    "        small_trackster = True\n",
    "        print(\"Small trackster\")\n",
    "\n",
    "    # try create main edges\n",
    "    min_point = np.zeros(4)\n",
    "    max_point = np.zeros(4)\n",
    "    \n",
    "    for x,y,z,e,i,j in data:\n",
    "\n",
    "        point = np.array([x, y, z, i])\n",
    "        dist, closest_point = project_lc_to_pca(point[:3], b_coord, segment_end)\n",
    "        \n",
    "        if e/max_en > ENERGY_RATIO_THR and dist < PCA_NEIGHBOUR_THR:\n",
    "            # limiting the PCA length\n",
    "            z_cl = closest_point[2]\n",
    "            if min_p[2] > z_cl and point[3]>-80:\n",
    "                min_p = closest_point\n",
    "                min_point = point\n",
    "            if max_p[2] < z_cl:# and point[3]>-80:\n",
    "                max_p = closest_point  \n",
    "                max_point = point  \n",
    "                \n",
    "#         ax.scatter(x, y, z, s=e*bubble_size, alpha=0.2, c=\"m\", zorder=-5)     \n",
    "    \n",
    "    if np.linalg.norm(min_p-max_p) > 0.5:\n",
    "    \n",
    "        if not np.allclose(min_p, b_coord, atol=0.1):\n",
    "            edges.add((tuple(min_p), tuple(b_coord)))\n",
    "            nodes.add(tuple(min_p))\n",
    "            ax.plot([bxt, min_p[0]], [byt, min_p[1]], [bzt, min_p[2]], c='red')    \n",
    "\n",
    "        if not np.allclose(max_p, b_coord, atol=0.1):\n",
    "            edges.add((tuple(max_p), tuple(b_coord)))\n",
    "            nodes.add(tuple(max_p))\n",
    "            ax.plot([bxt, max_p[0]], [byt, max_p[1]], [bzt, max_p[2]], c='green')\n",
    "    else:\n",
    "        min_p, max_p = b_coord, b_coord\n",
    "\n",
    "#     # compute times\n",
    "#     dist1 = ((min_p[0] - b_coord[0])**2 + (min_p[1] - b_coord[1])**2 + (min_p[2] - b_coord[2])**2)**0.5\n",
    "#     time1 = (dist1/29.9792458)\n",
    "    \n",
    "#     dist2 = ((max_p[0] - b_coord[0])**2 + (max_p[1] - b_coord[1])**2 + (max_p[2] - b_coord[2])**2)**0.5\n",
    "#     time2 = (dist2/29.9792458)\n",
    "    \n",
    "#     print(dist1, time1, dist2, time2)\n",
    "    \n",
    "#     # plot times\n",
    "#     if abs(max_p[2])-abs(min_p[2])>0:\n",
    "#         ax.text(min_p[0], min_p[1], min_p[2], '%.3f ns' % (btt-time1), size=12) \n",
    "#         ax.text(b_coord[0], b_coord[1], b_coord[2], '%.3f ns' % (btt), size=12)\n",
    "#         ax.text(max_p[0], max_p[1], max_p[2], '%.3f ns' % (btt+time2), size=12)\n",
    "#     else:\n",
    "#         ax.text(min_p[0], min_p[1], min_p[2], '%.3f ns' % (btt+time1), size=12) \n",
    "#         ax.text(b_coord[0], b_coord[1], b_coord[2], '%.3f ns' % (btt), size=12)\n",
    "#         ax.text(max_p[0], max_p[1], max_p[2], '%.3f ns' % (btt-time2), size=12)\n",
    "    \n",
    "#     print('times:', time1, time2)\n",
    "    #Build secondary edges\n",
    "    for x,y,z,e,i,j in data:\n",
    "        \n",
    "        if e / max_en > ENERGY_RATIO_THR:\n",
    "            # and not covered by any edge\n",
    "            point = np.array([x, y, z])\n",
    "            min_dist, min_edge, closest_point_edge, closest_endpoint =  find_dist_to_closest_edge_set(point, edges)\n",
    "            #print(min_dist)\n",
    "            \n",
    "            if min_dist < DST_THR:\n",
    "                # LC covered by some edge already\n",
    "                ax.scatter(x, y, z, s=e*bubble_size, alpha=0.2, c=\"limegreen\", zorder=-5)\n",
    "                covered_nodes.add((x, y, z))\n",
    "                covered_node_idx.append(j)  \n",
    "                continue\n",
    "            else:\n",
    "                #ax.scatter(x, y, z, s=e*bubble_size, alpha=0.2, c=\"black\", zorder=-5)\n",
    "                pass\n",
    "\n",
    "            if not small_trackster and secondary_edges:\n",
    "                # find neares higher\n",
    "                # go through all points, if the point is within the Neighbour_threshold\n",
    "                distances = dist_matrix[j]\n",
    "                indices = np.argsort(distances)\n",
    "\n",
    "                for idx in indices:\n",
    "\n",
    "                    if idx in covered_node_idx and distances[idx] < NEIGHBOUR_THR and vet[idx] > e and abs(vzt[idx]) < abs(z):\n",
    "                        # found the nearest higher\n",
    "                        # create an edge - to projection of the nearest higher to the pca\n",
    "                        #edges[(idx, j)] = (np.array([vxt[idx], vyt[idx], vzt[idx]]), point)\n",
    "                        ax.plot([vxt[idx], x], [vyt[idx], y], [vzt[idx], z], c='blue')\n",
    "                        nearest_higher = np.array([vxt[idx], vyt[idx], vzt[idx]])\n",
    "                        \n",
    "                        # TODO: check that it lies on the axis!!!!!!!!!!!!!!!\n",
    "                        dist, closest_point = project_lc_to_pca(nearest_higher, b_coord, segment_end)\n",
    "\n",
    "                        if not np.allclose(closest_point, point, atol=0.1):\n",
    "                            edges.add((tuple(closest_point), tuple(point)))\n",
    "                            nodes.add(tuple(closest_point))\n",
    "                            nodes.add(tuple(point))\n",
    "                        ax.plot([closest_point[0], x], [closest_point[1], y], [closest_point[2], z], c='blue')\n",
    "\n",
    "                        break\n",
    "        else:\n",
    "            # if low energy\n",
    "            pass\n",
    "            ax.scatter(x, y, z, s=e*bubble_size, alpha=0.2, c=\"blue\", zorder=-5)\n",
    "\n",
    "    \n",
    "    print(min_point[3], max_point[3])\n",
    "    ax.text(min_point[0], min_point[1], min_point[2], '%.3f ns' % (min_point[3]), size=12) \n",
    "    ax.text(b_coord[0], b_coord[1], b_coord[2], '%.3f ns' % (btt), size=12)\n",
    "    ax.text(max_point[0], max_point[1], max_point[2], '%.3f ns' % (max_point[3]), size=12) \n",
    "    \n",
    "    edges.remove((tuple(b_coord), tuple(b_coord)))\n",
    "    set_axes_equal(ax)\n",
    "    plt.show()\n",
    "    return edges, nodes, covered_node_idx"
   ]
  },
  {
   "cell_type": "code",
   "execution_count": 23,
   "id": "b99ead11",
   "metadata": {
    "scrolled": false
   },
   "outputs": [
    {
     "ename": "NameError",
     "evalue": "name 'new_bt' is not defined",
     "output_type": "error",
     "traceback": [
      "\u001b[0;31m---------------------------------------------------------------------------\u001b[0m",
      "\u001b[0;31mNameError\u001b[0m                                 Traceback (most recent call last)",
      "\u001b[0;32m/tmp/ipykernel_1013/2076596833.py\u001b[0m in \u001b[0;36m<module>\u001b[0;34m\u001b[0m\n\u001b[1;32m      7\u001b[0m     \u001b[0mplt\u001b[0m\u001b[0;34m.\u001b[0m\u001b[0mstyle\u001b[0m\u001b[0;34m.\u001b[0m\u001b[0muse\u001b[0m\u001b[0;34m(\u001b[0m\u001b[0;34m'default'\u001b[0m\u001b[0;34m)\u001b[0m\u001b[0;34m\u001b[0m\u001b[0;34m\u001b[0m\u001b[0m\n\u001b[1;32m      8\u001b[0m     internal_trackster_edges, internal_trackster_nodes, covered_node_idx = create_tr_skeletons_single_pca(CP_vx, CP_vy, CP_vz, CP_ve, CP_vt, CP_vi,\n\u001b[0;32m----> 9\u001b[0;31m                                                                                                           \u001b[0mCP_bx\u001b[0m\u001b[0;34m,\u001b[0m \u001b[0mCP_by\u001b[0m\u001b[0;34m,\u001b[0m \u001b[0mCP_bz\u001b[0m\u001b[0;34m,\u001b[0m \u001b[0mCP_be\u001b[0m\u001b[0;34m,\u001b[0m \u001b[0mnew_bt\u001b[0m\u001b[0;34m,\u001b[0m \u001b[0mev\u001b[0m\u001b[0;34m=\u001b[0m\u001b[0meid\u001b[0m\u001b[0;34m,\u001b[0m\u001b[0;34m\u001b[0m\u001b[0;34m\u001b[0m\u001b[0m\n\u001b[0m\u001b[1;32m     10\u001b[0m                                                                                                           \u001b[0mtr_id\u001b[0m\u001b[0;34m=\u001b[0m\u001b[0mtr_id\u001b[0m\u001b[0;34m,\u001b[0m \u001b[0mbubble_size\u001b[0m\u001b[0;34m=\u001b[0m\u001b[0;36m100\u001b[0m\u001b[0;34m,\u001b[0m\u001b[0;34m\u001b[0m\u001b[0;34m\u001b[0m\u001b[0m\n\u001b[1;32m     11\u001b[0m                                                                                                           secondary_edges = False)\n",
      "\u001b[0;31mNameError\u001b[0m: name 'new_bt' is not defined"
     ]
    }
   ],
   "source": [
    "%matplotlib widget\n",
    "eid = 5\n",
    "tr_id=0\n",
    "# create internal edges per each trackster\n",
    "all_event_edges, all_event_nodes, covered_node_idxs = [], [], []\n",
    "for tr_id in range(len(CP_bx[eid])):    \n",
    "    plt.style.use('default')\n",
    "    internal_trackster_edges, internal_trackster_nodes, covered_node_idx = create_tr_skeletons_single_pca(CP_vx, CP_vy, CP_vz, CP_ve, CP_vt, CP_vi,\n",
    "                                                                                                          CP_bx, CP_by, CP_bz, CP_be, new_bt, ev=eid,\n",
    "                                                                                                          tr_id=tr_id, bubble_size=100, \n",
    "                                                                                                          secondary_edges = False)\n",
    "    #print(internal_trackster_edges)\n",
    "    all_event_edges.append(internal_trackster_edges)\n",
    "    all_event_nodes.append(internal_trackster_nodes)\n",
    "    covered_node_idxs.append(covered_node_idx)"
   ]
  },
  {
   "cell_type": "markdown",
   "id": "0eaaeda9",
   "metadata": {},
   "source": [
    "## time propagation"
   ]
  },
  {
   "cell_type": "code",
   "execution_count": 22,
   "id": "8a654f6c",
   "metadata": {},
   "outputs": [
    {
     "data": {
      "text/plain": [
       "[{(93.70902275958237, -44.94354311112563, 343.5547508260653),\n",
       "  (101.59244537353516, -48.838436126708984, 372.287109375),\n",
       "  (140.19197713361123, -67.90896602460145, 512.9691000104624)},\n",
       " {(-137.11875839262888, 63.93207191234593, -496.7574557159888),\n",
       "  (-108.18241882324219, 50.571632385253906, -388.6514587402344),\n",
       "  (-98.72736296580662, 46.20605941063379, -353.3274248389007)}]"
      ]
     },
     "execution_count": 22,
     "metadata": {},
     "output_type": "execute_result"
    }
   ],
   "source": [
    "all_event_nodes"
   ]
  },
  {
   "cell_type": "code",
   "execution_count": null,
   "id": "d7e24e1b",
   "metadata": {},
   "outputs": [],
   "source": [
    "def nodes_pca_single(vx, vy, vz, ve, vt, vi, \n",
    "                     bx, by, bz, be, bt, \n",
    "                     ev, tr_id,\n",
    "                     ENERGY_RATIO_THR=0.01, PCA_NEIGHBOUR_THR=1):\n",
    "    # Project the points on pca\n",
    "    nodes = []\n",
    "    \n",
    "    vxt = vx[ev][tr_id]\n",
    "    vyt = vy[ev][tr_id]\n",
    "    vzt = vz[ev][tr_id]\n",
    "    vet = ve[ev][tr_id]\n",
    "    vit = vi[ev][tr_id]\n",
    "    vtt = vt[ev][tr_id]\n",
    "\n",
    "    bxt = bx[ev][tr_id]\n",
    "    byt = by[ev][tr_id]\n",
    "    bzt = bz[ev][tr_id]\n",
    "    bet = be[ev][tr_id]\n",
    "    btt = bt[ev][tr_id]\n",
    "    \n",
    "    # Get distances between the LCs\n",
    "    dist_matrix = distance_matrix(vxt, vyt, vzt)\n",
    "    # Calculate PCA\n",
    "    pca = WPCA(n_components=3)    \n",
    "    positions = np.array((vxt, vyt, vzt)).T\n",
    "\n",
    "    vet_array = np.array(vet).reshape(-1,1)\n",
    "    vet_array = np.tile(vet_array,(1, 3))\n",
    "\n",
    "    pca.fit(positions, weights = vet_array)\n",
    "    component = pca.components_[0]\n",
    "    # Barycenter\n",
    "    b_coord = np.array([bxt, byt, bzt])\n",
    "    nodes.append(np.array([bxt, byt, bzt, btt]))\n",
    "  \n",
    "    segment_end = np.array([bxt+component[0],\n",
    "                            byt+component[1],\n",
    "                            bzt+component[2]])\n",
    "\n",
    "    data = [[x,y,z,e,i,j] for x,y,z,e,i,j in zip(vxt, vyt, vzt, vet, vtt, range(len(vxt)))]\n",
    "    # sorted by energy\n",
    "    data = sorted(data, key=lambda a: -a[3])\n",
    "\n",
    "    # project each LC to the principal component\n",
    "    min_p, max_p = b_coord, b_coord\n",
    "    max_en = max(vet)\n",
    "    num_lc_above_th = len(np.array(vxt)[np.array(vet) > 2*ENERGY_RATIO_THR*max_en])\n",
    "    \n",
    "    small_trackster = False\n",
    "    if max_en < 1 or num_lc_above_th < 5:\n",
    "        # If maximum energy of the LCs is lower than 2 GeV or number of layer clusters with at least a ENERGY_RATIO_THR of the maximum energy is less than 5\n",
    "        small_trackster = True\n",
    "        print(\"Small trackster\")\n",
    "\n",
    "    # try create main edges\n",
    "    min_point = np.zeros(4)\n",
    "    max_point = np.zeros(4)\n",
    "    \n",
    "    for x,y,z,e,i,j in data:\n",
    "\n",
    "        point = np.array([x, y, z, i])\n",
    "        dist, closest_point = project_lc_to_pca(point[:3], b_coord, segment_end)\n",
    "        \n",
    "        if e/max_en > ENERGY_RATIO_THR and dist < PCA_NEIGHBOUR_THR:\n",
    "            # limiting the PCA length\n",
    "            z_cl = closest_point[2]\n",
    "            if min_p[2] > z_cl and point[3]>-80:\n",
    "                min_p = closest_point\n",
    "                min_point = point\n",
    "            if max_p[2] < z_cl:\n",
    "                max_p = closest_point  \n",
    "                max_point = point  \n",
    "        \n",
    "    if np.linalg.norm(min_p-max_p) > 0.5:\n",
    "    \n",
    "        if not np.allclose(min_p, b_coord, atol=0.1):\n",
    "            nodes.append(min_point)\n",
    "\n",
    "        if not np.allclose(max_p, b_coord, atol=0.1):\n",
    "            nodes.append(max_point)\n",
    "    else:\n",
    "        min_p, max_p = b_coord, b_coord\n",
    "        min_point[:3], max_point[:3] = b_coord, b_coord\n",
    "        min_point[3], max_point[3] = btt, btt\n",
    "    \n",
    "    return nodes"
   ]
  },
  {
   "cell_type": "code",
   "execution_count": 235,
   "id": "5d03b353",
   "metadata": {},
   "outputs": [
    {
     "data": {
      "application/vnd.jupyter.widget-view+json": {
       "model_id": "8a8c7aca83af451f8dcb97080c89aff9",
       "version_major": 2,
       "version_minor": 0
      },
      "text/plain": [
       "Canvas(toolbar=Toolbar(toolitems=[('Home', 'Reset original view', 'home', 'home'), ('Back', 'Back to previous …"
      ]
     },
     "metadata": {},
     "output_type": "display_data"
    }
   ],
   "source": [
    "hist(SC_trIdx[SC_trIdx>-0.5])"
   ]
  },
  {
   "cell_type": "code",
   "execution_count": 24,
   "id": "d8d5f094",
   "metadata": {},
   "outputs": [],
   "source": [
    "def associated_tracks(tr_idx):\n",
    "    l = len(tr_idx[tr_idx>-0.5])\n",
    "    if l==1:\n",
    "        print(f'There is {l} track associated to this event, with index {tr_idx[tr_idx>-0.5]}')\n",
    "    elif l==0:\n",
    "        print('There are no tracks associated to this event')\n",
    "        return False\n",
    "    else:\n",
    "        print(f'There are {len(tr_idx[tr_idx>-0.5])} tracks associated to this event, with indexes {tr_idx[tr_idx>-0.5]}')\n",
    "    return True "
   ]
  },
  {
   "cell_type": "code",
   "execution_count": 35,
   "id": "f0fb3088",
   "metadata": {},
   "outputs": [],
   "source": [
    "def time_pca(vx, vy, vz, ve, vt, vi, \n",
    "             bx, by, bz, be, bt, \n",
    "             ev, tr_id, ENERGY_RATIO_THR=0.01, PCA_NEIGHBOUR_THR=1):\n",
    "    # Project the points on pca\n",
    "    nodes = []\n",
    "    \n",
    "    vxt = vx[ev][tr_id]\n",
    "    vyt = vy[ev][tr_id]\n",
    "    vzt = vz[ev][tr_id]\n",
    "    vet = ve[ev][tr_id]\n",
    "    vit = vi[ev][tr_id]\n",
    "    vtt = vt[ev][tr_id]\n",
    "\n",
    "    bxt = bx[ev][tr_id]\n",
    "    byt = by[ev][tr_id]\n",
    "    bzt = bz[ev][tr_id]\n",
    "    bet = be[ev][tr_id]\n",
    "    btt = bt[ev][tr_id]\n",
    "    \n",
    "    if len(vet)==0:\n",
    "        b_coord = np.array([bxt, byt, bzt])\n",
    "        nodes.append(np.array([bxt, byt, bzt, btt]))\n",
    "        return nodes    \n",
    "    # Get distances between the LCs\n",
    "    #dist_matrix = distance_matrix(vxt, vyt, vzt)\n",
    "    # Calculate PCA\n",
    "    pca = WPCA(n_components=3)    \n",
    "    positions = np.array((vxt, vyt, vzt)).T\n",
    "    #positions = np.array(sorted(positions,key=lambda x: abs(x[2]))) # sort by z\n",
    "\n",
    "    vet_array = np.array(vet).reshape(-1,1)\n",
    "    vet_array = np.tile(vet_array,(1, 3))\n",
    "\n",
    "    if (len(vet)==0):\n",
    "        print('No energies')\n",
    "        return ak.Array([-1])\n",
    "    \n",
    "    pca.fit(positions, weights = vet_array)\n",
    "    component = pca.components_[0]\n",
    "    \n",
    "    # Barycenter\n",
    "    b_coord = np.array([bxt, byt, bzt])\n",
    "    nodes.append(np.array([bxt, byt, bzt, btt]))\n",
    "  \n",
    "    segment_end = np.array([bxt+component[0],\n",
    "                            byt+component[1],\n",
    "                            bzt+component[2]])\n",
    "\n",
    "    data = [[x,y,z,e,t,j] for x,y,z,e,t,j in zip(vxt, vyt, vzt, vet, vtt, range(len(vxt)))]\n",
    "    # sorted by energy\n",
    "    data = sorted(data, key=lambda a: -a[3])\n",
    "\n",
    "    # project each LC to the principal component\n",
    "    min_p, max_p = b_coord, b_coord\n",
    "    max_en = max(vet)\n",
    "    num_lc_above_th = len(np.array(vxt)[np.array(vet) > 2*ENERGY_RATIO_THR*max_en])\n",
    "    \n",
    "    small_trackster = False\n",
    "    if max_en < 1 or num_lc_above_th < 5:\n",
    "        # If maximum energy of the LCs is lower than 2 GeV or number of layer clusters with at least a ENERGY_RATIO_THR of the maximum energy is less than 5\n",
    "        small_trackster = True\n",
    "        print(\"Small trackster\")\n",
    "        \n",
    "    # try create main edges\n",
    "    min_point = np.zeros(4)\n",
    "    max_point = np.zeros(4)\n",
    "    \n",
    "    for x,y,z,e,t,j in data:\n",
    "\n",
    "        point = np.array([x, y, z, t])\n",
    "        dist, closest_point = project_lc_to_pca(point[:3], b_coord, segment_end)\n",
    "        \n",
    "        if e/max_en > ENERGY_RATIO_THR and dist < PCA_NEIGHBOUR_THR:\n",
    "            # limiting the PCA length\n",
    "            z_cl = closest_point[2]\n",
    "            if z_cl > 0:\n",
    "                if min_p[2] > z_cl and point[3]>-99:\n",
    "                    min_p = closest_point\n",
    "                    min_point = point\n",
    "\n",
    "                if max_p[2] < z_cl:# and point[3]>-99:\n",
    "                    max_p = closest_point  \n",
    "                    max_point = point  \n",
    "            else:\n",
    "                if min_p[2] > z_cl:\n",
    "                    min_p = closest_point\n",
    "                    min_point = point\n",
    "                if max_p[2] < z_cl and point[3]>-99:\n",
    "                    max_p = closest_point  \n",
    "                    max_point = point  \n",
    "\n",
    "    if np.linalg.norm(min_p-max_p) > 0.5:\n",
    "    \n",
    "        if not np.allclose(min_p, b_coord, atol=0.1):\n",
    "            nodes.append(min_point)\n",
    "\n",
    "        if not np.allclose(max_p, b_coord, atol=0.1):\n",
    "            nodes.append(max_point)\n",
    "#     else:\n",
    "#         min_p, max_p = b_coord, b_coord\n",
    "#         min_point[:3], max_point[:3] = b_coord, b_coord\n",
    "#         min_point[3], max_point[3] = btt, btt\n",
    "        \n",
    "    return np.array(sorted(nodes,key=lambda x: abs(x[2])))"
   ]
  },
  {
   "cell_type": "code",
   "execution_count": 32,
   "id": "c1ccf39c",
   "metadata": {
    "scrolled": false
   },
   "outputs": [
    {
     "name": "stdout",
     "output_type": "stream",
     "text": [
      "There is 1 track associated to this event, with index [1]\n",
      "Track with index 1\n"
     ]
    },
    {
     "data": {
      "application/vnd.jupyter.widget-view+json": {
       "model_id": "d8cb3bd1a3ab44e395c647cfd307ee6b",
       "version_major": 2,
       "version_minor": 0
      },
      "text/plain": [
       "Canvas(toolbar=Toolbar(toolitems=[('Home', 'Reset original view', 'home', 'home'), ('Back', 'Back to previous …"
      ]
     },
     "metadata": {},
     "output_type": "display_data"
    },
    {
     "name": "stderr",
     "output_type": "stream",
     "text": [
      "/cvmfs/sft.cern.ch/lcg/views/LCG_102b_swan/x86_64-centos7-gcc11-opt/lib/python3.9/site-packages/awkward/_connect/_numpy.py:209: RuntimeWarning: invalid value encountered in true_divide\n",
      "  result = getattr(ufunc, method)(\n",
      "/cvmfs/sft.cern.ch/lcg/views/LCG_102b_swan/x86_64-centos7-gcc11-opt/lib/python3.9/site-packages/awkward/_connect/_numpy.py:209: RuntimeWarning: divide by zero encountered in true_divide\n",
      "  result = getattr(ufunc, method)(\n"
     ]
    }
   ],
   "source": [
    "%matplotlib widget\n",
    "eid = 55\n",
    "\n",
    "ntracks = associated_tracks(SC_trIdx[eid])\n",
    "if(ntracks):\n",
    "    trackPos = np.where(SC_trIdx[eid]==0)[0]\n",
    "    trackIdx=0\n",
    "    while(len(trackPos)==0 and trackIdx<ntracks):\n",
    "        trackIdx+=1\n",
    "        trackPos = np.where(SC_trIdx[eid]==trackIdx)[0]\n",
    "    print(f'Track with index {trackIdx}') \n",
    "    \n",
    "# trackPos=[55]\n",
    "# trackIdx=3\n",
    "tr_id=trackPos[0]\n",
    "\n",
    "fig = plt.figure(figsize=(10,10))\n",
    "ax = fig.add_subplot(111, projection='3d')\n",
    "ax.set_title(f\"Reconstruction of a pion\")\n",
    "ax.set(xlabel=\"x (cm)\", ylabel=\"z (cm)\", zlabel=\"y (cm)\")\n",
    "\n",
    "vx = SC_vx\n",
    "vy = SC_vy\n",
    "vz = SC_vz\n",
    "ve = SC_ve\n",
    "vi = SC_vi\n",
    "vm = SC_vm\n",
    "vt = SC_vt\n",
    "vtErr = SC_vtErr\n",
    "bx = SC_bx\n",
    "by = SC_by\n",
    "bz = SC_bz\n",
    "be = SC_be\n",
    "new_bt, new_btErr = barTime(vx, vy, vz, ve, vt, vm, bx, by, bz)\n",
    "CALO_time = new_bt\n",
    "tMTD = SC_tMTD\n",
    "\n",
    "boundx = SC_boundx\n",
    "boundy = SC_boundy\n",
    "boundz = SC_boundz\n",
    "boundary_time = SC_boundary_time\n",
    "\n",
    "# minX = ak.min((vx[eid][tr_id], boundx[eid][tr_id]))\n",
    "# maxX = ak.max((vx[eid][tr_id], boundx[eid][tr_id]))\n",
    "#ax.set_xlim(minX, maxX)\n",
    "\n",
    "# ax.set_xlim(ak.min((vx[eid][tr_id], boundx[eid][tr_id])), ak.max((vx[eid][tr_id], boundx[eid][tr_id])))\n",
    "# ax.set_zlim(ak.min((vy[eid][tr_id], boundy[eid][tr_id])), ak.max((vy[eid][tr_id], boundy[eid][tr_id])))\n",
    "# ax.set_ylim(ak.min((Z_boundary-10, ak.min(CP_vz[eid]))), ak.max((Z_boundary+10, ak.max(CP_vz[eid]))))\n",
    "# plot the trackster \n",
    "ax.scatter(vx[eid][tr_id], vz[eid][tr_id], vy[eid][tr_id], s=8*ve[eid][tr_id], alpha=0.2)\n",
    "    \n",
    "# plot the boundary\n",
    "xx, yy = np.meshgrid(np.linspace(ak.min((vx[eid][tr_id], boundx[eid][tr_id])), ak.max((vx[eid][tr_id], boundx[eid][tr_id])), 10), \n",
    "                     np.linspace(ak.min((vy[eid][tr_id], boundy[eid][tr_id])), ak.max((vy[eid][tr_id], boundy[eid][tr_id])), 10))\n",
    "ax.plot_surface(xx, np.ones((10,10))*boundz[eid][tr_id], yy, color='forestgreen', alpha=0.35)\n",
    "\n",
    "nodes = time_pca(vx, vy, vz, ve, vt, vi,\n",
    "                 bx, by, bz, be, CALO_time, \n",
    "                 ev=eid, tr_id=tr_id)\n",
    "\n",
    "# plot the PCA\n",
    "#nodes = np.array(sorted(nodes,key=lambda x: abs(x[2]))) #sort by z\n",
    "for i, n in enumerate(nodes):\n",
    "    ax.scatter(n[0], n[2], n[1], s=10, c='red')\n",
    "    ax.text(n[0], n[2], n[1], '%.3f ns' % (n[3]), size = 12)\n",
    "    if i+1 != len(nodes):\n",
    "        ax.plot([n[0], nodes[i+1][0]], [n[2], nodes[i+1][2]], [n[1], nodes[i+1][1]], c='red')\n",
    "\n",
    "# truth\n",
    "ax.scatter(boundx[eid][tr_id], boundz[eid][tr_id], boundy[eid][tr_id], marker='x', s=20, c='darkgreen')\n",
    "ax.text(boundx[eid][tr_id], boundz[eid][tr_id], boundy[eid][tr_id], 'Truth: %.3f ns' % (boundary_time[eid][tr_id]), \n",
    "        size = 12, horizontalalignment='right', verticalalignment='bottom', color='darkgreen')\n",
    "    \n",
    "# draw ETL\n",
    "a = (ak.min((vx[eid][tr_id], boundx[eid][tr_id])), ak.min((vy[eid][tr_id], boundy[eid][tr_id])), \n",
    "     np.sign(vz[eid][tr_id][0])*ak.min(abs(ETL_vz[eid]))) # p1\n",
    "b = (ak.max((vx[eid][tr_id], boundx[eid][tr_id])), ak.max((vy[eid][tr_id], boundy[eid][tr_id])), \n",
    "     np.sign(vz[eid][tr_id][0])*ak.max(abs(ETL_vz[eid])))  # p2\n",
    "plot_cube(a, b, ax)\n",
    "\n",
    "# ETL clusters \n",
    "zeta    = 999\n",
    "index   = -1\n",
    "for i in range(len(ETL_vx[eid])):\n",
    "    if np.sign(vz[eid][tr_id][0])==np.sign(ETL_vz[eid][i]):\n",
    "        d0 = distance_point_to_segment(np.array([ETL_vx[eid][i], ETL_vy[eid][i], ETL_vz[eid][i]]), \n",
    "                                       np.array([boundx[eid][tr_id], boundy[eid][tr_id], boundz[eid][tr_id]]), \n",
    "                                       np.array(nodes[0][:3]))\n",
    "        if d0 < 1:\n",
    "            #ax.text(ETL_vx[eid][i], ETL_vz[eid][i], ETL_vy[eid][i], '%.3f ns' % (ETL_time[eid][i]), size = 12)\n",
    "            ax.scatter(ETL_vx[eid][i], ETL_vz[eid][i], ETL_vy[eid][i], marker='o', s=20, c='blue')\n",
    "        # find the innermost hit\n",
    "            if ETL_vz[eid][i] < zeta:\n",
    "                index = i\n",
    "                zeta = ETL_vz[eid][i]   \n",
    "if index != -1 and ntracks and tMTD[eid][trackPos]>0: \n",
    "    # new ETL tMtd time (old was ETL_time[eid][index])\n",
    "    ax.text(ETL_vx[eid][index], ETL_vz[eid][index], ETL_vy[eid][index], '%.3f ns' % (tMTD[eid][trackPos][0]), size = 12)\n",
    "elif index != -1:\n",
    "    ax.text(ETL_vx[eid][index], ETL_vz[eid][index], ETL_vy[eid][index], 'old: %.3f ns' % (ETL_time[eid][index]), size = 12)\n",
    "\n",
    "# propagate time from PCA to ETL\n",
    "bound = np.array([boundx[eid][tr_id], boundy[eid][tr_id], boundz[eid][tr_id], boundary_time[eid][tr_id]]).T\n",
    "T = (bound[2] - nodes[0][2])/(nodes[-1][2] - nodes[0][2]) \n",
    "\n",
    "projection = nodes[0][:3] + T*(nodes[-1][:3] - nodes[0][:3])\n",
    "\n",
    "if(ntracks):\n",
    "    v = C * ETL_beta[eid][trackIdx]\n",
    "    if v > 0:\n",
    "    # d2pca = np.linalg.norm(nodes[0][:3])\n",
    "    # v2pca = d2pca / (nodes[0][3]- 0.5*i)\n",
    "        dproj2pca = np.linalg.norm(nodes[0][:3] - projection) # from the projection to the beginning of the PCA\n",
    "        tproj2pca = dproj2pca / v\n",
    "        time2proj = nodes[0][3] - tproj2pca \n",
    "        ax.text(projection[0], projection[2], projection[1], 'Prop: %.3f ns' % (time2proj), \n",
    "                size = 12, horizontalalignment='right', verticalalignment='top', color='red')\n",
    "    else:\n",
    "        print('v=0')\n",
    "\n",
    "ax.scatter(projection[0], projection[2], projection[1], s=20, c='red')#, label='Prop: %.3f ns' % (time2proj))\n",
    "ax.plot([projection[0], nodes[-1][0]], [projection[2], nodes[-1][2]], [projection[1], nodes[-1][1]], c='black', linestyle='dashed', alpha=0.5) \n",
    "\n",
    "#set_axes_equal(ax)\n",
    "# plt.legend()\n",
    "ax.set_ylim(-400, - 290)\n",
    "plt.show()"
   ]
  },
  {
   "cell_type": "code",
   "execution_count": 29,
   "id": "f7004bad",
   "metadata": {},
   "outputs": [
    {
     "data": {
      "text/plain": [
       "<Array [0, 1] type='2 * float32'>"
      ]
     },
     "execution_count": 29,
     "metadata": {},
     "output_type": "execute_result"
    }
   ],
   "source": [
    "ETL_beta[eid]"
   ]
  },
  {
   "cell_type": "markdown",
   "id": "c26635fa",
   "metadata": {},
   "source": [
    "## errors"
   ]
  },
  {
   "cell_type": "code",
   "execution_count": 26,
   "id": "491db6a2",
   "metadata": {},
   "outputs": [
    {
     "name": "stdout",
     "output_type": "stream",
     "text": [
      "83 no tracks\n",
      "113 no tracks\n",
      "181 no tracks\n",
      "183 no tracks\n",
      "225 no tracks\n",
      "228 no tracks\n",
      "247 no tracks\n"
     ]
    }
   ],
   "source": [
    "def associated_tracks2(tr_idx):\n",
    "    l = len(tr_idx[tr_idx>-0.5])\n",
    "    if l==0:\n",
    "        return False\n",
    "    else:\n",
    "        return True \n",
    "\n",
    "for i in range(300):\n",
    "    if not associated_tracks2(SC_trIdx[i]):\n",
    "        print(i, 'no tracks')"
   ]
  },
  {
   "cell_type": "code",
   "execution_count": 36,
   "id": "1f25a9ea",
   "metadata": {},
   "outputs": [
    {
     "name": "stdout",
     "output_type": "stream",
     "text": [
      "34 1\n",
      "v=0\n",
      "58 24\n",
      "Small trackster\n",
      "v=0\n",
      "Small trackster\n",
      "v=0\n",
      "81 0\n",
      "84 0\n",
      "90 48\n",
      "116 59\n",
      "v=0\n",
      "Small trackster\n",
      "Small trackster\n",
      "Small trackster\n",
      "Small trackster\n",
      "116 61\n"
     ]
    },
    {
     "name": "stderr",
     "output_type": "stream",
     "text": [
      "/eos/user/a/aperego/.local/lib/python3.9/site-packages/wpca/wpca.py:108: RuntimeWarning: invalid value encountered in true_divide\n",
      "  self.explained_variance_ratio_ = evals[::-1] / covar.trace()\n"
     ]
    },
    {
     "name": "stdout",
     "output_type": "stream",
     "text": [
      "v=0\n",
      "v=0\n",
      "v=0\n",
      "v=0\n",
      "171 0\n",
      "182 72\n",
      "Small trackster\n",
      "Empty event 182 6\n",
      "v=0\n",
      "v=0\n",
      "Small trackster\n",
      "v=0\n",
      "Small trackster\n",
      "194 59\n",
      "194 51\n",
      "194 22\n",
      "Small trackster\n",
      "Small trackster\n",
      "Small trackster\n"
     ]
    },
    {
     "name": "stderr",
     "output_type": "stream",
     "text": [
      "/eos/user/a/aperego/.local/lib/python3.9/site-packages/wpca/wpca.py:108: RuntimeWarning: invalid value encountered in true_divide\n",
      "  self.explained_variance_ratio_ = evals[::-1] / covar.trace()\n"
     ]
    },
    {
     "name": "stdout",
     "output_type": "stream",
     "text": [
      "198 45\n",
      "v=0\n",
      "Small trackster\n",
      "Small trackster\n"
     ]
    },
    {
     "name": "stderr",
     "output_type": "stream",
     "text": [
      "/eos/user/a/aperego/.local/lib/python3.9/site-packages/wpca/wpca.py:108: RuntimeWarning: invalid value encountered in true_divide\n",
      "  self.explained_variance_ratio_ = evals[::-1] / covar.trace()\n"
     ]
    },
    {
     "name": "stdout",
     "output_type": "stream",
     "text": [
      "Small trackster\n",
      "v=0\n",
      "259 0\n",
      "skipped 59\n"
     ]
    }
   ],
   "source": [
    "residual_distance = []\n",
    "residual_time     = []\n",
    "residual_speed    = []\n",
    "one_node=0\n",
    "for eid in range(300):\n",
    "    tracks = SC_trIdx[eid]\n",
    "    ntracks = associated_tracks2(SC_trIdx[eid])\n",
    "    if(not ntracks):\n",
    "        continue\n",
    "    for i in range(int(np.max(tracks))):  \n",
    "        trackPos = np.where(SC_trIdx[eid]==i)[0]\n",
    "        if(len(trackPos)==0):\n",
    "            continue\n",
    "        tr_id = trackPos[0]\n",
    "        if(len(ve[eid][tr_id])==0):\n",
    "            print('Empty event', eid ,tr_id)\n",
    "            continue\n",
    "        nodes = time_pca(vx[vt>-99], vy[vt>-99], vz[vt>-99], ve[vt>-99], vt[vt>-99], vi[vt>-99],\n",
    "                 bx, by, bz, be, CALO_time, \n",
    "                 ev=eid, tr_id=tr_id)\n",
    "           \n",
    "        nodes = np.array(sorted(nodes,key=lambda x: abs(x[2]))) #sort by z\n",
    "        if(len(nodes)==1):\n",
    "            #print('Only 1 node, no direction')\n",
    "            one_node +=1\n",
    "            continue\n",
    "#         if(str(CALO_time[eid][tr_id])=='nan'):\n",
    "#             print('trackster time nan', eid, tr_id)\n",
    "#             continue\n",
    "        bound = np.array([boundx[eid][tr_id], boundy[eid][tr_id], boundz[eid][tr_id], boundary_time[eid][tr_id]]).T\n",
    "        T = (bound[2] - nodes[0][2])/(nodes[-1][2] - nodes[0][2]) \n",
    "\n",
    "        projection = nodes[0][:3] + T*(nodes[-1][:3] - nodes[0][:3])\n",
    "        \n",
    "        v = C * ETL_beta[eid][i]\n",
    "        if v > 0:\n",
    "            dproj2pca = np.linalg.norm(nodes[0][:3] - projection) # from the projection to the beginning of the PCA\n",
    "            tproj2pca = dproj2pca / v\n",
    "            time2proj = nodes[0][3] - tproj2pca \n",
    "        else:\n",
    "            print('v=0')\n",
    "            continue\n",
    "        if (np.linalg.norm(projection - bound[:3]) > 10):\n",
    "            print(eid, tr_id)\n",
    "        residual_distance.append(np.linalg.norm(projection - bound[:3]))\n",
    "        residual_time.append(bound[3] - time2proj)\n",
    "        residual_speed.append(v)\n",
    "\n",
    "residual_distance=np.array(residual_distance)\n",
    "residual_time=np.array(residual_time)\n",
    "residual_speed=np.array(residual_speed)\n",
    "print(f'skipped {one_node}')"
   ]
  },
  {
   "cell_type": "code",
   "execution_count": 1,
   "id": "69971a28",
   "metadata": {},
   "outputs": [
    {
     "ename": "NameError",
     "evalue": "name 'nphist' is not defined",
     "output_type": "error",
     "traceback": [
      "\u001b[0;31m---------------------------------------------------------------------------\u001b[0m",
      "\u001b[0;31mNameError\u001b[0m                                 Traceback (most recent call last)",
      "\u001b[0;32m/tmp/ipykernel_1013/282184520.py\u001b[0m in \u001b[0;36m<module>\u001b[0;34m\u001b[0m\n\u001b[0;32m----> 1\u001b[0;31m \u001b[0mnphist\u001b[0m\u001b[0;34m(\u001b[0m\u001b[0mresidual_time\u001b[0m\u001b[0;34m[\u001b[0m\u001b[0mresidual_distance\u001b[0m\u001b[0;34m<\u001b[0m\u001b[0;36m50\u001b[0m\u001b[0;34m]\u001b[0m\u001b[0;34m,\u001b[0m \u001b[0mtitle\u001b[0m\u001b[0;34m=\u001b[0m\u001b[0;34m'residual time'\u001b[0m\u001b[0;34m)\u001b[0m\u001b[0;34m\u001b[0m\u001b[0;34m\u001b[0m\u001b[0m\n\u001b[0m",
      "\u001b[0;31mNameError\u001b[0m: name 'nphist' is not defined"
     ]
    }
   ],
   "source": [
    "nphist(residual_time[residual_distance<50], title='residual time')"
   ]
  },
  {
   "cell_type": "code",
   "execution_count": 34,
   "id": "7353ab0b",
   "metadata": {},
   "outputs": [
    {
     "data": {
      "application/vnd.jupyter.widget-view+json": {
       "model_id": "e3dfa5e56d904d20b01a12822efe813e",
       "version_major": 2,
       "version_minor": 0
      },
      "text/plain": [
       "Canvas(toolbar=Toolbar(toolitems=[('Home', 'Reset original view', 'home', 'home'), ('Back', 'Back to previous …"
      ]
     },
     "metadata": {},
     "output_type": "display_data"
    }
   ],
   "source": [
    "nphist(residual_distance[residual_distance<50], title='residual distance', xlabel='d (cm)')"
   ]
  },
  {
   "cell_type": "code",
   "execution_count": 37,
   "id": "5cd37cc3",
   "metadata": {},
   "outputs": [
    {
     "data": {
      "application/vnd.jupyter.widget-view+json": {
       "model_id": "ed8784e9da454c0e8504f3ebd8fed8c3",
       "version_major": 2,
       "version_minor": 0
      },
      "text/plain": [
       "Canvas(toolbar=Toolbar(toolitems=[('Home', 'Reset original view', 'home', 'home'), ('Back', 'Back to previous …"
      ]
     },
     "metadata": {},
     "output_type": "display_data"
    }
   ],
   "source": [
    "nphist(residual_distance[residual_distance<50], title='residual distance', xlabel='d (cm)')"
   ]
  },
  {
   "cell_type": "code",
   "execution_count": 75,
   "id": "c168a2c4",
   "metadata": {},
   "outputs": [
    {
     "data": {
      "application/vnd.jupyter.widget-view+json": {
       "model_id": "6ab8e686585349c8879f701c264defcd",
       "version_major": 2,
       "version_minor": 0
      },
      "text/plain": [
       "Canvas(toolbar=Toolbar(toolitems=[('Home', 'Reset original view', 'home', 'home'), ('Back', 'Back to previous …"
      ]
     },
     "metadata": {},
     "output_type": "display_data"
    }
   ],
   "source": [
    "nphist(C-residual_speed[residual_distance<50], title='residual speed', xlabel='v (cm/ns)')"
   ]
  },
  {
   "cell_type": "markdown",
   "id": "7d3b2a86",
   "metadata": {},
   "source": [
    "## new barycenter time"
   ]
  },
  {
   "cell_type": "code",
   "execution_count": 30,
   "id": "571b252d",
   "metadata": {},
   "outputs": [],
   "source": [
    "def barTime(vx, vy, vz, ve, vt, vm, bx, by, bz):\n",
    "    x = vx[vt>-99]\n",
    "    y = vy[vt>-99]\n",
    "    z = vz[vt>-99]\n",
    "    e = ve[vt>-99]\n",
    "    t = vt[vt>-99]\n",
    "    m = vm[vt>-99]\n",
    "    d = (x*x + y*y + z*z)**0.5\n",
    "    new_t = t - d/C\n",
    "    # media pesata dei tempi\n",
    "    tot_en = ak.sum(e, axis=2) \n",
    "    w = e / m\n",
    "    mean = ak.sum(new_t * w, axis=2) / ak.sum(w, axis=2) + (bx*bx+by*by+bz*bz)**0.5/C\n",
    "    error = 1. / ((ak.sum(w, axis=2))**0.5)\n",
    "    \n",
    "    return mean, error"
   ]
  },
  {
   "cell_type": "code",
   "execution_count": 29,
   "id": "b293b903",
   "metadata": {},
   "outputs": [
    {
     "ename": "NameError",
     "evalue": "name 'vx' is not defined",
     "output_type": "error",
     "traceback": [
      "\u001b[0;31m---------------------------------------------------------------------------\u001b[0m",
      "\u001b[0;31mNameError\u001b[0m                                 Traceback (most recent call last)",
      "\u001b[0;32m/tmp/ipykernel_774/1270354883.py\u001b[0m in \u001b[0;36m<module>\u001b[0;34m\u001b[0m\n\u001b[0;32m----> 1\u001b[0;31m \u001b[0mnew_bt\u001b[0m\u001b[0;34m,\u001b[0m \u001b[0mnew_btErr\u001b[0m \u001b[0;34m=\u001b[0m \u001b[0mbarTime\u001b[0m\u001b[0;34m(\u001b[0m\u001b[0mvx\u001b[0m\u001b[0;34m,\u001b[0m \u001b[0mvy\u001b[0m\u001b[0;34m,\u001b[0m \u001b[0mvz\u001b[0m\u001b[0;34m,\u001b[0m \u001b[0mve\u001b[0m\u001b[0;34m,\u001b[0m \u001b[0mvt\u001b[0m\u001b[0;34m,\u001b[0m \u001b[0mvm\u001b[0m\u001b[0;34m,\u001b[0m \u001b[0mbx\u001b[0m\u001b[0;34m,\u001b[0m \u001b[0mby\u001b[0m\u001b[0;34m,\u001b[0m \u001b[0mbz\u001b[0m\u001b[0;34m)\u001b[0m\u001b[0;34m\u001b[0m\u001b[0;34m\u001b[0m\u001b[0m\n\u001b[0m",
      "\u001b[0;31mNameError\u001b[0m: name 'vx' is not defined"
     ]
    }
   ],
   "source": [
    "new_bt, new_btErr = barTime(vx, vy, vz, ve, vt, vm, bx, by, bz)"
   ]
  },
  {
   "cell_type": "markdown",
   "id": "c987df88",
   "metadata": {},
   "source": [
    "## average of the first 3 LCs"
   ]
  },
  {
   "cell_type": "code",
   "execution_count": 34,
   "id": "a9c060d6",
   "metadata": {
    "scrolled": false
   },
   "outputs": [
    {
     "name": "stdout",
     "output_type": "stream",
     "text": [
      "There are 12 tracks associated to this event, with indexes [0, 2, 8, 13, 10, 5, 6, 4, 3, 9, 1, 11]\n",
      "Track with index 0\n"
     ]
    },
    {
     "data": {
      "application/vnd.jupyter.widget-view+json": {
       "model_id": "87e5952bae7d435d887fcc5a94d33ecd",
       "version_major": 2,
       "version_minor": 0
      },
      "text/plain": [
       "Canvas(toolbar=Toolbar(toolitems=[('Home', 'Reset original view', 'home', 'home'), ('Back', 'Back to previous …"
      ]
     },
     "metadata": {},
     "output_type": "display_data"
    },
    {
     "name": "stdout",
     "output_type": "stream",
     "text": [
      "Small trackster\n"
     ]
    },
    {
     "name": "stderr",
     "output_type": "stream",
     "text": [
      "/cvmfs/sft.cern.ch/lcg/views/LCG_102b_swan/x86_64-centos7-gcc11-opt/lib/python3.9/site-packages/awkward/_connect/_numpy.py:209: RuntimeWarning: invalid value encountered in true_divide\n",
      "  result = getattr(ufunc, method)(\n",
      "/cvmfs/sft.cern.ch/lcg/views/LCG_102b_swan/x86_64-centos7-gcc11-opt/lib/python3.9/site-packages/awkward/_connect/_numpy.py:209: RuntimeWarning: divide by zero encountered in true_divide\n",
      "  result = getattr(ufunc, method)(\n"
     ]
    }
   ],
   "source": [
    "%matplotlib widget\n",
    "eid = 194\n",
    "\n",
    "ntracks = associated_tracks(SC_trIdx[eid])\n",
    "if(ntracks):\n",
    "    trackPos = np.where(SC_trIdx[eid]==0)[0]\n",
    "    trackIdx=0\n",
    "    while(len(trackPos)==0 and trackIdx<ntracks):\n",
    "        trackIdx+=1\n",
    "        trackPos = np.where(SC_trIdx[eid]==trackIdx)[0]\n",
    "    print(f'Track with index {trackIdx}') \n",
    "    \n",
    "#trackPos=[59]\n",
    "#trackIdx=0\n",
    "tr_id=trackPos[0]\n",
    "\n",
    "fig = plt.figure(figsize=(10,10))\n",
    "ax = fig.add_subplot(111, projection='3d')\n",
    "ax.set_title(f\"Reconstruction of a pion\")\n",
    "ax.set(xlabel=\"x (cm)\", ylabel=\"z (cm)\", zlabel=\"y (cm)\")\n",
    "\n",
    "vx = SC_vx\n",
    "vy = SC_vy\n",
    "vz = SC_vz\n",
    "ve = SC_ve\n",
    "vi = SC_vi\n",
    "vm = SC_vm\n",
    "vt = SC_vt\n",
    "bx = SC_bx\n",
    "by = SC_by\n",
    "bz = SC_bz\n",
    "be = SC_be\n",
    "new_bt, new_btErr = barTime(vx, vy, vz, ve, vt, vm, bx, by, bz)\n",
    "CALO_time = new_bt\n",
    "tMTD = SC_tMTD\n",
    "\n",
    "boundx = SC_boundx\n",
    "boundy = SC_boundy\n",
    "boundz = SC_boundz\n",
    "boundary_time = SC_boundary_time\n",
    "\n",
    "# minX = ak.min((vx[eid][tr_id], boundx[eid][tr_id]))\n",
    "# maxX = ak.max((vx[eid][tr_id], boundx[eid][tr_id]))\n",
    "#ax.set_xlim(minX, maxX)\n",
    "\n",
    "# ax.set_xlim(ak.min((vx[eid][tr_id], boundx[eid][tr_id])), ak.max((vx[eid][tr_id], boundx[eid][tr_id])))\n",
    "# ax.set_zlim(ak.min((vy[eid][tr_id], boundy[eid][tr_id])), ak.max((vy[eid][tr_id], boundy[eid][tr_id])))\n",
    "# ax.set_ylim(ak.min((Z_boundary-10, ak.min(CP_vz[eid]))), ak.max((Z_boundary+10, ak.max(CP_vz[eid]))))\n",
    "    \n",
    "nodes = time_pca(vx, vy, vz, ve, vt, vi,\n",
    "                 bx, by, bz, be, CALO_time, \n",
    "                 ev=eid, tr_id=tr_id)\n",
    "b_coord = np.array([bx[eid][tr_id], by[eid][tr_id], bz[eid][tr_id]])\n",
    "  \n",
    "# plot the trackster \n",
    "for x, y, z, e, t in zip(vx[eid][tr_id], vy[eid][tr_id], vz[eid][tr_id], ve[eid][tr_id], vt[eid][tr_id]):\n",
    "    dist, closest_point = project_lc_to_pca(np.array([x, y, z]), b_coord, nodes[-1][:3])\n",
    "    if(t>-99 and dist<1):\n",
    "        ax.scatter(x, z, y, s=20*e, c='b', alpha=0.5)\n",
    "        ax.text(x, z, y, '%.3f ns' % (t), size=9, c='b')\n",
    "\n",
    "# plot the PCA\n",
    "nodes = np.array(sorted(nodes,key=lambda x: abs(x[2]))) #sort by z\n",
    "for i, n in enumerate(nodes):\n",
    "    ax.scatter(n[0], n[2], n[1], s=10, c='red')\n",
    "    ax.text(n[0], n[2], n[1], '%.3f ns' % (n[3]), size = 12)\n",
    "    if i+1 != len(nodes):\n",
    "        ax.plot([n[0], nodes[i+1][0]], [n[2], nodes[i+1][2]], [n[1], nodes[i+1][1]], c='red')\n",
    "\n",
    "plt.show()"
   ]
  },
  {
   "cell_type": "code",
   "execution_count": 19,
   "id": "da6c673f",
   "metadata": {},
   "outputs": [],
   "source": [
    "# np.unique(sorted(abs(ak.flatten(ak.flatten(vz)))))\n",
    "hgcal_layers = np.array([322.15499878, 323.14898682, 325.21200562,\n",
    "       326.20599365, 328.26901245, 329.26300049, 331.32598877,\n",
    "       332.32000732, 334.38299561, 335.37701416, 337.44000244,\n",
    "       338.43399048, 340.49700928, 341.49099731, 343.5539856 ,\n",
    "       344.54800415, 346.61099243, 347.60501099, 349.99301147,\n",
    "       350.98699951, 353.375     , 354.36898804, 356.75698853,\n",
    "       357.75100708, 360.13900757, 361.13299561, 367.97601318,\n",
    "       374.28100586, 380.58599854, 386.89099121, 393.1960144 ,\n",
    "       399.50100708, 405.80599976, 411.91598511, 412.11099243,\n",
    "       418.2210083 , 418.41598511, 424.52600098, 424.7210083 ,\n",
    "       430.83099365, 431.02600098, 439.05599976, 439.25100708,\n",
    "       447.28100586, 447.47601318, 455.50598145, 455.70098877,\n",
    "       463.73098755, 463.92599487, 471.95599365, 472.15100098,\n",
    "       480.18099976, 480.37600708, 488.40600586, 488.60101318,\n",
    "       496.63098145, 496.82598877, 504.85598755, 505.05099487,\n",
    "       513.08105469, 513.27600098])"
   ]
  },
  {
   "cell_type": "code",
   "execution_count": 18,
   "id": "87238733",
   "metadata": {},
   "outputs": [],
   "source": [
    "def find_nearest(array, value):\n",
    "    array = np.asarray(array)\n",
    "    idx = (np.abs(array - value)).argmin()\n",
    "    return idx"
   ]
  },
  {
   "cell_type": "code",
   "execution_count": 793,
   "id": "c93de749",
   "metadata": {},
   "outputs": [
    {
     "name": "stdout",
     "output_type": "stream",
     "text": [
      "Small trackster\n",
      "no LCs w/ time\n"
     ]
    }
   ],
   "source": [
    "eid=194\n",
    "tr_id=59\n",
    "times = []\n",
    "energies = []\n",
    "nodes = time_pca(vx, vy, vz, ve, vt, vi,\n",
    "                 bx, by, bz, be, CALO_time, \n",
    "                 ev=eid, tr_id=tr_id)\n",
    "nodes = np.array(sorted(nodes,key=lambda x: abs(x[2])))\n",
    "start_index = find_nearest(hgcal_layers, abs(nodes[0][2]))\n",
    "b_coord = np.array([bx[eid][tr_id], by[eid][tr_id], bz[eid][tr_id]])\n",
    "for i in range(3):\n",
    "    mask = np.isclose(np.array(vz[eid][tr_id]), np.sign(nodes[0][2])*hgcal_layers[start_index+i], atol=0.01)    \n",
    "    candidates = np.array([vx[eid][tr_id][mask], vy[eid][tr_id][mask], vz[eid][tr_id][mask], ve[eid][tr_id][mask], vt[eid][tr_id][mask]]).T\n",
    "    for c in candidates:\n",
    "        dist, closest_point = project_lc_to_pca(c[:3], b_coord, nodes[-1][:3])\n",
    "        #print(c , dist)\n",
    "        if(dist<1 and c[4]>-99):\n",
    "            energies.append(c[3])\n",
    "            times.append(c[4] - np.linalg.norm(c[:3] - nodes[0][:3])/C)\n",
    "            # al primo LC o al nodo??\n",
    "            # could be al 1st LC e poi da lì al nodo se serve\n",
    "            # così assegno il tempo al 1st nodo ma dist è al 1st LC\n",
    "if len(times)!=0:\n",
    "    print(times, energies, np.average(times, weights=energies))\n",
    "else:\n",
    "    print('no LCs w/ time')"
   ]
  },
  {
   "cell_type": "code",
   "execution_count": 78,
   "id": "080104ef",
   "metadata": {
    "scrolled": true
   },
   "outputs": [
    {
     "name": "stdout",
     "output_type": "stream",
     "text": [
      "Small trackster\n",
      "Small trackster\n",
      "Small trackster\n",
      "Small trackster\n",
      "Small trackster\n",
      "Small trackster\n",
      "Small trackster\n",
      "Small trackster\n",
      "Small trackster\n",
      "Small trackster\n",
      "Small trackster\n",
      "Empty event 182 6\n",
      "Small trackster\n",
      "Small trackster\n",
      "194 59 11.950252714320879 12.05514418136984\n",
      "Small trackster\n",
      "Small trackster\n"
     ]
    },
    {
     "name": "stderr",
     "output_type": "stream",
     "text": [
      "/eos/user/a/aperego/.local/lib/python3.9/site-packages/wpca/wpca.py:108: RuntimeWarning: invalid value encountered in true_divide\n",
      "  self.explained_variance_ratio_ = evals[::-1] / covar.trace()\n",
      "/eos/user/a/aperego/.local/lib/python3.9/site-packages/wpca/wpca.py:108: RuntimeWarning: invalid value encountered in true_divide\n",
      "  self.explained_variance_ratio_ = evals[::-1] / covar.trace()\n"
     ]
    },
    {
     "name": "stdout",
     "output_type": "stream",
     "text": [
      "Small trackster\n",
      "Small trackster\n",
      "Small trackster\n",
      "Small trackster\n",
      "Small trackster\n",
      "254 0 13.079595022407485 13.44328105784433\n",
      "Small trackster\n",
      "Small trackster\n",
      "Small trackster\n",
      "Small trackster\n"
     ]
    }
   ],
   "source": [
    "old_time = []\n",
    "new_time = []\n",
    "for eid in range(300):\n",
    "    tracks = SC_trIdx[eid]\n",
    "    ntracks = associated_tracks2(SC_trIdx[eid])\n",
    "    if(not ntracks):\n",
    "        continue\n",
    "    for i in range(int(np.max(tracks))):  \n",
    "        trackPos = np.where(SC_trIdx[eid]==i)[0]\n",
    "        if(len(trackPos)==0):\n",
    "            continue\n",
    "        tr_id = trackPos[0]\n",
    "        if(len(ve[eid][tr_id])==0):\n",
    "            print('Empty event', eid ,tr_id)\n",
    "            continue\n",
    "        nodes = time_pca(vx, vy, vz, ve, vt, vi,\n",
    "                 bx, by, bz, be, CALO_time, \n",
    "                 ev=eid, tr_id=tr_id)\n",
    "           \n",
    "        nodes = np.array(sorted(nodes,key=lambda x: abs(x[2]))) #sort by z\n",
    "        \n",
    "        times = []\n",
    "        energies = []\n",
    "        b_coord = np.array([bx[eid][tr_id], by[eid][tr_id], bz[eid][tr_id]])\n",
    "        start_index = find_nearest(hgcal_layers, abs(nodes[0][2]))\n",
    "        for i in range(3):\n",
    "            if start_index+i*int(np.sign(nodes[0][2])) == len(hgcal_layers) or start_index-i<0:\n",
    "                if len(times)==0:\n",
    "                    #print('no LCs with time in the first 3 layers', eid, tr_id)\n",
    "                    break\n",
    "                t=np.average(times, weights=energies)\n",
    "                old_time.append(nodes[0][3])\n",
    "                new_time.append(t)\n",
    "                if (abs(t - nodes[0][3])>0.1):\n",
    "                    print(eid, tr_id, t, nodes[0][3])\n",
    "                break\n",
    "            mask = np.isclose(np.array(vz[eid][tr_id]), np.sign(nodes[0][2])*hgcal_layers[start_index+i], atol=0.01)    \n",
    "            candidates = np.array([vx[eid][tr_id][mask], vy[eid][tr_id][mask], vz[eid][tr_id][mask], ve[eid][tr_id][mask], vt[eid][tr_id][mask]]).T\n",
    "            for c in candidates:\n",
    "                dist, closest_point = project_lc_to_pca(c[:3], b_coord, nodes[-1][:3])\n",
    "                if(dist<1 and c[4]>-99):\n",
    "                    energies.append(c[3])\n",
    "                    times.append(c[4] - np.linalg.norm(c[:3] - nodes[0][:3])/C)\n",
    "                    # al primo LC o al nodo??\n",
    "                    # could be al 1st LC e poi da lì al nodo se serve\n",
    "                    # così assegno il tempo al 1st nodo e dist è al 1st nodo\n",
    "        if len(times)==0:\n",
    "            #print('no LCs with time in the first 3 layers', eid, tr_id)\n",
    "            continue\n",
    "        t=np.average(times, weights=energies)\n",
    "        old_time.append(nodes[0][3])\n",
    "        new_time.append(t)\n",
    "        if (abs(t - nodes[0][3])>0.1):\n",
    "            print(eid, tr_id, t, nodes[0][3])\n",
    "\n",
    "old_time=np.array(old_time)\n",
    "new_time=np.array(new_time)"
   ]
  },
  {
   "cell_type": "code",
   "execution_count": 80,
   "id": "61a39fe4",
   "metadata": {},
   "outputs": [
    {
     "data": {
      "application/vnd.jupyter.widget-view+json": {
       "model_id": "83980763da0842798c654194439f0e7e",
       "version_major": 2,
       "version_minor": 0
      },
      "text/plain": [
       "Canvas(toolbar=Toolbar(toolitems=[('Home', 'Reset original view', 'home', 'home'), ('Back', 'Back to previous …"
      ]
     },
     "metadata": {},
     "output_type": "display_data"
    }
   ],
   "source": [
    "nphist(new_time-old_time, title='pion from the vertex')"
   ]
  },
  {
   "cell_type": "code",
   "execution_count": 77,
   "id": "051e3c28",
   "metadata": {},
   "outputs": [
    {
     "data": {
      "text/plain": [
       "194"
      ]
     },
     "execution_count": 77,
     "metadata": {},
     "output_type": "execute_result"
    }
   ],
   "source": [
    "len(new_time-old_time)"
   ]
  },
  {
   "cell_type": "markdown",
   "id": "16429dc5",
   "metadata": {},
   "source": [
    "## residual"
   ]
  },
  {
   "cell_type": "code",
   "execution_count": 16,
   "id": "35cee415",
   "metadata": {},
   "outputs": [],
   "source": [
    "def average_3_LC_times_old(nodes, hgcal_layers, bx, by, bz, vx, vy, vz, ve, vt, eid, tr_id):\n",
    "    times = []\n",
    "    energies = []\n",
    "    nodes = np.array(sorted(nodes,key=lambda x: abs(x[2])))\n",
    "    start_index = find_nearest(hgcal_layers, abs(nodes[0][2]))\n",
    "    b_coord = np.array([bx[eid][tr_id], by[eid][tr_id], bz[eid][tr_id]])\n",
    "    for i in range(3):\n",
    "        if start_index+i*int(np.sign(nodes[0][2])) == len(hgcal_layers) or start_index-i<0:\n",
    "            if len(times)==0:\n",
    "                print('no LCs with time in the first 3 layers', eid, tr_id)\n",
    "                break\n",
    "            return np.average(times, weights=energies)\n",
    "        mask = np.isclose(np.array(vz[eid][tr_id]), np.sign(nodes[0][2])*hgcal_layers[start_index+i], atol=0.01)    \n",
    "        candidates = np.array([vx[eid][tr_id][mask], vy[eid][tr_id][mask], vz[eid][tr_id][mask], ve[eid][tr_id][mask], vt[eid][tr_id][mask]]).T\n",
    "        for c in candidates:\n",
    "            dist, closest_point = project_lc_to_pca(c[:3], b_coord, nodes[-1][:3])\n",
    "            #print(c , dist)\n",
    "            if(dist<1 and c[4]>-99):\n",
    "                energies.append(c[3])\n",
    "                times.append(c[4] - np.linalg.norm(c[:3] - nodes[0][:3])/C)\n",
    "                # al primo LC o al nodo??\n",
    "                # could be al 1st LC e poi da lì al nodo se serve\n",
    "                # così assegno il tempo al 1st nodo ma dist è al 1st LC\n",
    "    if len(times)!=0:\n",
    "        return np.average(times, weights=energies)\n",
    "    else:\n",
    "        return -1"
   ]
  },
  {
   "cell_type": "code",
   "execution_count": 17,
   "id": "8b83aac4",
   "metadata": {},
   "outputs": [],
   "source": [
    "def average_3_LC_times(nodes, hgcal_layers, bx, by, bz, vx, vy, vz, verr, vt, eid, tr_id):\n",
    "    times = []\n",
    "    errors = []\n",
    "    nodes = np.array(sorted(nodes,key=lambda x: abs(x[2])))\n",
    "    start_index = find_nearest(hgcal_layers, abs(nodes[0][2]))\n",
    "    b_coord = np.array([bx[eid][tr_id], by[eid][tr_id], bz[eid][tr_id]])\n",
    "    for i in range(3):\n",
    "        if start_index+i*int(np.sign(nodes[0][2])) == len(hgcal_layers) or start_index-i<0:\n",
    "            if len(times)==0:\n",
    "                print('no LCs with time in the first 3 layers', eid, tr_id)\n",
    "                break\n",
    "            return np.average(times, weights=errors), np.sqrt(1/np.sum(errors))\n",
    "        mask = np.isclose(np.array(vz[eid][tr_id]), np.sign(nodes[0][2])*hgcal_layers[start_index+i], atol=0.01)    \n",
    "        candidates = np.array([vx[eid][tr_id][mask], vy[eid][tr_id][mask], vz[eid][tr_id][mask], verr[eid][tr_id][mask], vt[eid][tr_id][mask]]).T\n",
    "        for c in candidates:\n",
    "            dist, closest_point = project_lc_to_pca(c[:3], b_coord, nodes[-1][:3])\n",
    "            #print(c , dist)\n",
    "            if(dist<1 and c[4]>-99):\n",
    "                errors.append(1/(c[3])**2)\n",
    "                times.append(c[4] - np.linalg.norm(c[:3] - nodes[0][:3])/C)\n",
    "                # al primo LC o al nodo??\n",
    "                # could be al 1st LC e poi da lì al nodo se serve\n",
    "                # così assegno il tempo al 1st nodo ma dist è al 1st LC\n",
    "    if len(times)!=0:\n",
    "        return np.average(times, weights=errors), np.sqrt(1/np.sum(errors))\n",
    "    else:\n",
    "        return -99., -1."
   ]
  },
  {
   "cell_type": "code",
   "execution_count": 97,
   "id": "49e51c5c",
   "metadata": {},
   "outputs": [
    {
     "name": "stdout",
     "output_type": "stream",
     "text": [
      "9 1\n",
      "no LCs with time in the first 3 layers 9 1\n",
      "v=0\n",
      "no LCs with time in the first 3 layers 48 0\n",
      "no LCs with time in the first 3 layers 56 1\n",
      "58 16\n",
      "58 24\n",
      "58 22\n",
      "Small trackster\n",
      "Small trackster\n",
      "v=0\n",
      "Small trackster\n",
      "Small trackster\n",
      "no LCs with time in the first 3 layers 70 0\n",
      "v=0\n",
      "90 48\n",
      "Small trackster\n",
      "90 40\n",
      "Small trackster\n",
      "90 33\n",
      "v=0\n",
      "no LCs with time in the first 3 layers 109 0\n",
      "v=0\n",
      "Small trackster\n",
      "Small trackster\n",
      "Small trackster\n",
      "116 61\n",
      "v=0\n",
      "v=0\n",
      "v=0\n",
      "v=0\n",
      "no LCs with time in the first 3 layers 173 1\n",
      "182 67\n",
      "v=0\n",
      "Small trackster\n",
      "182 74\n",
      "v=0\n",
      "Small trackster\n",
      "Empty event 182 6\n",
      "v=0\n",
      "v=0\n",
      "Small trackster\n",
      "v=0\n",
      "Small trackster\n",
      "194 59\n",
      "194 57\n",
      "194 55\n",
      "no LCs with time in the first 3 layers 194 22\n",
      "194 48\n",
      "Small trackster\n",
      "198 45\n",
      "Small trackster\n",
      "no LCs with time in the first 3 layers 198 50\n",
      "202 84\n",
      "v=0\n",
      "202 54\n",
      "Small trackster\n",
      "Small trackster\n",
      "Small trackster\n",
      "203 70\n"
     ]
    },
    {
     "name": "stderr",
     "output_type": "stream",
     "text": [
      "/eos/user/a/aperego/.local/lib/python3.9/site-packages/wpca/wpca.py:108: RuntimeWarning: invalid value encountered in true_divide\n",
      "  self.explained_variance_ratio_ = evals[::-1] / covar.trace()\n",
      "/eos/user/a/aperego/.local/lib/python3.9/site-packages/wpca/wpca.py:108: RuntimeWarning: invalid value encountered in true_divide\n",
      "  self.explained_variance_ratio_ = evals[::-1] / covar.trace()\n"
     ]
    },
    {
     "name": "stdout",
     "output_type": "stream",
     "text": [
      "Small trackster\n",
      "no LCs with time in the first 3 layers 219 0\n",
      "no LCs with time in the first 3 layers 231 1\n",
      "v=0\n",
      "no LCs with time in the first 3 layers 252 44\n",
      "Small trackster\n",
      "252 43\n",
      "254 0\n",
      "no LCs with time in the first 3 layers 274 1\n",
      "v=0\n",
      "no LCs with time in the first 3 layers 298 108\n",
      "Small trackster\n",
      "Small trackster\n",
      "v=0\n",
      "Small trackster\n",
      "Small trackster\n"
     ]
    }
   ],
   "source": [
    "residual_distance = []\n",
    "residual_timeNEW  = []\n",
    "residual_timeOLD  = []\n",
    "residual_speed    = []\n",
    "for eid in range(300):\n",
    "    tracks = SC_trIdx[eid]\n",
    "    ntracks = associated_tracks2(SC_trIdx[eid])\n",
    "    if(not ntracks):\n",
    "        continue\n",
    "    for i in range(int(np.max(tracks))):  \n",
    "        trackPos = np.where(SC_trIdx[eid]==i)[0]\n",
    "        if(len(trackPos)==0):\n",
    "            continue\n",
    "        tr_id = trackPos[0]\n",
    "        if(len(ve[eid][tr_id])==0):\n",
    "            print('Empty event', eid ,tr_id)\n",
    "            continue\n",
    "        nodes = time_pca(vx, vy, vz, ve, vt, vi,\n",
    "                 bx, by, bz, be, CALO_time, \n",
    "                 ev=eid, tr_id=tr_id)\n",
    "           \n",
    "        nodes = np.array(sorted(nodes,key=lambda x: abs(x[2]))) #sort by z\n",
    "        if(len(nodes)==1):\n",
    "            #print('Only 1 node, no direction')\n",
    "            continue\n",
    "        bound = np.array([boundx[eid][tr_id], boundy[eid][tr_id], boundz[eid][tr_id], boundary_time[eid][tr_id]]).T\n",
    "        T = (bound[2] - nodes[0][2])/(nodes[-1][2] - nodes[0][2]) \n",
    "\n",
    "        projection = nodes[0][:3] + T*(nodes[-1][:3] - nodes[0][:3])\n",
    "        if (np.linalg.norm(projection - bound[:3]) > 10):\n",
    "            print(eid, tr_id)\n",
    "            \n",
    "        v = C * ETL_beta[eid][i]\n",
    "        if v > 0:\n",
    "            dproj2pca = np.linalg.norm(nodes[0][:3] - projection) # from the projection to the beginning of the PCA\n",
    "            tproj2pca = dproj2pca / v\n",
    "            time2projOLD = nodes[0][3] - tproj2pca \n",
    "            new_time, _ = average_3_LC_times(nodes, hgcal_layers, bx, by, bz, vx, vy, vz, vtErr, vt, eid, tr_id)\n",
    "            time2projNEW = new_time - tproj2pca \n",
    "        else:\n",
    "            print('v=0')\n",
    "            continue\n",
    "\n",
    "        residual_distance.append(np.linalg.norm(projection - bound[:3]))\n",
    "        residual_speed.append(v)\n",
    "        if new_time != -1:\n",
    "            residual_timeOLD.append(bound[3] - time2projOLD)\n",
    "            residual_timeNEW.append(bound[3] - time2projNEW)\n",
    "\n",
    "residual_distance=np.array(residual_distance)\n",
    "residual_timeOLD=np.array(residual_timeOLD)\n",
    "residual_timeNEW=np.array(residual_timeNEW)\n",
    "residual_speed=np.array(residual_speed)"
   ]
  },
  {
   "cell_type": "code",
   "execution_count": 99,
   "id": "8f8300e6",
   "metadata": {},
   "outputs": [
    {
     "data": {
      "application/vnd.jupyter.widget-view+json": {
       "model_id": "5b80c9b70ffc49a2a7dff176e1efe069",
       "version_major": 2,
       "version_minor": 0
      },
      "text/plain": [
       "Canvas(toolbar=Toolbar(toolitems=[('Home', 'Reset original view', 'home', 'home'), ('Back', 'Back to previous …"
      ]
     },
     "metadata": {},
     "output_type": "display_data"
    }
   ],
   "source": [
    "plt.figure(dpi=100)\n",
    "plt.hist(residual_timeOLD[residual_timeNEW<0.5], bins=50, label='OLD', alpha=.7)\n",
    "plt.hist(residual_timeNEW[residual_timeNEW<0.5], bins=50, label='NEW', color='r', histtype='step')\n",
    "plt.grid()\n",
    "plt.legend()\n",
    "plt.title('Tracksters times OLD and NEW')\n",
    "plt.xlabel('time (ns)', size=18)\n",
    "plt.ylabel('Count', size=18)\n",
    "#plt.xlim(-0.5,0.5)\n",
    "plt.show()"
   ]
  },
  {
   "cell_type": "code",
   "execution_count": 28,
   "id": "3f3cec81",
   "metadata": {},
   "outputs": [
    {
     "name": "stdout",
     "output_type": "stream",
     "text": [
      "There are 2 tracks associated to this event, with indexes [1, 0]\n",
      "Track with index 0\n"
     ]
    },
    {
     "data": {
      "application/vnd.jupyter.widget-view+json": {
       "model_id": "2c922c25c39c4a1e8b367ba4ebd234c8",
       "version_major": 2,
       "version_minor": 0
      },
      "text/plain": [
       "Canvas(toolbar=Toolbar(toolitems=[('Home', 'Reset original view', 'home', 'home'), ('Back', 'Back to previous …"
      ]
     },
     "metadata": {},
     "output_type": "display_data"
    }
   ],
   "source": [
    "%matplotlib widget\n",
    "eid = 0\n",
    "\n",
    "ntracks = associated_tracks(SC_trIdx[eid])\n",
    "if(ntracks):\n",
    "    trackPos = np.where(SC_trIdx[eid]==0)[0]\n",
    "    trackIdx=0\n",
    "    while(len(trackPos)==0 and trackIdx<ntracks):\n",
    "        trackIdx+=1\n",
    "        trackPos = np.where(SC_trIdx[eid]==trackIdx)[0]\n",
    "    print(f'Track with index {trackIdx}') \n",
    "    \n",
    "# trackPos=[55]\n",
    "# trackIdx=3\n",
    "tr_id=trackPos[0]\n",
    "\n",
    "fig = plt.figure(figsize=(10,10))\n",
    "ax = fig.add_subplot(111, projection='3d')\n",
    "ax.set_title(f\"Reconstruction of a pion\")\n",
    "ax.set(xlabel=\"x (cm)\", ylabel=\"z (cm)\", zlabel=\"y (cm)\")\n",
    "\n",
    "vx = SC_vx\n",
    "vy = SC_vy\n",
    "vz = SC_vz\n",
    "ve = SC_ve\n",
    "vi = SC_vi\n",
    "vt = SC_vt\n",
    "vm = SC_vm\n",
    "vtErr = SC_vtErr\n",
    "bx = SC_bx\n",
    "by = SC_by\n",
    "bz = SC_bz\n",
    "be = SC_be\n",
    "new_bt, new_btErr = barTime(vx, vy, vz, ve, vt, vm, bx, by, bz)\n",
    "CALO_time = new_bt\n",
    "tMTD = SC_tMTD\n",
    "\n",
    "boundx = SC_boundx\n",
    "boundy = SC_boundy\n",
    "boundz = SC_boundz\n",
    "boundary_time = SC_boundary_time\n",
    "\n",
    "# minX = ak.min((vx[eid][tr_id], boundx[eid][tr_id]))\n",
    "# maxX = ak.max((vx[eid][tr_id], boundx[eid][tr_id]))\n",
    "#ax.set_xlim(minX, maxX)\n",
    "\n",
    "# ax.set_xlim(ak.min((vx[eid][tr_id], boundx[eid][tr_id])), ak.max((vx[eid][tr_id], boundx[eid][tr_id])))\n",
    "# ax.set_zlim(ak.min((vy[eid][tr_id], boundy[eid][tr_id])), ak.max((vy[eid][tr_id], boundy[eid][tr_id])))\n",
    "# ax.set_ylim(ak.min((Z_boundary-10, ak.min(CP_vz[eid]))), ak.max((Z_boundary+10, ak.max(CP_vz[eid]))))\n",
    "# plot the trackster \n",
    "ax.scatter(vx[eid][tr_id], vz[eid][tr_id], vy[eid][tr_id], s=8*ve[eid][tr_id], alpha=0.2)\n",
    "    \n",
    "# plot the boundary\n",
    "xx, yy = np.meshgrid(np.linspace(ak.min((vx[eid][tr_id], boundx[eid][tr_id])), ak.max((vx[eid][tr_id], boundx[eid][tr_id])), 10), \n",
    "                     np.linspace(ak.min((vy[eid][tr_id], boundy[eid][tr_id])), ak.max((vy[eid][tr_id], boundy[eid][tr_id])), 10))\n",
    "ax.plot_surface(xx, np.ones((10,10))*boundz[eid][tr_id], yy, color='forestgreen', alpha=0.35)\n",
    "\n",
    "nodes = time_pca(vx, vy, vz, ve, vt, vi,\n",
    "                 bx, by, bz, be, new_bt, \n",
    "                 ev=eid, tr_id=tr_id)\n",
    "\n",
    "nodes[0][3], _ = average_3_LC_times(nodes, hgcal_layers, bx, by, bz, vx, vy, vz, vtErr, vt, eid, tr_id)\n",
    "# plot the PCA\n",
    "#nodes = np.array(sorted(nodes,key=lambda x: abs(x[2]))) #sort by z\n",
    "for i, n in enumerate(nodes):\n",
    "    ax.scatter(n[0], n[2], n[1], s=10, c='red')\n",
    "    ax.text(n[0], n[2], n[1], '%.3f ns' % (n[3]), size = 12)\n",
    "    if i+1 != len(nodes):\n",
    "        ax.plot([n[0], nodes[i+1][0]], [n[2], nodes[i+1][2]], [n[1], nodes[i+1][1]], c='red')\n",
    "\n",
    "# truth\n",
    "ax.scatter(boundx[eid][tr_id], boundz[eid][tr_id], boundy[eid][tr_id], marker='x', s=20, c='darkgreen')\n",
    "ax.text(boundx[eid][tr_id], boundz[eid][tr_id], boundy[eid][tr_id], 'Truth: %.3f ns' % (boundary_time[eid][tr_id]), \n",
    "        size = 12, horizontalalignment='right', verticalalignment='bottom', color='darkgreen')\n",
    "    \n",
    "# draw ETL\n",
    "a = (ak.min((vx[eid][tr_id], boundx[eid][tr_id])), ak.min((vy[eid][tr_id], boundy[eid][tr_id])), \n",
    "     np.sign(vz[eid][tr_id][0])*ak.min(abs(ETL_vz[eid]))) # p1\n",
    "b = (ak.max((vx[eid][tr_id], boundx[eid][tr_id])), ak.max((vy[eid][tr_id], boundy[eid][tr_id])), \n",
    "     np.sign(vz[eid][tr_id][0])*ak.max(abs(ETL_vz[eid])))  # p2\n",
    "plot_cube(a, b, ax)\n",
    "\n",
    "# ETL clusters \n",
    "zeta    = 999\n",
    "index   = -1\n",
    "for i in range(len(ETL_vx[eid])):\n",
    "    if np.sign(vz[eid][tr_id][0])==np.sign(ETL_vz[eid][i]):\n",
    "        d0 = distance_point_to_segment(np.array([ETL_vx[eid][i], ETL_vy[eid][i], ETL_vz[eid][i]]), \n",
    "                                       np.array([boundx[eid][tr_id], boundy[eid][tr_id], boundz[eid][tr_id]]), \n",
    "                                       np.array(nodes[0][:3]))\n",
    "        if d0 < 1:\n",
    "            #ax.text(ETL_vx[eid][i], ETL_vz[eid][i], ETL_vy[eid][i], '%.3f ns' % (ETL_time[eid][i]), size = 12)\n",
    "            ax.scatter(ETL_vx[eid][i], ETL_vz[eid][i], ETL_vy[eid][i], marker='o', s=20, c='blue')\n",
    "        # find the innermost hit\n",
    "            if ETL_vz[eid][i] < zeta:\n",
    "                index = i\n",
    "                zeta = ETL_vz[eid][i]   \n",
    "if index != -1 and ntracks and tMTD[eid][trackPos]>0: \n",
    "    # new ETL tMtd time (old was ETL_time[eid][index])\n",
    "    ax.text(ETL_vx[eid][index], ETL_vz[eid][index], ETL_vy[eid][index], '%.3f ns' % (tMTD[eid][trackPos][0]), size = 12)\n",
    "elif index != -1:\n",
    "    ax.text(ETL_vx[eid][index], ETL_vz[eid][index], ETL_vy[eid][index], 'old: %.3f ns' % (ETL_time[eid][index]), size = 12)\n",
    "\n",
    "# propagate time from PCA to ETL\n",
    "bound = np.array([boundx[eid][tr_id], boundy[eid][tr_id], boundz[eid][tr_id], boundary_time[eid][tr_id]]).T\n",
    "T = (bound[2] - nodes[0][2])/(nodes[-1][2] - nodes[0][2]) \n",
    "\n",
    "projection = nodes[0][:3] + T*(nodes[-1][:3] - nodes[0][:3])\n",
    "\n",
    "if(ntracks):\n",
    "    v = C * ETL_beta[eid][trackIdx]\n",
    "    if v > 0:\n",
    "    # d2pca = np.linalg.norm(nodes[0][:3])\n",
    "    # v2pca = d2pca / (nodes[0][3]- 0.5*i)\n",
    "        dproj2pca = np.linalg.norm(nodes[0][:3] - projection) # from the projection to the beginning of the PCA\n",
    "        tproj2pca = dproj2pca / v\n",
    "        time2proj = nodes[0][3] - tproj2pca \n",
    "        ax.text(projection[0], projection[2], projection[1], 'Prop: %.3f ns' % (time2proj), \n",
    "                size = 12, horizontalalignment='right', verticalalignment='top', color='red')\n",
    "    else:\n",
    "        print('v=0')\n",
    "\n",
    "ax.scatter(projection[0], projection[2], projection[1], s=20, c='red')#, label='Prop: %.3f ns' % (time2proj))\n",
    "ax.plot([projection[0], nodes[-1][0]], [projection[2], nodes[-1][2]], [projection[1], nodes[-1][1]], c='black', linestyle='dashed', alpha=0.5) \n",
    "\n",
    "#set_axes_equal(ax)\n",
    "# plt.legend()\n",
    "#ax.set_ylim(-400, - 290)\n",
    "plt.show()"
   ]
  },
  {
   "cell_type": "code",
   "execution_count": null,
   "id": "218394f4",
   "metadata": {},
   "outputs": [],
   "source": []
  }
 ],
 "metadata": {
  "kernelspec": {
   "display_name": "Python 3",
   "language": "python",
   "name": "python3"
  },
  "language_info": {
   "codemirror_mode": {
    "name": "ipython",
    "version": 3
   },
   "file_extension": ".py",
   "mimetype": "text/x-python",
   "name": "python",
   "nbconvert_exporter": "python",
   "pygments_lexer": "ipython3",
   "version": "3.9.12"
  }
 },
 "nbformat": 4,
 "nbformat_minor": 5
}
